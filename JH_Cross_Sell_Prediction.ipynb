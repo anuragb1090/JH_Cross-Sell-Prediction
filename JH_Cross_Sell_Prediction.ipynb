{
  "nbformat": 4,
  "nbformat_minor": 0,
  "metadata": {
    "colab": {
      "name": "JH_Cross-Sell Prediction",
      "provenance": [],
      "collapsed_sections": [
        "ylkGfTT4L7u5",
        "uYQpN7V_LyJv",
        "RFWzM1-aZQ3F",
        "gGVAm8bXa0rk",
        "VmC_8Rb1zEzc",
        "Tmvob0DZ2vkC",
        "bRR87lBi1dZP",
        "I1AgajjZMSYj"
      ],
      "authorship_tag": "ABX9TyPMYL/PCdUOzi9c2+97LFC3"
    },
    "kernelspec": {
      "name": "python3",
      "display_name": "Python 3"
    }
  },
  "cells": [
    {
      "cell_type": "code",
      "metadata": {
        "id": "7K2b8_gV0mpx",
        "colab_type": "code",
        "colab": {}
      },
      "source": [
        "!pip -q install catboost"
      ],
      "execution_count": null,
      "outputs": []
    },
    {
      "cell_type": "code",
      "metadata": {
        "id": "V-MQtFByS_Ll",
        "colab_type": "code",
        "colab": {}
      },
      "source": [
        "import pandas as pd\n",
        "import numpy as np\n",
        "import matplotlib\n",
        "import matplotlib.pyplot as plt\n",
        "import seaborn as sns\n",
        "\n",
        "from sklearn.preprocessing import StandardScaler, OneHotEncoder\n",
        "from sklearn.model_selection import StratifiedKFold, train_test_split\n",
        "from sklearn.model_selection import GridSearchCV\n",
        "from sklearn.metrics import roc_auc_score\n",
        "\n",
        "# from xgboost import XGBClassifier, plot_importance\n",
        "from lightgbm import LGBMClassifier, plot_importance\n",
        "from catboost import CatBoostClassifier\n",
        "from sklearn.linear_model import LogisticRegression\n",
        "\n",
        "import keras\n",
        "from keras.models import Sequential\n",
        "from keras.layers import Dense, Dropout, Activation\n",
        "from keras.optimizers import SGD\n",
        "\n",
        "matplotlib.rc('xtick', labelsize=15)"
      ],
      "execution_count": null,
      "outputs": []
    },
    {
      "cell_type": "code",
      "metadata": {
        "id": "AasH2X2pXD1u",
        "colab_type": "code",
        "colab": {
          "base_uri": "https://localhost:8080/",
          "height": 53
        },
        "outputId": "8ac10e51-1268-4ce3-b9a0-9ff351431e56"
      },
      "source": [
        "train = pd.read_csv('/train.csv')\n",
        "test = pd.read_csv('/test.csv')\n",
        "\n",
        "print(f'Train shape: {train.shape}')\n",
        "print(f'Test shape: {test.shape}')\n",
        "\n",
        "train.columns = [c.lower() for c in train.columns.values]\n",
        "test.columns = [c.lower() for c in test.columns.values]"
      ],
      "execution_count": null,
      "outputs": [
        {
          "output_type": "stream",
          "text": [
            "Train shape: (381109, 12)\n",
            "Test shape: (127037, 11)\n"
          ],
          "name": "stdout"
        }
      ]
    },
    {
      "cell_type": "code",
      "metadata": {
        "id": "qsPnAmp3XSEA",
        "colab_type": "code",
        "colab": {
          "base_uri": "https://localhost:8080/",
          "height": 53
        },
        "outputId": "7bcbae36-fdfb-4e83-d787-cab684088026"
      },
      "source": [
        "print(f'Does Train have any null values?: {train.isnull().sum().any()}')\n",
        "print(f'Does Test have any null values?: {test.isnull().sum().any()}')"
      ],
      "execution_count": null,
      "outputs": [
        {
          "output_type": "stream",
          "text": [
            "Does Train have any null values?: False\n",
            "Does Test have any null values?: False\n"
          ],
          "name": "stdout"
        }
      ]
    },
    {
      "cell_type": "code",
      "metadata": {
        "id": "wFJ0oD-KeE4O",
        "colab_type": "code",
        "colab": {
          "base_uri": "https://localhost:8080/",
          "height": 35
        },
        "outputId": "ce0b4071-7acd-463f-8815-dbae5bd33e85"
      },
      "source": [
        "train['train'] = 1\n",
        "test['train'] = 0\n",
        "\n",
        "unified = pd.concat([train, test], axis=0)\n",
        "unified.shape"
      ],
      "execution_count": null,
      "outputs": [
        {
          "output_type": "execute_result",
          "data": {
            "text/plain": [
              "(508146, 13)"
            ]
          },
          "metadata": {
            "tags": []
          },
          "execution_count": 62
        }
      ]
    },
    {
      "cell_type": "markdown",
      "metadata": {
        "id": "ylkGfTT4L7u5",
        "colab_type": "text"
      },
      "source": [
        "## EDA"
      ]
    },
    {
      "cell_type": "code",
      "metadata": {
        "id": "IqFK9An3XVs9",
        "colab_type": "code",
        "colab": {
          "base_uri": "https://localhost:8080/"
        },
        "outputId": "196b094d-9c04-40fc-d48a-8ec99a53db3d"
      },
      "source": [
        "fig, ax = plt.subplots(4, 2, figsize=(30,20))\n",
        "\n",
        "cols = train.columns.values.tolist()\n",
        "cols = [c for c in cols if c not in ('id', 'age', 'annual_premium',\n",
        "                                     'vintage', 'response')]\n",
        "\n",
        "for i in range(len(cols)):\n",
        "  tmp = train.groupby([cols[i], 'response'])['id'].count().reset_index().\\\n",
        "                                rename(columns={'id':'num_users'}).\\\n",
        "                                sort_values(by='num_users', ascending=False)\n",
        "\n",
        "  sns.barplot(x=tmp[cols[i]], y=tmp['num_users'], hue=tmp['response'], ax=ax[int(i/2)][i%2])\n",
        "  ax[int(i/2)][i%2].set_title(f'Plot for {cols[i]}', fontsize=20)"
      ],
      "execution_count": null,
      "outputs": [
        {
          "output_type": "display_data",
          "data": {
            "image/png": "[encoded data removed]",
            "text/plain": [
              "<Figure size 2160x1440 with 8 Axes>"
            ]
          },
          "metadata": {
            "tags": [],
            "needs_background": "light"
          }
        }
      ]
    },
    {
      "cell_type": "code",
      "metadata": {
        "id": "xuAxOerujTLt",
        "colab_type": "code",
        "colab": {
          "base_uri": "https://localhost:8080/"
        },
        "outputId": "19710a12-d1b2-482d-a478-5571e5750dd7"
      },
      "source": [
        "cont_var = ['age', 'annual_premium', 'vintage']\n",
        "fig, ax = plt.subplots(2,2, figsize=(30,10))\n",
        "\n",
        "for i in range(len(cont_var)):\n",
        "  sns.kdeplot(train.loc[train['response']==0, cont_var[i]], label='0',\n",
        "              ax=ax[int(i/2)][i%2])\n",
        "  sns.kdeplot(train.loc[train['response']==1, cont_var[i]], label='1',\n",
        "              ax=ax[int(i/2)][i%2])\n",
        "\n",
        "  ax[int(i/2)][i%2].set_title(f'KDE plot of {cont_var[i]}', fontsize=20)"
      ],
      "execution_count": null,
      "outputs": [
        {
          "output_type": "display_data",
          "data": {
            "image/png": "[encoded data removed]",
            "text/plain": [
              "<Figure size 2160x720 with 4 Axes>"
            ]
          },
          "metadata": {
            "tags": [],
            "needs_background": "light"
          }
        }
      ]
    },
    {
      "cell_type": "markdown",
      "metadata": {
        "id": "cekebPdSmzPz",
        "colab_type": "text"
      },
      "source": [
        "> Findings of EDA graphs:\n",
        "\n",
        "1. People who dont have car insurance are more likely to buy.\n",
        "2. Car owners with vehicle age 1-2 years will most likely buy.\n",
        "3. If customer damaged their vehicle in the past they are more likely to buy.\n",
        "4. Age in band of 10 years show a distinct pattern between people who bought\n",
        "insurance vs. those who didn't buy."
      ]
    },
    {
      "cell_type": "markdown",
      "metadata": {
        "id": "uYQpN7V_LyJv",
        "colab_type": "text"
      },
      "source": [
        "## Feature Engineering"
      ]
    },
    {
      "cell_type": "markdown",
      "metadata": {
        "id": "RFWzM1-aZQ3F",
        "colab_type": "text"
      },
      "source": [
        "### Binning Continuous Variables"
      ]
    },
    {
      "cell_type": "code",
      "metadata": {
        "id": "Cr7_HDTXrk7n",
        "colab_type": "code",
        "colab": {}
      },
      "source": [
        "# def bin_continuous_vars(df, column, bin_start, bin_end, num_bins, label_list):\n",
        "#   tmp = df.copy()\n",
        "#   tmp[f'binned_{column}'] = pd.cut(x=tmp[column], bins=np.linspace(bin_start,\n",
        "#                                                                    bin_end,\n",
        "#                                                                    num=num_bins),\n",
        "#                                    labels=label_list)\n",
        "  \n",
        "#   return tmp"
      ],
      "execution_count": null,
      "outputs": []
    },
    {
      "cell_type": "code",
      "metadata": {
        "id": "7XnC-4goOONs",
        "colab_type": "code",
        "colab": {}
      },
      "source": [
        "# ann_prem_label_list = ['0-5000', '5000-10000', '10000-15000', '15000-20000',\n",
        "#                        '20000-25000', '25000-30000', '30000-35000', \n",
        "#                        '35000-40000', '40000-45000', '45000-50000',\n",
        "#                        '50000-55000', '55000-60000', '60000-65000',\n",
        "#                        '65000-70000', '70000-75000', '75000-80000',\n",
        "#                        '80000-85000', '85000-90000', '90000-95000', \n",
        "#                        '95000-100000']\n",
        "\n",
        "# age_label_list = ['10-20', '20-30', '30-40', '40-50', \n",
        "#                   '50-60', '60-70', '70-80', '80-90']                       \n",
        "\n",
        "# vintage_label_list = ['0-60', '60-120', '120-180', '180-240', '240-300']\n",
        "\n",
        "# unified = bin_continuous_vars(unified, 'annual_premium', 0, 100000, 21, \n",
        "#                             ann_prem_label_list)\n",
        "# unified = bin_continuous_vars(unified, 'age', 10, 90, 9, \n",
        "#                             age_label_list)\n",
        "# unified = bin_continuous_vars(unified, 'vintage', 0, 300, 6,\n",
        "#                             vintage_label_list)"
      ],
      "execution_count": null,
      "outputs": []
    },
    {
      "cell_type": "code",
      "metadata": {
        "id": "LoRFhfPHOx5-",
        "colab_type": "code",
        "colab": {}
      },
      "source": [
        "# unified.head()"
      ],
      "execution_count": null,
      "outputs": []
    },
    {
      "cell_type": "code",
      "metadata": {
        "id": "G1eQ5llcsmLl",
        "colab_type": "code",
        "colab": {}
      },
      "source": [
        "# print(unified['binned_annual_premium'].isnull().sum().any())\n",
        "# print(unified['binned_age'].isnull().sum().any())\n",
        "# print(unified['binned_vintage'].isnull().sum().any())"
      ],
      "execution_count": null,
      "outputs": []
    },
    {
      "cell_type": "code",
      "metadata": {
        "id": "kXjm13O0UZxt",
        "colab_type": "code",
        "colab": {}
      },
      "source": [
        "# unified['binned_annual_premium'] = unified['binned_annual_premium'].cat.add_categories('>100000')\n",
        "# unified['binned_annual_premium'].fillna('>100000', inplace=True)"
      ],
      "execution_count": null,
      "outputs": []
    },
    {
      "cell_type": "code",
      "metadata": {
        "id": "UQob3djvU3aN",
        "colab_type": "code",
        "colab": {}
      },
      "source": [
        "# annual_premium_bins = {  '0-5000': 0\n",
        "#                        , '5000-10000': 1\n",
        "#                        , '10000-15000': 2\n",
        "#                        , '15000-20000': 3\n",
        "#                        , '20000-25000': 4\n",
        "#                        , '25000-30000': 5\n",
        "#                        , '30000-35000': 6\n",
        "#                        , '35000-40000': 7\n",
        "#                        , '40000-45000': 8\n",
        "#                        , '45000-50000': 9\n",
        "#                        , '50000-55000': 10\n",
        "#                        , '55000-60000': 11\n",
        "#                        , '60000-65000': 12\n",
        "#                        , '65000-70000': 13\n",
        "#                        , '70000-75000': 14\n",
        "#                        , '75000-80000': 15\n",
        "#                        , '80000-85000': 16\n",
        "#                        , '85000-90000': 17\n",
        "#                        , '90000-95000': 18\n",
        "#                        , '95000-100000': 19\n",
        "#                        , '>100000': 20\n",
        "#                        }\n",
        "\n",
        "# age_bins = {  '10-20': 0\n",
        "#             , '20-30': 1\n",
        "#             , '30-40': 2\n",
        "#             , '40-50': 3\n",
        "#             , '50-60': 4\n",
        "#             , '60-70': 5\n",
        "#             , '70-80': 6\n",
        "#             , '80-90': 7\n",
        "#             }                       \n",
        "\n",
        "# vintage_bins = {  '0-60': 0\n",
        "#                 , '60-120': 1\n",
        "#                 , '120-180': 2\n",
        "#                 , '180-240': 3\n",
        "#                 , '240-300':4 \n",
        "#                 }    "
      ],
      "execution_count": null,
      "outputs": []
    },
    {
      "cell_type": "code",
      "metadata": {
        "id": "2F4pHR3aVk7G",
        "colab_type": "code",
        "colab": {}
      },
      "source": [
        "# unified['annual_premium_bins'] = unified['binned_annual_premium'].map(annual_premium_bins)\n",
        "# unified['age_bins'] = unified['binned_age'].map(age_bins)\n",
        "# unified['vintage_bins'] = unified['binned_vintage'].map(vintage_bins)"
      ],
      "execution_count": null,
      "outputs": []
    },
    {
      "cell_type": "code",
      "metadata": {
        "id": "JoRiEf66h7Gq",
        "colab_type": "code",
        "colab": {}
      },
      "source": [
        "# fig, ax = plt.subplots(2,2, figsize=(30, 10))\n",
        "# continuous_var_bins = ['annual_premium_bins', 'age_bins', 'vintage_bins']\n",
        "\n",
        "# train = unified[unified['train']==1]\n",
        "\n",
        "# for i in range(len(continuous_var_bins)):\n",
        "#   sns.kdeplot(train.loc[train['response']==0, continuous_var_bins[i]], label='0',\n",
        "#               ax=ax[int(i/2)][i%2])\n",
        "#   sns.kdeplot(train.loc[train['response']==1, continuous_var_bins[i]], label='1',\n",
        "#               ax=ax[int(i/2)][i%2])\n",
        "#   ax[int(i/2)][i%2].set_title(f'{continuous_var_bins[i]} distribution', \n",
        "#                               fontsize=20)"
      ],
      "execution_count": null,
      "outputs": []
    },
    {
      "cell_type": "markdown",
      "metadata": {
        "id": "LBullbzfZhVb",
        "colab_type": "text"
      },
      "source": [
        "### Binning Categorical Variables"
      ]
    },
    {
      "cell_type": "code",
      "metadata": {
        "id": "EUnU9ra_YjwS",
        "colab_type": "code",
        "colab": {}
      },
      "source": [
        "gender_bins = {  'Male': 0\n",
        "               , 'Female': 1\n",
        "               }\n",
        "\n",
        "vehicle_age_bins = {  '< 1 Year': 0\n",
        "                    , '1-2 Year': 1\n",
        "                    , '> 2 Years': 2\n",
        "                    }\n",
        "\n",
        "vehicle_damage_bins = {  'No': 0\n",
        "                       , 'Yes': 1\n",
        "                      }"
      ],
      "execution_count": null,
      "outputs": []
    },
    {
      "cell_type": "code",
      "metadata": {
        "id": "hOplhyTnaXCr",
        "colab_type": "code",
        "colab": {}
      },
      "source": [
        "unified['gender_bins'] = unified['gender'].map(gender_bins)\n",
        "unified['vehicle_age_bins'] = unified['vehicle_age'].map(vehicle_age_bins)\n",
        "unified['vehicle_damage_bins'] = unified['vehicle_damage'].map(vehicle_damage_bins)"
      ],
      "execution_count": null,
      "outputs": []
    },
    {
      "cell_type": "code",
      "metadata": {
        "id": "ALevq70dbF_b",
        "colab_type": "code",
        "colab": {
          "base_uri": "https://localhost:8080/"
        },
        "outputId": "ed95a15e-4680-40c0-cbb0-ea6b2c5077cc"
      },
      "source": [
        "fig, ax = plt.subplots(2,2, figsize=(30, 10))\n",
        "cat_var_bins = ['gender_bins', 'vehicle_age_bins', 'vehicle_damage_bins']\n",
        "\n",
        "train = unified[unified['train']==1]\n",
        "\n",
        "for i in range(len(cat_var_bins)):\n",
        "  sns.kdeplot(train.loc[train['response']==0, cat_var_bins[i]], label='0',\n",
        "              ax=ax[int(i/2)][i%2])\n",
        "  sns.kdeplot(train.loc[train['response']==1, cat_var_bins[i]], label='1',\n",
        "              ax=ax[int(i/2)][i%2])\n",
        "  ax[int(i/2)][i%2].set_title(f'{cat_var_bins[i]} distribution', \n",
        "                              fontsize=20)"
      ],
      "execution_count": null,
      "outputs": [
        {
          "output_type": "display_data",
          "data": {
            "image/png": "[encoded data removed]",
            "text/plain": [
              "<Figure size 2160x720 with 4 Axes>"
            ]
          },
          "metadata": {
            "tags": [],
            "needs_background": "light"
          }
        }
      ]
    },
    {
      "cell_type": "code",
      "metadata": {
        "id": "Ae3AGl68bSM1",
        "colab_type": "code",
        "colab": {
          "base_uri": "https://localhost:8080/"
        },
        "outputId": "177758c3-42fd-4a74-fb04-8c01bf877c78"
      },
      "source": [
        "unified.info()"
      ],
      "execution_count": null,
      "outputs": [
        {
          "output_type": "stream",
          "text": [
            "<class 'pandas.core.frame.DataFrame'>\n",
            "Int64Index: 508146 entries, 0 to 127036\n",
            "Data columns (total 16 columns):\n",
            " #   Column                Non-Null Count   Dtype  \n",
            "---  ------                --------------   -----  \n",
            " 0   id                    508146 non-null  int64  \n",
            " 1   gender                508146 non-null  object \n",
            " 2   age                   508146 non-null  int64  \n",
            " 3   driving_license       508146 non-null  int64  \n",
            " 4   region_code           508146 non-null  float64\n",
            " 5   previously_insured    508146 non-null  int64  \n",
            " 6   vehicle_age           508146 non-null  object \n",
            " 7   vehicle_damage        508146 non-null  object \n",
            " 8   annual_premium        508146 non-null  float64\n",
            " 9   policy_sales_channel  508146 non-null  float64\n",
            " 10  vintage               508146 non-null  int64  \n",
            " 11  response              381109 non-null  float64\n",
            " 12  train                 508146 non-null  int64  \n",
            " 13  gender_bins           508146 non-null  int64  \n",
            " 14  vehicle_age_bins      508146 non-null  int64  \n",
            " 15  vehicle_damage_bins   508146 non-null  int64  \n",
            "dtypes: float64(4), int64(9), object(3)\n",
            "memory usage: 65.9+ MB\n"
          ],
          "name": "stdout"
        }
      ]
    },
    {
      "cell_type": "code",
      "metadata": {
        "id": "NQ0W9pIVrn2n",
        "colab_type": "code",
        "colab": {}
      },
      "source": [
        "# cat_to_int = ['annual_premium_bins', 'age_bins', 'vintage_bins']\n",
        "\n",
        "# for c in cat_to_int:\n",
        "#   unified[c] = unified[c].astype(int)"
      ],
      "execution_count": null,
      "outputs": []
    },
    {
      "cell_type": "markdown",
      "metadata": {
        "id": "bPQQ_2cwWv6p",
        "colab_type": "text"
      },
      "source": [
        "### Mean Encoding High Cardinality variables"
      ]
    },
    {
      "cell_type": "code",
      "metadata": {
        "id": "McVOygmEW3o1",
        "colab_type": "code",
        "colab": {}
      },
      "source": [
        "# def mean_encoding(df, col):\n",
        "#   df_train = df[df['train']==1]\n",
        "#   df_me = pd.DataFrame()\n",
        "\n",
        "#   y = df_train.response.values\n",
        "#   skf = StratifiedKFold(n_splits=5, shuffle=True, random_state=95)\n",
        "\n",
        "#   tmp = df_train[[col] + ['response']]\n",
        "#   for i, (tr_idx, val_idx) in enumerate(skf.split(tmp, y)):\n",
        "#     X_tr, X_val = tmp.iloc[tr_idx], tmp.iloc[val_idx]\n",
        "#     means = X_tr.groupby([col])['response'].mean()\n",
        "#     df_me = pd.concat([df_me, means], axis=1)\n",
        "\n",
        "#   df_me = pd.DataFrame(df_me.mean(axis=1))\n",
        "#   df_me = df_me.reset_index()\n",
        "#   df_me.columns = [[col] + ['me_response']]\n",
        "\n",
        "#   me_dict = {}\n",
        "#   for i in range(len(df_me)):\n",
        "#     me_dict.update({df_me.iloc[i, 0] : df_me.iloc[i, 1]})  \n",
        "                              \n",
        "#   return me_dict"
      ],
      "execution_count": null,
      "outputs": []
    },
    {
      "cell_type": "code",
      "metadata": {
        "id": "nLPUhV3dtDbX",
        "colab_type": "code",
        "colab": {}
      },
      "source": [
        "# me_region_code = mean_encoding(unified, 'region_code')\n",
        "# me_policy_sales_channel = mean_encoding(unified, 'policy_sales_channel')"
      ],
      "execution_count": null,
      "outputs": []
    },
    {
      "cell_type": "code",
      "metadata": {
        "id": "9jA3KvV72ZbV",
        "colab_type": "code",
        "colab": {}
      },
      "source": [
        "# unified['region_code_me'] = unified['region_code'].map(me_region_code)\n",
        "# unified['policy_sales_channel_me'] = unified['policy_sales_channel'].map(me_policy_sales_channel)\n",
        "# unified.shape"
      ],
      "execution_count": null,
      "outputs": []
    },
    {
      "cell_type": "markdown",
      "metadata": {
        "id": "FZ8hC5JuSVjm",
        "colab_type": "text"
      },
      "source": [
        "### Numerical Aggregations"
      ]
    },
    {
      "cell_type": "code",
      "metadata": {
        "id": "LrWJP-etSXiA",
        "colab_type": "code",
        "colab": {}
      },
      "source": [
        "group_vars = ['region_code', 'policy_sales_channel']\n",
        "agg_vars = ['age', 'annual_premium', 'vintage']\n",
        "\n",
        "for g in group_vars:\n",
        "  for a in agg_vars:\n",
        "    unified[f'{g}_{a}_count'] = unified.groupby([g])[a].transform('count')\n",
        "    unified[f'{g}_{a}_mean'] = unified.groupby([g])[a].transform('mean')\n",
        "    unified[f'{g}_{a}_sd'] = unified.groupby([g])[a].transform('std')\n",
        "    unified[f'{g}_{a}_min'] = unified.groupby([g])[a].transform('min')\n",
        "    unified[f'{g}_{a}_max'] = unified.groupby([g])[a].transform('max')"
      ],
      "execution_count": null,
      "outputs": []
    },
    {
      "cell_type": "markdown",
      "metadata": {
        "id": "GaiS_chREBbU",
        "colab_type": "text"
      },
      "source": [
        "### Ratios"
      ]
    },
    {
      "cell_type": "code",
      "metadata": {
        "id": "FISS9qnDEEo6",
        "colab_type": "code",
        "colab": {}
      },
      "source": [
        "# unified['prem_age'] = unified['annual_premium']/unified['age']\n",
        "# unified['prem_vin'] = unified['annual_premium']/unified['vintage']\n",
        "# unified['vin_age'] = unified['vintage']/unified['age']"
      ],
      "execution_count": null,
      "outputs": []
    },
    {
      "cell_type": "markdown",
      "metadata": {
        "id": "irNQ3CtKiDUt",
        "colab_type": "text"
      },
      "source": [
        "## Model Building"
      ]
    },
    {
      "cell_type": "markdown",
      "metadata": {
        "id": "gGVAm8bXa0rk",
        "colab_type": "text"
      },
      "source": [
        "### XGBoost"
      ]
    },
    {
      "cell_type": "code",
      "metadata": {
        "id": "RkxBR9CBibrc",
        "colab_type": "code",
        "colab": {}
      },
      "source": [
        "train = unified[unified['train']==1]\n",
        "test = unified[unified['train']==0]\n",
        "\n",
        "columns = ['id', 'driving_license', 'region_code', 'previously_insured', \n",
        "           'policy_sales_channel', 'annual_premium_bins', 'age_bins',\n",
        "           'vintage_bins', 'gender_bins', 'vehicle_age_bins', \n",
        "           'vehicle_damage_bins', 'response']\n",
        "\n",
        "train = train[columns]\n",
        "test = test[columns]\n",
        "\n",
        "# train = train[:1000]\n",
        "\n",
        "y = train['response']\n",
        "train.drop(['response', 'id'], axis=1, inplace=True)\n",
        "test.drop(['response', 'id'], axis=1, inplace=True)"
      ],
      "execution_count": null,
      "outputs": []
    },
    {
      "cell_type": "code",
      "metadata": {
        "id": "k8UPw6TKtkpA",
        "colab_type": "code",
        "colab": {}
      },
      "source": [
        "# train.shape"
      ],
      "execution_count": null,
      "outputs": []
    },
    {
      "cell_type": "code",
      "metadata": {
        "id": "-vaiKKq0jlmD",
        "colab_type": "code",
        "colab": {}
      },
      "source": [
        "folds = 5\n",
        "seed = 55\n",
        "\n",
        "skf = StratifiedKFold(n_splits=folds, shuffle=True, random_state=seed)"
      ],
      "execution_count": null,
      "outputs": []
    },
    {
      "cell_type": "code",
      "metadata": {
        "id": "Rq7ORZJqmgxx",
        "colab_type": "code",
        "colab": {
          "base_uri": "https://localhost:8080/",
          "height": 962
        },
        "outputId": "e4c38292-4b68-4202-aedb-ba2c0cedc4d6"
      },
      "source": [
        "%%time\n",
        "val_data = pd.DataFrame()\n",
        "\n",
        "for i, (tr_idx, val_idx) in enumerate(skf.split(train, y)):\n",
        "  print('*'*50)\n",
        "  print(f'Fold number: {i+1}')\n",
        "\n",
        "  X_tr, X_val, y_tr, y_val = train.iloc[tr_idx], train.iloc[val_idx], \\\n",
        "                             y.iloc[tr_idx], y.iloc[val_idx]  \n",
        "  model = XGBClassifier(\n",
        "        booster = 'gbtree'\n",
        "      , eta = 0.1\n",
        "      , max_depth = 7\n",
        "      , n_estimators = 1000\n",
        "      , colsample_bytree = 0.8\n",
        "      , subsample = 0.8\n",
        "      , objective = 'binary:logistic'\n",
        "      , eval_metric = 'auc'\n",
        "      , seed = 57\n",
        "      , verbosity = 1\n",
        "      )\n",
        "  model.fit(X_tr, y_tr, eval_set=[(X_val, y_val)], early_stopping_rounds=200,\n",
        "            verbose=100)\n",
        "  tmp = pd.concat([X_val, y_val], axis=1)\n",
        "\n",
        "  val_data = pd.concat([val_data, tmp], axis=0)"
      ],
      "execution_count": null,
      "outputs": [
        {
          "output_type": "stream",
          "text": [
            "**************************************************\n",
            "Fold number: 1\n",
            "[0]\tvalidation_0-auc:0.834498\n",
            "Will train until validation_0-auc hasn't improved in 200 rounds.\n",
            "[100]\tvalidation_0-auc:0.856062\n",
            "[200]\tvalidation_0-auc:0.855417\n",
            "[300]\tvalidation_0-auc:0.854255\n",
            "Stopping. Best iteration:\n",
            "[122]\tvalidation_0-auc:0.85614\n",
            "\n",
            "**************************************************\n",
            "Fold number: 2\n",
            "[0]\tvalidation_0-auc:0.837164\n",
            "Will train until validation_0-auc hasn't improved in 200 rounds.\n",
            "[100]\tvalidation_0-auc:0.857368\n",
            "[200]\tvalidation_0-auc:0.856887\n",
            "[300]\tvalidation_0-auc:0.855909\n",
            "Stopping. Best iteration:\n",
            "[111]\tvalidation_0-auc:0.857501\n",
            "\n",
            "**************************************************\n",
            "Fold number: 3\n",
            "[0]\tvalidation_0-auc:0.836165\n",
            "Will train until validation_0-auc hasn't improved in 200 rounds.\n",
            "[100]\tvalidation_0-auc:0.855907\n",
            "[200]\tvalidation_0-auc:0.855616\n",
            "[300]\tvalidation_0-auc:0.854475\n",
            "Stopping. Best iteration:\n",
            "[153]\tvalidation_0-auc:0.856048\n",
            "\n",
            "**************************************************\n",
            "Fold number: 4\n",
            "[0]\tvalidation_0-auc:0.835409\n",
            "Will train until validation_0-auc hasn't improved in 200 rounds.\n",
            "[100]\tvalidation_0-auc:0.854828\n",
            "[200]\tvalidation_0-auc:0.854014\n",
            "[300]\tvalidation_0-auc:0.85295\n",
            "Stopping. Best iteration:\n",
            "[103]\tvalidation_0-auc:0.854884\n",
            "\n",
            "**************************************************\n",
            "Fold number: 5\n",
            "[0]\tvalidation_0-auc:0.836024\n",
            "Will train until validation_0-auc hasn't improved in 200 rounds.\n",
            "[100]\tvalidation_0-auc:0.858103\n",
            "[200]\tvalidation_0-auc:0.857097\n",
            "[300]\tvalidation_0-auc:0.856129\n",
            "Stopping. Best iteration:\n",
            "[100]\tvalidation_0-auc:0.858103\n",
            "\n",
            "CPU times: user 9min 25s, sys: 485 ms, total: 9min 25s\n",
            "Wall time: 9min 26s\n"
          ],
          "name": "stdout"
        }
      ]
    },
    {
      "cell_type": "code",
      "metadata": {
        "id": "HeoYBt2TtpoP",
        "colab_type": "code",
        "colab": {
          "base_uri": "https://localhost:8080/",
          "height": 318
        },
        "outputId": "05358880-08cb-4666-94fe-7d9420dd510a"
      },
      "source": [
        "plot_importance(model)"
      ],
      "execution_count": null,
      "outputs": [
        {
          "output_type": "execute_result",
          "data": {
            "text/plain": [
              "<matplotlib.axes._subplots.AxesSubplot at 0x7f4c4c010160>"
            ]
          },
          "metadata": {
            "tags": []
          },
          "execution_count": 124
        },
        {
          "output_type": "display_data",
          "data": {
            "image/png": "[encoded data removed]",
            "text/plain": [
              "<Figure size 432x288 with 1 Axes>"
            ]
          },
          "metadata": {
            "tags": [],
            "needs_background": "light"
          }
        }
      ]
    },
    {
      "cell_type": "code",
      "metadata": {
        "id": "URa_DoZduNss",
        "colab_type": "code",
        "colab": {}
      },
      "source": [
        "tmp = val_data.copy()\n",
        "y = np.array(tmp['response'])\n",
        "tmp.drop(['response'], axis=1, inplace=True)\n",
        "\n",
        "interim_preds = model.predict_proba(tmp)[:, 1]"
      ],
      "execution_count": null,
      "outputs": []
    },
    {
      "cell_type": "code",
      "metadata": {
        "id": "hbHDfRg62rF8",
        "colab_type": "code",
        "colab": {}
      },
      "source": [
        "interim_preds = pd.DataFrame(interim_preds)\n",
        "# # interim_preds.head()"
      ],
      "execution_count": null,
      "outputs": []
    },
    {
      "cell_type": "code",
      "metadata": {
        "id": "jvj5YDBA3eq0",
        "colab_type": "code",
        "colab": {}
      },
      "source": [
        "# threshold = [0.1, 0.2, 0.3, 0.4, 0.5, 0.6, 0.7, 0.8, 0.9]\n",
        "\n",
        "# for t in threshold:\n",
        "#   preds = interim_preds[0].apply(lambda x: 1 if x>t else 0)\n",
        "#   print(t, roc_auc_score(y, preds))"
      ],
      "execution_count": null,
      "outputs": []
    },
    {
      "cell_type": "code",
      "metadata": {
        "id": "-cYSJoTFL2-F",
        "colab_type": "code",
        "colab": {
          "base_uri": "https://localhost:8080/",
          "height": 35
        },
        "outputId": "8b36a798-426a-49e2-d17a-455f8bb9fe7e"
      },
      "source": [
        "roc_auc_score(y, interim_preds)"
      ],
      "execution_count": null,
      "outputs": [
        {
          "output_type": "execute_result",
          "data": {
            "text/plain": [
              "0.8624808799050425"
            ]
          },
          "metadata": {
            "tags": []
          },
          "execution_count": 132
        }
      ]
    },
    {
      "cell_type": "code",
      "metadata": {
        "id": "5EwiR7Sr2Sad",
        "colab_type": "code",
        "colab": {}
      },
      "source": [
        "orig_test = pd.read_csv('/content/test.csv')\n",
        "preds = pd.DataFrame(model.predict_proba(test)[:, 1], columns=['Response'])\n",
        "preds = pd.concat([orig_test['id'], preds], axis=1)\n",
        "# preds['response'].value_counts()"
      ],
      "execution_count": null,
      "outputs": []
    },
    {
      "cell_type": "code",
      "metadata": {
        "id": "WukSD6C2xyId",
        "colab_type": "code",
        "colab": {}
      },
      "source": [
        "preds.to_csv('Baseline_xgb_09132020.csv', index=False)"
      ],
      "execution_count": null,
      "outputs": []
    },
    {
      "cell_type": "markdown",
      "metadata": {
        "id": "EaZI3MVGanhY",
        "colab_type": "text"
      },
      "source": [
        "### LightGBM"
      ]
    },
    {
      "cell_type": "code",
      "metadata": {
        "colab_type": "code",
        "id": "7p0ER9-FayY0",
        "colab": {}
      },
      "source": [
        "train = unified[unified['train']==1]\n",
        "test = unified[unified['train']==0]\n",
        "\n",
        "columns = ['id', 'driving_license', 'previously_insured', \n",
        "           'annual_premium', 'age', 'region_code', 'policy_sales_channel',\n",
        "           'vintage', 'gender_bins', 'vehicle_age_bins', \n",
        "           'vehicle_damage_bins', 'response', 'region_code_age_count',\n",
        "           'region_code_age_mean', 'region_code_age_sd', 'region_code_age_min',\n",
        "           'region_code_age_max',\n",
        "           'region_code_annual_premium_mean', 'region_code_annual_premium_sd',\n",
        "           'region_code_annual_premium_min', 'region_code_annual_premium_max',\n",
        "           'region_code_vintage_mean',\n",
        "           'region_code_vintage_sd', 'region_code_vintage_min',\n",
        "           'region_code_vintage_max', 'policy_sales_channel_age_count',\n",
        "           'policy_sales_channel_age_mean', 'policy_sales_channel_age_sd',\n",
        "           'policy_sales_channel_age_min', 'policy_sales_channel_age_max',\n",
        "           'policy_sales_channel_annual_premium_mean',\n",
        "           'policy_sales_channel_annual_premium_sd',\n",
        "           'policy_sales_channel_annual_premium_min',\n",
        "           'policy_sales_channel_annual_premium_max',\n",
        "           'policy_sales_channel_vintage_mean', 'policy_sales_channel_vintage_sd',\n",
        "           'policy_sales_channel_vintage_min', 'policy_sales_channel_vintage_max'] \n",
        "           # 'region_code_me', 'policy_sales_channel_me', 'prem_age', \n",
        "           # 'prem_vin', 'vin_age'\n",
        "\n",
        "train = train[columns]\n",
        "test = test[columns]\n",
        "\n",
        "# train = train[:100]\n",
        "\n",
        "y = train['response']\n",
        "train.drop(['response', 'id'], axis=1, inplace=True)\n",
        "test.drop(['response', 'id'], axis=1, inplace=True)"
      ],
      "execution_count": null,
      "outputs": []
    },
    {
      "cell_type": "code",
      "metadata": {
        "id": "SDt9piSJa7ND",
        "colab_type": "code",
        "colab": {
          "base_uri": "https://localhost:8080/",
          "height": 1000
        },
        "outputId": "1a199e7a-245a-4f05-ab98-754a12bbb0f8"
      },
      "source": [
        "%%time\n",
        "folds = 5\n",
        "seed = [55] #, 231, 12, 958, 9\n",
        "test_preds = pd.DataFrame()\n",
        "\n",
        "for s in seed:\n",
        "  val_data = pd.DataFrame()\n",
        "  print(f'Running for seed {s}')\n",
        "  skf = StratifiedKFold(n_splits=folds, shuffle=True, random_state=s)\n",
        "  for i, (tr_idx, val_idx) in enumerate(skf.split(train, y)):\n",
        "    print('*'*50)\n",
        "    print(f'Fold number: {i+1}')\n",
        "\n",
        "    X_tr, X_val, y_tr, y_val = train.iloc[tr_idx], train.iloc[val_idx], \\\n",
        "                              y.iloc[tr_idx], y.iloc[val_idx]  \n",
        "    model = LGBMClassifier(\n",
        "          boosting_type = 'gbdt'\n",
        "        , max_depth = 8\n",
        "        , learning_rate = 0.01\n",
        "        , n_estimators = 5000\n",
        "        , objective = 'binary'\n",
        "        , subsample = 0.8\n",
        "        , subsample_freq = 1\n",
        "        , colsample_bytree = 0.6\n",
        "        , silent=False\n",
        "        , reg_lambda = 2\n",
        "        )\n",
        "    model.fit(X_tr, y_tr, eval_set=[(X_val, y_val)], eval_metric='auc',\n",
        "              early_stopping_rounds=200, verbose=100)\n",
        "    tmp = pd.concat([X_val, y_val], axis=1)\n",
        "\n",
        "    val_data = pd.concat([val_data, tmp], axis=0)\n",
        "\n",
        "  y2 = np.array(val_data['response'])\n",
        "  val_data.drop(['response'], axis=1, inplace=True)\n",
        "  interim_preds = model.predict_proba(val_data)[:, 1]\n",
        "\n",
        "  print('#'*20)\n",
        "  print(roc_auc_score(y2, interim_preds))\n",
        "\n",
        "  tmp2 = pd.DataFrame(model.predict_proba(test)[:, 1])\n",
        "  test_preds = pd.concat([test_preds, tmp2], axis=1)"
      ],
      "execution_count": null,
      "outputs": [
        {
          "output_type": "stream",
          "text": [
            "Running for seed 55\n",
            "**************************************************\n",
            "Fold number: 1\n",
            "Training until validation scores don't improve for 200 rounds.\n",
            "[100]\tvalid_0's auc: 0.855532\tvalid_0's binary_logloss: 0.292672\n",
            "[200]\tvalid_0's auc: 0.856542\tvalid_0's binary_logloss: 0.273929\n",
            "[300]\tvalid_0's auc: 0.857172\tvalid_0's binary_logloss: 0.267751\n",
            "[400]\tvalid_0's auc: 0.857602\tvalid_0's binary_logloss: 0.26559\n",
            "[500]\tvalid_0's auc: 0.857821\tvalid_0's binary_logloss: 0.264783\n",
            "[600]\tvalid_0's auc: 0.857938\tvalid_0's binary_logloss: 0.264491\n",
            "[700]\tvalid_0's auc: 0.85802\tvalid_0's binary_logloss: 0.264378\n",
            "[800]\tvalid_0's auc: 0.858097\tvalid_0's binary_logloss: 0.264332\n",
            "[900]\tvalid_0's auc: 0.858111\tvalid_0's binary_logloss: 0.264314\n",
            "[1000]\tvalid_0's auc: 0.858162\tvalid_0's binary_logloss: 0.264285\n",
            "[1100]\tvalid_0's auc: 0.858195\tvalid_0's binary_logloss: 0.264263\n",
            "[1200]\tvalid_0's auc: 0.858149\tvalid_0's binary_logloss: 0.264281\n",
            "[1300]\tvalid_0's auc: 0.85813\tvalid_0's binary_logloss: 0.264295\n",
            "Early stopping, best iteration is:\n",
            "[1109]\tvalid_0's auc: 0.858203\tvalid_0's binary_logloss: 0.264261\n",
            "**************************************************\n",
            "Fold number: 2\n",
            "Training until validation scores don't improve for 200 rounds.\n",
            "[100]\tvalid_0's auc: 0.857018\tvalid_0's binary_logloss: 0.292367\n",
            "[200]\tvalid_0's auc: 0.858061\tvalid_0's binary_logloss: 0.273487\n",
            "[300]\tvalid_0's auc: 0.858741\tvalid_0's binary_logloss: 0.267275\n",
            "[400]\tvalid_0's auc: 0.859134\tvalid_0's binary_logloss: 0.265096\n",
            "[500]\tvalid_0's auc: 0.859438\tvalid_0's binary_logloss: 0.264248\n",
            "[600]\tvalid_0's auc: 0.859544\tvalid_0's binary_logloss: 0.263958\n",
            "[700]\tvalid_0's auc: 0.859663\tvalid_0's binary_logloss: 0.263807\n",
            "[800]\tvalid_0's auc: 0.859701\tvalid_0's binary_logloss: 0.263764\n",
            "[900]\tvalid_0's auc: 0.859742\tvalid_0's binary_logloss: 0.26374\n",
            "[1000]\tvalid_0's auc: 0.85977\tvalid_0's binary_logloss: 0.263716\n",
            "[1100]\tvalid_0's auc: 0.859789\tvalid_0's binary_logloss: 0.263704\n",
            "[1200]\tvalid_0's auc: 0.859827\tvalid_0's binary_logloss: 0.26369\n",
            "[1300]\tvalid_0's auc: 0.859846\tvalid_0's binary_logloss: 0.263683\n",
            "[1400]\tvalid_0's auc: 0.859889\tvalid_0's binary_logloss: 0.263665\n",
            "[1500]\tvalid_0's auc: 0.859864\tvalid_0's binary_logloss: 0.263678\n",
            "[1600]\tvalid_0's auc: 0.859888\tvalid_0's binary_logloss: 0.263672\n",
            "Early stopping, best iteration is:\n",
            "[1438]\tvalid_0's auc: 0.859893\tvalid_0's binary_logloss: 0.263663\n",
            "**************************************************\n",
            "Fold number: 3\n",
            "Training until validation scores don't improve for 200 rounds.\n",
            "[100]\tvalid_0's auc: 0.856707\tvalid_0's binary_logloss: 0.292648\n",
            "[200]\tvalid_0's auc: 0.857626\tvalid_0's binary_logloss: 0.273975\n",
            "[300]\tvalid_0's auc: 0.858076\tvalid_0's binary_logloss: 0.267863\n",
            "[400]\tvalid_0's auc: 0.858375\tvalid_0's binary_logloss: 0.265727\n",
            "[500]\tvalid_0's auc: 0.858523\tvalid_0's binary_logloss: 0.264922\n",
            "[600]\tvalid_0's auc: 0.858605\tvalid_0's binary_logloss: 0.264616\n",
            "[700]\tvalid_0's auc: 0.858625\tvalid_0's binary_logloss: 0.264507\n",
            "[800]\tvalid_0's auc: 0.858673\tvalid_0's binary_logloss: 0.264454\n",
            "[900]\tvalid_0's auc: 0.858701\tvalid_0's binary_logloss: 0.264426\n",
            "[1000]\tvalid_0's auc: 0.85872\tvalid_0's binary_logloss: 0.264399\n",
            "[1100]\tvalid_0's auc: 0.858685\tvalid_0's binary_logloss: 0.264402\n",
            "Early stopping, best iteration is:\n",
            "[978]\tvalid_0's auc: 0.858737\tvalid_0's binary_logloss: 0.264399\n",
            "**************************************************\n",
            "Fold number: 4\n",
            "Training until validation scores don't improve for 200 rounds.\n",
            "[100]\tvalid_0's auc: 0.854961\tvalid_0's binary_logloss: 0.292803\n",
            "[200]\tvalid_0's auc: 0.855873\tvalid_0's binary_logloss: 0.274028\n",
            "[300]\tvalid_0's auc: 0.856354\tvalid_0's binary_logloss: 0.267852\n",
            "[400]\tvalid_0's auc: 0.856647\tvalid_0's binary_logloss: 0.265706\n",
            "[500]\tvalid_0's auc: 0.856821\tvalid_0's binary_logloss: 0.264876\n",
            "[600]\tvalid_0's auc: 0.856894\tvalid_0's binary_logloss: 0.264572\n",
            "[700]\tvalid_0's auc: 0.856985\tvalid_0's binary_logloss: 0.264427\n",
            "[800]\tvalid_0's auc: 0.857019\tvalid_0's binary_logloss: 0.264381\n",
            "[900]\tvalid_0's auc: 0.857096\tvalid_0's binary_logloss: 0.264347\n",
            "[1000]\tvalid_0's auc: 0.857144\tvalid_0's binary_logloss: 0.264327\n",
            "[1100]\tvalid_0's auc: 0.857121\tvalid_0's binary_logloss: 0.26434\n",
            "Early stopping, best iteration is:\n",
            "[987]\tvalid_0's auc: 0.857149\tvalid_0's binary_logloss: 0.264325\n",
            "**************************************************\n",
            "Fold number: 5\n",
            "Training until validation scores don't improve for 200 rounds.\n",
            "[100]\tvalid_0's auc: 0.858212\tvalid_0's binary_logloss: 0.291969\n",
            "[200]\tvalid_0's auc: 0.859203\tvalid_0's binary_logloss: 0.272897\n",
            "[300]\tvalid_0's auc: 0.859716\tvalid_0's binary_logloss: 0.266596\n",
            "[400]\tvalid_0's auc: 0.860026\tvalid_0's binary_logloss: 0.264375\n",
            "[500]\tvalid_0's auc: 0.860173\tvalid_0's binary_logloss: 0.263531\n",
            "[600]\tvalid_0's auc: 0.860281\tvalid_0's binary_logloss: 0.263214\n",
            "[700]\tvalid_0's auc: 0.860308\tvalid_0's binary_logloss: 0.263099\n",
            "[800]\tvalid_0's auc: 0.860378\tvalid_0's binary_logloss: 0.263041\n",
            "[900]\tvalid_0's auc: 0.860386\tvalid_0's binary_logloss: 0.263017\n",
            "[1000]\tvalid_0's auc: 0.860432\tvalid_0's binary_logloss: 0.262985\n",
            "[1100]\tvalid_0's auc: 0.860448\tvalid_0's binary_logloss: 0.262971\n",
            "[1200]\tvalid_0's auc: 0.860416\tvalid_0's binary_logloss: 0.262967\n",
            "[1300]\tvalid_0's auc: 0.860367\tvalid_0's binary_logloss: 0.26299\n",
            "Early stopping, best iteration is:\n",
            "[1136]\tvalid_0's auc: 0.860456\tvalid_0's binary_logloss: 0.262959\n",
            "####################\n",
            "0.8661108605665657\n",
            "CPU times: user 15min 38s, sys: 3.06 s, total: 15min 41s\n",
            "Wall time: 8min 11s\n"
          ],
          "name": "stdout"
        }
      ]
    },
    {
      "cell_type": "code",
      "metadata": {
        "id": "EQhTAd8OyeDD",
        "colab_type": "code",
        "colab": {
          "base_uri": "https://localhost:8080/",
          "height": 916
        },
        "outputId": "5a948e07-94be-491a-8a1e-113050c39768"
      },
      "source": [
        "plot_importance(model, max_num_features=15, figsize=(10,15))"
      ],
      "execution_count": null,
      "outputs": [
        {
          "output_type": "execute_result",
          "data": {
            "text/plain": [
              "<matplotlib.axes._subplots.AxesSubplot at 0x7f9163c42f98>"
            ]
          },
          "metadata": {
            "tags": []
          },
          "execution_count": 110
        },
        {
          "output_type": "display_data",
          "data": {
            "image/png": "[encoded data removed]",
            "text/plain": [
              "<Figure size 720x1080 with 1 Axes>"
            ]
          },
          "metadata": {
            "tags": [],
            "needs_background": "light"
          }
        }
      ]
    },
    {
      "cell_type": "code",
      "metadata": {
        "id": "Y4ne00Wt5n2Z",
        "colab_type": "code",
        "colab": {
          "base_uri": "https://localhost:8080/",
          "height": 206
        },
        "outputId": "6b38b0e8-36dc-4045-b7a8-1e658f1fcf56"
      },
      "source": [
        "test_preds.head()"
      ],
      "execution_count": null,
      "outputs": [
        {
          "output_type": "execute_result",
          "data": {
            "text/html": [
              "<div>\n",
              "<style scoped>\n",
              "    .dataframe tbody tr th:only-of-type {\n",
              "        vertical-align: middle;\n",
              "    }\n",
              "\n",
              "    .dataframe tbody tr th {\n",
              "        vertical-align: top;\n",
              "    }\n",
              "\n",
              "    .dataframe thead th {\n",
              "        text-align: right;\n",
              "    }\n",
              "</style>\n",
              "<table border=\"1\" class=\"dataframe\">\n",
              "  <thead>\n",
              "    <tr style=\"text-align: right;\">\n",
              "      <th></th>\n",
              "      <th>0</th>\n",
              "    </tr>\n",
              "  </thead>\n",
              "  <tbody>\n",
              "    <tr>\n",
              "      <th>0</th>\n",
              "      <td>0.000552</td>\n",
              "    </tr>\n",
              "    <tr>\n",
              "      <th>1</th>\n",
              "      <td>0.323157</td>\n",
              "    </tr>\n",
              "    <tr>\n",
              "      <th>2</th>\n",
              "      <td>0.305592</td>\n",
              "    </tr>\n",
              "    <tr>\n",
              "      <th>3</th>\n",
              "      <td>0.008349</td>\n",
              "    </tr>\n",
              "    <tr>\n",
              "      <th>4</th>\n",
              "      <td>0.000482</td>\n",
              "    </tr>\n",
              "  </tbody>\n",
              "</table>\n",
              "</div>"
            ],
            "text/plain": [
              "          0\n",
              "0  0.000552\n",
              "1  0.323157\n",
              "2  0.305592\n",
              "3  0.008349\n",
              "4  0.000482"
            ]
          },
          "metadata": {
            "tags": []
          },
          "execution_count": 111
        }
      ]
    },
    {
      "cell_type": "code",
      "metadata": {
        "id": "KC4h8_a-9X6A",
        "colab_type": "code",
        "colab": {
          "base_uri": "https://localhost:8080/",
          "height": 206
        },
        "outputId": "e0a39fa5-96e3-4f90-d065-e42304056825"
      },
      "source": [
        "tmp = test_preds.copy()\n",
        "preds = pd.DataFrame(tmp.mean(axis=1), columns=['Response'])\n",
        "preds.head()"
      ],
      "execution_count": null,
      "outputs": [
        {
          "output_type": "execute_result",
          "data": {
            "text/html": [
              "<div>\n",
              "<style scoped>\n",
              "    .dataframe tbody tr th:only-of-type {\n",
              "        vertical-align: middle;\n",
              "    }\n",
              "\n",
              "    .dataframe tbody tr th {\n",
              "        vertical-align: top;\n",
              "    }\n",
              "\n",
              "    .dataframe thead th {\n",
              "        text-align: right;\n",
              "    }\n",
              "</style>\n",
              "<table border=\"1\" class=\"dataframe\">\n",
              "  <thead>\n",
              "    <tr style=\"text-align: right;\">\n",
              "      <th></th>\n",
              "      <th>Response</th>\n",
              "    </tr>\n",
              "  </thead>\n",
              "  <tbody>\n",
              "    <tr>\n",
              "      <th>0</th>\n",
              "      <td>0.000552</td>\n",
              "    </tr>\n",
              "    <tr>\n",
              "      <th>1</th>\n",
              "      <td>0.323157</td>\n",
              "    </tr>\n",
              "    <tr>\n",
              "      <th>2</th>\n",
              "      <td>0.305592</td>\n",
              "    </tr>\n",
              "    <tr>\n",
              "      <th>3</th>\n",
              "      <td>0.008349</td>\n",
              "    </tr>\n",
              "    <tr>\n",
              "      <th>4</th>\n",
              "      <td>0.000482</td>\n",
              "    </tr>\n",
              "  </tbody>\n",
              "</table>\n",
              "</div>"
            ],
            "text/plain": [
              "   Response\n",
              "0  0.000552\n",
              "1  0.323157\n",
              "2  0.305592\n",
              "3  0.008349\n",
              "4  0.000482"
            ]
          },
          "metadata": {
            "tags": []
          },
          "execution_count": 112
        }
      ]
    },
    {
      "cell_type": "code",
      "metadata": {
        "id": "Fo0Sn4qfv208",
        "colab_type": "code",
        "colab": {
          "base_uri": "https://localhost:8080/",
          "height": 206
        },
        "outputId": "b79a1696-6fc0-4e8f-ad53-4365f65ad6bb"
      },
      "source": [
        "orig_test = pd.read_csv('/content/test.csv')\n",
        "# preds = pd.DataFrame(model.predict_proba(test)[:, 1], columns=['Response'])\n",
        "preds = pd.concat([orig_test['id'], preds], axis=1)\n",
        "preds.head()"
      ],
      "execution_count": null,
      "outputs": [
        {
          "output_type": "execute_result",
          "data": {
            "text/html": [
              "<div>\n",
              "<style scoped>\n",
              "    .dataframe tbody tr th:only-of-type {\n",
              "        vertical-align: middle;\n",
              "    }\n",
              "\n",
              "    .dataframe tbody tr th {\n",
              "        vertical-align: top;\n",
              "    }\n",
              "\n",
              "    .dataframe thead th {\n",
              "        text-align: right;\n",
              "    }\n",
              "</style>\n",
              "<table border=\"1\" class=\"dataframe\">\n",
              "  <thead>\n",
              "    <tr style=\"text-align: right;\">\n",
              "      <th></th>\n",
              "      <th>id</th>\n",
              "      <th>Response</th>\n",
              "    </tr>\n",
              "  </thead>\n",
              "  <tbody>\n",
              "    <tr>\n",
              "      <th>0</th>\n",
              "      <td>381110</td>\n",
              "      <td>0.000552</td>\n",
              "    </tr>\n",
              "    <tr>\n",
              "      <th>1</th>\n",
              "      <td>381111</td>\n",
              "      <td>0.323157</td>\n",
              "    </tr>\n",
              "    <tr>\n",
              "      <th>2</th>\n",
              "      <td>381112</td>\n",
              "      <td>0.305592</td>\n",
              "    </tr>\n",
              "    <tr>\n",
              "      <th>3</th>\n",
              "      <td>381113</td>\n",
              "      <td>0.008349</td>\n",
              "    </tr>\n",
              "    <tr>\n",
              "      <th>4</th>\n",
              "      <td>381114</td>\n",
              "      <td>0.000482</td>\n",
              "    </tr>\n",
              "  </tbody>\n",
              "</table>\n",
              "</div>"
            ],
            "text/plain": [
              "       id  Response\n",
              "0  381110  0.000552\n",
              "1  381111  0.323157\n",
              "2  381112  0.305592\n",
              "3  381113  0.008349\n",
              "4  381114  0.000482"
            ]
          },
          "metadata": {
            "tags": []
          },
          "execution_count": 113
        }
      ]
    },
    {
      "cell_type": "code",
      "metadata": {
        "id": "bXOw0kaNML5b",
        "colab_type": "code",
        "colab": {}
      },
      "source": [
        "preds.to_csv('reg2_lgbm_09202020.csv', index=False)"
      ],
      "execution_count": null,
      "outputs": []
    },
    {
      "cell_type": "markdown",
      "metadata": {
        "id": "VmC_8Rb1zEzc",
        "colab_type": "text"
      },
      "source": [
        "## Logistic Regression"
      ]
    },
    {
      "cell_type": "code",
      "metadata": {
        "id": "Yp9VuolWzGpW",
        "colab_type": "code",
        "colab": {}
      },
      "source": [
        "train = unified[unified['train']==1]\n",
        "test = unified[unified['train']==0]\n",
        "\n",
        "columns = ['id', 'driving_license', 'region_code', 'previously_insured', \n",
        "           'policy_sales_channel', 'annual_premium', 'age',\n",
        "           'vintage', 'gender_bins', 'vehicle_age_bins', \n",
        "           'vehicle_damage_bins', 'response', 'region_code_age_count',\n",
        "           'region_code_age_mean', 'region_code_age_sd', 'region_code_age_min',\n",
        "           'region_code_age_max',\n",
        "           'region_code_annual_premium_mean', 'region_code_annual_premium_sd',\n",
        "           'region_code_annual_premium_min', 'region_code_annual_premium_max',\n",
        "           'region_code_vintage_mean',\n",
        "           'region_code_vintage_sd', 'region_code_vintage_min',\n",
        "           'region_code_vintage_max', 'policy_sales_channel_age_count',\n",
        "           'policy_sales_channel_age_mean', 'policy_sales_channel_age_sd',\n",
        "           'policy_sales_channel_age_min', 'policy_sales_channel_age_max',\n",
        "           'policy_sales_channel_annual_premium_mean',\n",
        "           'policy_sales_channel_annual_premium_sd',\n",
        "           'policy_sales_channel_annual_premium_min',\n",
        "           'policy_sales_channel_annual_premium_max',\n",
        "           'policy_sales_channel_vintage_mean', 'policy_sales_channel_vintage_sd',\n",
        "           'policy_sales_channel_vintage_min', 'policy_sales_channel_vintage_max']\n",
        "\n",
        "train = train[columns]\n",
        "test = test[columns]\n",
        "\n",
        "# train = train[:10000]\n",
        "\n",
        "train.fillna(0, inplace=True)\n",
        "test.fillna(0, inplace=True)\n",
        "\n",
        "y = train['response']\n",
        "\n",
        "ss = StandardScaler()\n",
        "\n",
        "scaled_train = train.copy()\n",
        "scaled_train = pd.DataFrame(ss.fit_transform(scaled_train), columns=train.columns)\n",
        "\n",
        "scaled_test = test.copy()\n",
        "scaled_test = pd.DataFrame(ss.transform(scaled_test), columns=test.columns)\n",
        "\n",
        "scaled_train.drop(['response', 'id'], axis=1, inplace=True)\n",
        "scaled_test.drop(['response', 'id'], axis=1, inplace=True)"
      ],
      "execution_count": null,
      "outputs": []
    },
    {
      "cell_type": "code",
      "metadata": {
        "id": "S1V8DMdx2eu9",
        "colab_type": "code",
        "colab": {
          "base_uri": "https://localhost:8080/",
          "height": 226
        },
        "outputId": "981872cf-59cd-4dcf-f6db-b311674b81ea"
      },
      "source": [
        "scaled_train.head()"
      ],
      "execution_count": null,
      "outputs": [
        {
          "output_type": "execute_result",
          "data": {
            "text/html": [
              "<div>\n",
              "<style scoped>\n",
              "    .dataframe tbody tr th:only-of-type {\n",
              "        vertical-align: middle;\n",
              "    }\n",
              "\n",
              "    .dataframe tbody tr th {\n",
              "        vertical-align: top;\n",
              "    }\n",
              "\n",
              "    .dataframe thead th {\n",
              "        text-align: right;\n",
              "    }\n",
              "</style>\n",
              "<table border=\"1\" class=\"dataframe\">\n",
              "  <thead>\n",
              "    <tr style=\"text-align: right;\">\n",
              "      <th></th>\n",
              "      <th>driving_license</th>\n",
              "      <th>region_code</th>\n",
              "      <th>previously_insured</th>\n",
              "      <th>policy_sales_channel</th>\n",
              "      <th>annual_premium</th>\n",
              "      <th>age</th>\n",
              "      <th>vintage</th>\n",
              "      <th>gender_bins</th>\n",
              "      <th>vehicle_age_bins</th>\n",
              "      <th>vehicle_damage_bins</th>\n",
              "      <th>region_code_age_count</th>\n",
              "      <th>region_code_age_mean</th>\n",
              "      <th>region_code_age_sd</th>\n",
              "      <th>region_code_age_min</th>\n",
              "      <th>region_code_age_max</th>\n",
              "      <th>region_code_annual_premium_mean</th>\n",
              "      <th>region_code_annual_premium_sd</th>\n",
              "      <th>region_code_annual_premium_min</th>\n",
              "      <th>region_code_annual_premium_max</th>\n",
              "      <th>region_code_vintage_mean</th>\n",
              "      <th>region_code_vintage_sd</th>\n",
              "      <th>region_code_vintage_min</th>\n",
              "      <th>region_code_vintage_max</th>\n",
              "      <th>policy_sales_channel_age_count</th>\n",
              "      <th>policy_sales_channel_age_mean</th>\n",
              "      <th>policy_sales_channel_age_sd</th>\n",
              "      <th>policy_sales_channel_age_min</th>\n",
              "      <th>policy_sales_channel_age_max</th>\n",
              "      <th>policy_sales_channel_annual_premium_mean</th>\n",
              "      <th>policy_sales_channel_annual_premium_sd</th>\n",
              "      <th>policy_sales_channel_annual_premium_min</th>\n",
              "      <th>policy_sales_channel_annual_premium_max</th>\n",
              "      <th>policy_sales_channel_vintage_mean</th>\n",
              "      <th>policy_sales_channel_vintage_sd</th>\n",
              "      <th>policy_sales_channel_vintage_min</th>\n",
              "      <th>policy_sales_channel_vintage_max</th>\n",
              "    </tr>\n",
              "  </thead>\n",
              "  <tbody>\n",
              "    <tr>\n",
              "      <th>0</th>\n",
              "      <td>0.046208</td>\n",
              "      <td>0.121784</td>\n",
              "      <td>-0.919638</td>\n",
              "      <td>-1.587234</td>\n",
              "      <td>0.574539</td>\n",
              "      <td>0.333777</td>\n",
              "      <td>0.748795</td>\n",
              "      <td>-0.921545</td>\n",
              "      <td>2.450281</td>\n",
              "      <td>0.990294</td>\n",
              "      <td>1.576784</td>\n",
              "      <td>1.303333</td>\n",
              "      <td>0.136388</td>\n",
              "      <td>-0.073015</td>\n",
              "      <td>0.947097</td>\n",
              "      <td>1.094725</td>\n",
              "      <td>0.984203</td>\n",
              "      <td>0.0</td>\n",
              "      <td>1.274343</td>\n",
              "      <td>-0.085931</td>\n",
              "      <td>0.076858</td>\n",
              "      <td>-0.044786</td>\n",
              "      <td>0.021918</td>\n",
              "      <td>-0.017912</td>\n",
              "      <td>1.025080</td>\n",
              "      <td>0.941899</td>\n",
              "      <td>-0.249282</td>\n",
              "      <td>0.966138</td>\n",
              "      <td>0.590115</td>\n",
              "      <td>0.996878</td>\n",
              "      <td>-0.009976</td>\n",
              "      <td>0.615319</td>\n",
              "      <td>0.041967</td>\n",
              "      <td>0.205131</td>\n",
              "      <td>-0.032343</td>\n",
              "      <td>0.041602</td>\n",
              "    </tr>\n",
              "    <tr>\n",
              "      <th>1</th>\n",
              "      <td>0.046208</td>\n",
              "      <td>-1.767879</td>\n",
              "      <td>-0.919638</td>\n",
              "      <td>-1.587234</td>\n",
              "      <td>0.172636</td>\n",
              "      <td>2.396751</td>\n",
              "      <td>0.342443</td>\n",
              "      <td>-0.921545</td>\n",
              "      <td>0.687976</td>\n",
              "      <td>-1.009801</td>\n",
              "      <td>-0.667229</td>\n",
              "      <td>-0.321106</td>\n",
              "      <td>0.439894</td>\n",
              "      <td>-0.073015</td>\n",
              "      <td>-0.718959</td>\n",
              "      <td>-0.824263</td>\n",
              "      <td>-0.143013</td>\n",
              "      <td>0.0</td>\n",
              "      <td>0.636191</td>\n",
              "      <td>0.611438</td>\n",
              "      <td>-2.058966</td>\n",
              "      <td>-0.044786</td>\n",
              "      <td>0.021918</td>\n",
              "      <td>-0.017912</td>\n",
              "      <td>1.025080</td>\n",
              "      <td>0.941899</td>\n",
              "      <td>-0.249282</td>\n",
              "      <td>0.966138</td>\n",
              "      <td>0.590115</td>\n",
              "      <td>0.996878</td>\n",
              "      <td>-0.009976</td>\n",
              "      <td>0.615319</td>\n",
              "      <td>0.041967</td>\n",
              "      <td>0.205131</td>\n",
              "      <td>-0.032343</td>\n",
              "      <td>0.041602</td>\n",
              "    </tr>\n",
              "    <tr>\n",
              "      <th>2</th>\n",
              "      <td>0.046208</td>\n",
              "      <td>0.121784</td>\n",
              "      <td>-0.919638</td>\n",
              "      <td>-1.587234</td>\n",
              "      <td>0.449053</td>\n",
              "      <td>0.527181</td>\n",
              "      <td>-1.521998</td>\n",
              "      <td>-0.921545</td>\n",
              "      <td>2.450281</td>\n",
              "      <td>0.990294</td>\n",
              "      <td>1.576784</td>\n",
              "      <td>1.303333</td>\n",
              "      <td>0.136388</td>\n",
              "      <td>-0.073015</td>\n",
              "      <td>0.947097</td>\n",
              "      <td>1.094725</td>\n",
              "      <td>0.984203</td>\n",
              "      <td>0.0</td>\n",
              "      <td>1.274343</td>\n",
              "      <td>-0.085931</td>\n",
              "      <td>0.076858</td>\n",
              "      <td>-0.044786</td>\n",
              "      <td>0.021918</td>\n",
              "      <td>-0.017912</td>\n",
              "      <td>1.025080</td>\n",
              "      <td>0.941899</td>\n",
              "      <td>-0.249282</td>\n",
              "      <td>0.966138</td>\n",
              "      <td>0.590115</td>\n",
              "      <td>0.996878</td>\n",
              "      <td>-0.009976</td>\n",
              "      <td>0.615319</td>\n",
              "      <td>0.041967</td>\n",
              "      <td>0.205131</td>\n",
              "      <td>-0.032343</td>\n",
              "      <td>0.041602</td>\n",
              "    </tr>\n",
              "    <tr>\n",
              "      <th>3</th>\n",
              "      <td>0.046208</td>\n",
              "      <td>-1.163187</td>\n",
              "      <td>1.087384</td>\n",
              "      <td>0.737321</td>\n",
              "      <td>-0.113018</td>\n",
              "      <td>-1.148985</td>\n",
              "      <td>0.581474</td>\n",
              "      <td>-0.921545</td>\n",
              "      <td>-1.074329</td>\n",
              "      <td>-1.009801</td>\n",
              "      <td>-0.667593</td>\n",
              "      <td>-0.803644</td>\n",
              "      <td>-0.332782</td>\n",
              "      <td>-0.073015</td>\n",
              "      <td>-0.718959</td>\n",
              "      <td>-0.392729</td>\n",
              "      <td>-0.313642</td>\n",
              "      <td>0.0</td>\n",
              "      <td>-0.638826</td>\n",
              "      <td>0.210062</td>\n",
              "      <td>0.172101</td>\n",
              "      <td>-0.044786</td>\n",
              "      <td>0.021918</td>\n",
              "      <td>1.120538</td>\n",
              "      <td>-1.091967</td>\n",
              "      <td>-1.154301</td>\n",
              "      <td>-0.249282</td>\n",
              "      <td>-0.715307</td>\n",
              "      <td>0.064785</td>\n",
              "      <td>-0.974877</td>\n",
              "      <td>-0.009976</td>\n",
              "      <td>0.260974</td>\n",
              "      <td>0.184346</td>\n",
              "      <td>-0.052806</td>\n",
              "      <td>-0.032343</td>\n",
              "      <td>0.041602</td>\n",
              "    </tr>\n",
              "    <tr>\n",
              "      <th>4</th>\n",
              "      <td>0.046208</td>\n",
              "      <td>1.104409</td>\n",
              "      <td>1.087384</td>\n",
              "      <td>0.737321</td>\n",
              "      <td>-0.178259</td>\n",
              "      <td>-0.633242</td>\n",
              "      <td>-1.378580</td>\n",
              "      <td>1.085134</td>\n",
              "      <td>-1.074329</td>\n",
              "      <td>-1.009801</td>\n",
              "      <td>-0.458548</td>\n",
              "      <td>-0.422510</td>\n",
              "      <td>0.029014</td>\n",
              "      <td>-0.073015</td>\n",
              "      <td>-0.163607</td>\n",
              "      <td>0.052883</td>\n",
              "      <td>0.026300</td>\n",
              "      <td>0.0</td>\n",
              "      <td>0.165904</td>\n",
              "      <td>0.595977</td>\n",
              "      <td>0.162613</td>\n",
              "      <td>-0.044786</td>\n",
              "      <td>0.021918</td>\n",
              "      <td>1.120538</td>\n",
              "      <td>-1.091967</td>\n",
              "      <td>-1.154301</td>\n",
              "      <td>-0.249282</td>\n",
              "      <td>-0.715307</td>\n",
              "      <td>0.064785</td>\n",
              "      <td>-0.974877</td>\n",
              "      <td>-0.009976</td>\n",
              "      <td>0.260974</td>\n",
              "      <td>0.184346</td>\n",
              "      <td>-0.052806</td>\n",
              "      <td>-0.032343</td>\n",
              "      <td>0.041602</td>\n",
              "    </tr>\n",
              "  </tbody>\n",
              "</table>\n",
              "</div>"
            ],
            "text/plain": [
              "   driving_license  ...  policy_sales_channel_vintage_max\n",
              "0         0.046208  ...                          0.041602\n",
              "1         0.046208  ...                          0.041602\n",
              "2         0.046208  ...                          0.041602\n",
              "3         0.046208  ...                          0.041602\n",
              "4         0.046208  ...                          0.041602\n",
              "\n",
              "[5 rows x 36 columns]"
            ]
          },
          "metadata": {
            "tags": []
          },
          "execution_count": 90
        }
      ]
    },
    {
      "cell_type": "code",
      "metadata": {
        "id": "togXRodL0JQ-",
        "colab_type": "code",
        "colab": {}
      },
      "source": [
        "# train.isnull().sum()"
      ],
      "execution_count": null,
      "outputs": []
    },
    {
      "cell_type": "code",
      "metadata": {
        "id": "dfSc4wcPzbxT",
        "colab_type": "code",
        "colab": {
          "base_uri": "https://localhost:8080/",
          "height": 235
        },
        "outputId": "91f508cd-e8ba-43fe-f6a2-6bfdbe0582d6"
      },
      "source": [
        "%%time\n",
        "\n",
        "folds = 5\n",
        "skf = StratifiedKFold(n_splits=folds, shuffle=True, random_state=55)\n",
        "val_data = pd.DataFrame()\n",
        "\n",
        "for i, (tr_idx, val_idx) in enumerate(skf.split(scaled_train, y)):\n",
        "  print('*'*50)\n",
        "  print(f'Fold number: {i+1}')\n",
        "\n",
        "  X_tr, X_val, y_tr, y_val = scaled_train.iloc[tr_idx], scaled_train.iloc[val_idx], \\\n",
        "                             y.iloc[tr_idx], y.iloc[val_idx]  \n",
        "\n",
        "  model = LogisticRegression(C=3, max_iter=50000, solver='sag', n_jobs=-1)\n",
        "  model.fit(X_tr, y_tr)\n",
        "\n",
        "  tmp = pd.concat([X_val, y_val], axis=1)\n",
        "  val_data = pd.concat([val_data, tmp], axis=0)"
      ],
      "execution_count": null,
      "outputs": [
        {
          "output_type": "stream",
          "text": [
            "**************************************************\n",
            "Fold number: 1\n",
            "**************************************************\n",
            "Fold number: 2\n",
            "**************************************************\n",
            "Fold number: 3\n",
            "**************************************************\n",
            "Fold number: 4\n",
            "**************************************************\n",
            "Fold number: 5\n",
            "CPU times: user 4min 59s, sys: 66.2 ms, total: 4min 59s\n",
            "Wall time: 4min 59s\n"
          ],
          "name": "stdout"
        }
      ]
    },
    {
      "cell_type": "code",
      "metadata": {
        "id": "ADqimTqpRKW2",
        "colab_type": "code",
        "colab": {
          "base_uri": "https://localhost:8080/",
          "height": 35
        },
        "outputId": "6c8fcef2-6fad-4dc6-a448-c0fc0eb632d0"
      },
      "source": [
        "y2 = np.array(val_data['response'])\n",
        "val_data.drop(['response'], axis=1, inplace=True)\n",
        "interim_preds = model.predict_proba(val_data)[:, 1]\n",
        "\n",
        "print(roc_auc_score(y2, interim_preds))\n",
        "\n",
        "# tmp2 = pd.DataFrame(model.predict_proba(test)[:, 1])\n",
        "# test_preds = pd.concat([test_preds, tmp2], axis=1)"
      ],
      "execution_count": null,
      "outputs": [
        {
          "output_type": "stream",
          "text": [
            "0.8455662197857112\n"
          ],
          "name": "stdout"
        }
      ]
    },
    {
      "cell_type": "code",
      "metadata": {
        "id": "YSiWFz7p_4xy",
        "colab_type": "code",
        "colab": {}
      },
      "source": [
        "lr_preds = pd.DataFrame(model.predict_proba(scaled_test)[:, 1], columns=['Response'])"
      ],
      "execution_count": null,
      "outputs": []
    },
    {
      "cell_type": "code",
      "metadata": {
        "id": "u_rg6Tbj_4VH",
        "colab_type": "code",
        "colab": {
          "base_uri": "https://localhost:8080/",
          "height": 206
        },
        "outputId": "86480044-3360-48d3-cfb0-4d05f06e9d23"
      },
      "source": [
        "orig_test = pd.read_csv('/content/test.csv')\n",
        "# preds = pd.DataFrame(model.predict_proba(test)[:, 1], columns=['Response'])\n",
        "lr_preds = pd.concat([orig_test['id'], lr_preds], axis=1)\n",
        "lr_preds.head()"
      ],
      "execution_count": null,
      "outputs": [
        {
          "output_type": "execute_result",
          "data": {
            "text/html": [
              "<div>\n",
              "<style scoped>\n",
              "    .dataframe tbody tr th:only-of-type {\n",
              "        vertical-align: middle;\n",
              "    }\n",
              "\n",
              "    .dataframe tbody tr th {\n",
              "        vertical-align: top;\n",
              "    }\n",
              "\n",
              "    .dataframe thead th {\n",
              "        text-align: right;\n",
              "    }\n",
              "</style>\n",
              "<table border=\"1\" class=\"dataframe\">\n",
              "  <thead>\n",
              "    <tr style=\"text-align: right;\">\n",
              "      <th></th>\n",
              "      <th>id</th>\n",
              "      <th>Response</th>\n",
              "    </tr>\n",
              "  </thead>\n",
              "  <tbody>\n",
              "    <tr>\n",
              "      <th>0</th>\n",
              "      <td>381110</td>\n",
              "      <td>0.000481</td>\n",
              "    </tr>\n",
              "    <tr>\n",
              "      <th>1</th>\n",
              "      <td>381111</td>\n",
              "      <td>0.303347</td>\n",
              "    </tr>\n",
              "    <tr>\n",
              "      <th>2</th>\n",
              "      <td>381112</td>\n",
              "      <td>0.291215</td>\n",
              "    </tr>\n",
              "    <tr>\n",
              "      <th>3</th>\n",
              "      <td>381113</td>\n",
              "      <td>0.003129</td>\n",
              "    </tr>\n",
              "    <tr>\n",
              "      <th>4</th>\n",
              "      <td>381114</td>\n",
              "      <td>0.000479</td>\n",
              "    </tr>\n",
              "  </tbody>\n",
              "</table>\n",
              "</div>"
            ],
            "text/plain": [
              "       id  Response\n",
              "0  381110  0.000481\n",
              "1  381111  0.303347\n",
              "2  381112  0.291215\n",
              "3  381113  0.003129\n",
              "4  381114  0.000479"
            ]
          },
          "metadata": {
            "tags": []
          },
          "execution_count": 96
        }
      ]
    },
    {
      "cell_type": "code",
      "metadata": {
        "id": "bV1wbRxcETBG",
        "colab_type": "code",
        "colab": {}
      },
      "source": [
        "lr_preds.to_csv('lr_09192020.csv', index=False)"
      ],
      "execution_count": null,
      "outputs": []
    },
    {
      "cell_type": "code",
      "metadata": {
        "id": "YIe3gYKTCcaf",
        "colab_type": "code",
        "colab": {
          "base_uri": "https://localhost:8080/",
          "height": 206
        },
        "outputId": "45e1aedc-7d61-4047-ff24-0b3015d8df3d"
      },
      "source": [
        "preds.head()"
      ],
      "execution_count": null,
      "outputs": [
        {
          "output_type": "execute_result",
          "data": {
            "text/html": [
              "<div>\n",
              "<style scoped>\n",
              "    .dataframe tbody tr th:only-of-type {\n",
              "        vertical-align: middle;\n",
              "    }\n",
              "\n",
              "    .dataframe tbody tr th {\n",
              "        vertical-align: top;\n",
              "    }\n",
              "\n",
              "    .dataframe thead th {\n",
              "        text-align: right;\n",
              "    }\n",
              "</style>\n",
              "<table border=\"1\" class=\"dataframe\">\n",
              "  <thead>\n",
              "    <tr style=\"text-align: right;\">\n",
              "      <th></th>\n",
              "      <th>id</th>\n",
              "      <th>Response</th>\n",
              "    </tr>\n",
              "  </thead>\n",
              "  <tbody>\n",
              "    <tr>\n",
              "      <th>0</th>\n",
              "      <td>381110</td>\n",
              "      <td>0.000575</td>\n",
              "    </tr>\n",
              "    <tr>\n",
              "      <th>1</th>\n",
              "      <td>381111</td>\n",
              "      <td>0.334836</td>\n",
              "    </tr>\n",
              "    <tr>\n",
              "      <th>2</th>\n",
              "      <td>381112</td>\n",
              "      <td>0.303175</td>\n",
              "    </tr>\n",
              "    <tr>\n",
              "      <th>3</th>\n",
              "      <td>381113</td>\n",
              "      <td>0.010626</td>\n",
              "    </tr>\n",
              "    <tr>\n",
              "      <th>4</th>\n",
              "      <td>381114</td>\n",
              "      <td>0.000479</td>\n",
              "    </tr>\n",
              "  </tbody>\n",
              "</table>\n",
              "</div>"
            ],
            "text/plain": [
              "       id  Response\n",
              "0  381110  0.000575\n",
              "1  381111  0.334836\n",
              "2  381112  0.303175\n",
              "3  381113  0.010626\n",
              "4  381114  0.000479"
            ]
          },
          "metadata": {
            "tags": []
          },
          "execution_count": 104
        }
      ]
    },
    {
      "cell_type": "code",
      "metadata": {
        "id": "wN7X4iu0Crgb",
        "colab_type": "code",
        "colab": {
          "base_uri": "https://localhost:8080/",
          "height": 206
        },
        "outputId": "3658b905-56c5-4e05-ad57-242f10323f17"
      },
      "source": [
        "tmp = pd.concat([preds, lr_preds['Response']], axis=1)\n",
        "tmp['new'] = (tmp.iloc[:, 1] + tmp.iloc[:, 2])/2\n",
        "tmp = tmp.iloc[:,[0, 3]]\n",
        "tmp.columns.values[-1] = 'Response'\n",
        "tmp.head()"
      ],
      "execution_count": null,
      "outputs": [
        {
          "output_type": "execute_result",
          "data": {
            "text/html": [
              "<div>\n",
              "<style scoped>\n",
              "    .dataframe tbody tr th:only-of-type {\n",
              "        vertical-align: middle;\n",
              "    }\n",
              "\n",
              "    .dataframe tbody tr th {\n",
              "        vertical-align: top;\n",
              "    }\n",
              "\n",
              "    .dataframe thead th {\n",
              "        text-align: right;\n",
              "    }\n",
              "</style>\n",
              "<table border=\"1\" class=\"dataframe\">\n",
              "  <thead>\n",
              "    <tr style=\"text-align: right;\">\n",
              "      <th></th>\n",
              "      <th>id</th>\n",
              "      <th>Response</th>\n",
              "    </tr>\n",
              "  </thead>\n",
              "  <tbody>\n",
              "    <tr>\n",
              "      <th>0</th>\n",
              "      <td>381110</td>\n",
              "      <td>0.000528</td>\n",
              "    </tr>\n",
              "    <tr>\n",
              "      <th>1</th>\n",
              "      <td>381111</td>\n",
              "      <td>0.319091</td>\n",
              "    </tr>\n",
              "    <tr>\n",
              "      <th>2</th>\n",
              "      <td>381112</td>\n",
              "      <td>0.297195</td>\n",
              "    </tr>\n",
              "    <tr>\n",
              "      <th>3</th>\n",
              "      <td>381113</td>\n",
              "      <td>0.006878</td>\n",
              "    </tr>\n",
              "    <tr>\n",
              "      <th>4</th>\n",
              "      <td>381114</td>\n",
              "      <td>0.000479</td>\n",
              "    </tr>\n",
              "  </tbody>\n",
              "</table>\n",
              "</div>"
            ],
            "text/plain": [
              "       id  Response\n",
              "0  381110  0.000528\n",
              "1  381111  0.319091\n",
              "2  381112  0.297195\n",
              "3  381113  0.006878\n",
              "4  381114  0.000479"
            ]
          },
          "metadata": {
            "tags": []
          },
          "execution_count": 105
        }
      ]
    },
    {
      "cell_type": "code",
      "metadata": {
        "id": "uLdmtsYxDlPe",
        "colab_type": "code",
        "colab": {}
      },
      "source": [
        "tmp.to_csv('blend_lgbmlr_09192020.csv', index=False)"
      ],
      "execution_count": null,
      "outputs": []
    },
    {
      "cell_type": "code",
      "metadata": {
        "id": "KoQlwxiqMvqv",
        "colab_type": "code",
        "colab": {}
      },
      "source": [
        "# predict_proba vs predict\n",
        "# Different result with roc_auc_score() and auc()"
      ],
      "execution_count": null,
      "outputs": []
    },
    {
      "cell_type": "markdown",
      "metadata": {
        "id": "Tmvob0DZ2vkC",
        "colab_type": "text"
      },
      "source": [
        "## CatBoost"
      ]
    },
    {
      "cell_type": "code",
      "metadata": {
        "colab_type": "code",
        "id": "y1K3hNSc2zYD",
        "colab": {
          "base_uri": "https://localhost:8080/",
          "height": 199
        },
        "outputId": "119a38de-df12-49b7-af57-cad999859005"
      },
      "source": [
        "train = unified[unified['train']==1]\n",
        "test = unified[unified['train']==0]\n",
        "\n",
        "columns = ['id', 'driving_license', 'region_code', 'previously_insured', \n",
        "           'policy_sales_channel', 'annual_premium', 'age',\n",
        "           'vintage', 'gender_bins', 'vehicle_age_bins', \n",
        "           'vehicle_damage_bins', 'response'\n",
        "           ,'region_code_age_count',\n",
        "           'region_code_age_mean', 'region_code_age_sd', 'region_code_age_min',\n",
        "           'region_code_age_max',\n",
        "           'region_code_annual_premium_mean', 'region_code_annual_premium_sd',\n",
        "           'region_code_annual_premium_min', 'region_code_annual_premium_max',\n",
        "           'region_code_vintage_mean',\n",
        "           'region_code_vintage_sd', 'region_code_vintage_min',\n",
        "           'region_code_vintage_max', 'policy_sales_channel_age_count',\n",
        "           'policy_sales_channel_age_mean', 'policy_sales_channel_age_sd',\n",
        "           'policy_sales_channel_age_min', 'policy_sales_channel_age_max',\n",
        "           'policy_sales_channel_annual_premium_mean',\n",
        "           'policy_sales_channel_annual_premium_sd',\n",
        "           'policy_sales_channel_annual_premium_min',\n",
        "           'policy_sales_channel_annual_premium_max',\n",
        "           'policy_sales_channel_vintage_mean', 'policy_sales_channel_vintage_sd',\n",
        "           'policy_sales_channel_vintage_min', 'policy_sales_channel_vintage_max']\n",
        "\n",
        "cat_columns = ['gender_bins', 'driving_license', 'region_code',\n",
        "               'previously_insured', 'vehicle_age_bins', 'vehicle_damage_bins',\n",
        "               'policy_sales_channel']           \n",
        "\n",
        "for c in cat_columns:\n",
        "  train[c] = train[c].astype(int)\n",
        "  test[c] = test[c].astype(int)\n",
        "  \n",
        "train = train[columns]\n",
        "test = test[columns]\n",
        "\n",
        "# train = train[:100]\n",
        "\n",
        "y = train['response']\n",
        "train.drop(['response', 'id'], axis=1, inplace=True) # \n",
        "test.drop(['response', 'id'], axis=1, inplace=True) # "
      ],
      "execution_count": null,
      "outputs": [
        {
          "output_type": "stream",
          "text": [
            "/usr/local/lib/python3.6/dist-packages/ipykernel_launcher.py:30: SettingWithCopyWarning: \n",
            "A value is trying to be set on a copy of a slice from a DataFrame.\n",
            "Try using .loc[row_indexer,col_indexer] = value instead\n",
            "\n",
            "See the caveats in the documentation: https://pandas.pydata.org/pandas-docs/stable/user_guide/indexing.html#returning-a-view-versus-a-copy\n",
            "/usr/local/lib/python3.6/dist-packages/ipykernel_launcher.py:31: SettingWithCopyWarning: \n",
            "A value is trying to be set on a copy of a slice from a DataFrame.\n",
            "Try using .loc[row_indexer,col_indexer] = value instead\n",
            "\n",
            "See the caveats in the documentation: https://pandas.pydata.org/pandas-docs/stable/user_guide/indexing.html#returning-a-view-versus-a-copy\n"
          ],
          "name": "stderr"
        }
      ]
    },
    {
      "cell_type": "code",
      "metadata": {
        "colab_type": "code",
        "id": "gfZuvhYy2zYm",
        "colab": {
          "base_uri": "https://localhost:8080/",
          "height": 1000
        },
        "outputId": "d47edb8d-46b2-4bfa-e014-489e53db773f"
      },
      "source": [
        "%%time\n",
        "folds = 5\n",
        "seed = [55, 231, 12, 958, 9] \n",
        "test_preds = pd.DataFrame()\n",
        "\n",
        "for s in seed:\n",
        "  val_data = pd.DataFrame()\n",
        "  print(f'Running for seed {s}')\n",
        "  skf = StratifiedKFold(n_splits=folds, shuffle=True, random_state=s)\n",
        "  for i, (tr_idx, val_idx) in enumerate(skf.split(train, y)):\n",
        "    print('*'*50)\n",
        "    print(f'Fold number: {i+1}')\n",
        "\n",
        "    X_tr, X_val, y_tr, y_val = train.iloc[tr_idx], train.iloc[val_idx], \\\n",
        "                              y.iloc[tr_idx], y.iloc[val_idx]  \n",
        "    model = CatBoostClassifier(\n",
        "           early_stopping_rounds=200\n",
        "         , verbose=100\n",
        "         , learning_rate = 0.01\n",
        "         , max_depth = 8\n",
        "         , loss_function = 'Logloss'\n",
        "         , random_seed = s\n",
        "         , eval_metric = 'AUC'\n",
        "        #  , subsample = 0.6\n",
        "         , n_estimators = 5000\n",
        "         , task_type = 'GPU'\n",
        "        )\n",
        "    model.fit(X_tr, y_tr, eval_set=[(X_val, y_val)], cat_features=cat_columns)\n",
        "    tmp = pd.concat([X_val, y_val], axis=1)\n",
        "\n",
        "    val_data = pd.concat([val_data, tmp], axis=0)\n",
        "\n",
        "  y2 = np.array(val_data['response'])\n",
        "  val_data.drop(['response'], axis=1, inplace=True)\n",
        "  interim_preds = model.predict_proba(val_data)[:, 1]\n",
        "\n",
        "  print('#'*20)\n",
        "  print(roc_auc_score(y2, interim_preds))\n",
        "\n",
        "  tmp2 = pd.DataFrame(model.predict_proba(test)[:, 1])\n",
        "  test_preds = pd.concat([test_preds, tmp2], axis=1)"
      ],
      "execution_count": null,
      "outputs": [
        {
          "output_type": "stream",
          "text": [
            "Running for seed 55\n",
            "**************************************************\n",
            "Fold number: 1\n",
            "0:\tlearn: 0.7311091\ttest: 0.7335839\tbest: 0.7335839 (0)\ttotal: 90.7ms\tremaining: 7m 33s\n",
            "100:\tlearn: 0.7377211\ttest: 0.7392737\tbest: 0.7392864 (97)\ttotal: 5.65s\tremaining: 4m 34s\n",
            "200:\tlearn: 0.8463637\ttest: 0.8462277\tbest: 0.8462277 (200)\ttotal: 11.7s\tremaining: 4m 38s\n",
            "300:\tlearn: 0.8523053\ttest: 0.8510224\tbest: 0.8510224 (300)\ttotal: 17.6s\tremaining: 4m 34s\n",
            "400:\tlearn: 0.8550942\ttest: 0.8529706\tbest: 0.8529706 (400)\ttotal: 23.4s\tremaining: 4m 28s\n",
            "500:\tlearn: 0.8570371\ttest: 0.8540331\tbest: 0.8540331 (500)\ttotal: 29.2s\tremaining: 4m 22s\n",
            "600:\tlearn: 0.8582798\ttest: 0.8546723\tbest: 0.8546723 (600)\ttotal: 34.8s\tremaining: 4m 14s\n",
            "700:\tlearn: 0.8592259\ttest: 0.8550849\tbest: 0.8550873 (699)\ttotal: 40.5s\tremaining: 4m 8s\n",
            "800:\tlearn: 0.8599913\ttest: 0.8553676\tbest: 0.8553676 (800)\ttotal: 46.1s\tremaining: 4m 1s\n",
            "900:\tlearn: 0.8606264\ttest: 0.8555413\tbest: 0.8555413 (900)\ttotal: 51.7s\tremaining: 3m 55s\n",
            "1000:\tlearn: 0.8611901\ttest: 0.8556786\tbest: 0.8556786 (1000)\ttotal: 57.2s\tremaining: 3m 48s\n",
            "1100:\tlearn: 0.8616904\ttest: 0.8557767\tbest: 0.8557767 (1100)\ttotal: 1m 2s\tremaining: 3m 42s\n",
            "1200:\tlearn: 0.8621416\ttest: 0.8559200\tbest: 0.8559217 (1197)\ttotal: 1m 8s\tremaining: 3m 36s\n",
            "1300:\tlearn: 0.8625669\ttest: 0.8560180\tbest: 0.8560180 (1300)\ttotal: 1m 13s\tremaining: 3m 30s\n",
            "1400:\tlearn: 0.8629377\ttest: 0.8561084\tbest: 0.8561138 (1392)\ttotal: 1m 19s\tremaining: 3m 23s\n",
            "1500:\tlearn: 0.8633566\ttest: 0.8561951\tbest: 0.8561961 (1499)\ttotal: 1m 25s\tremaining: 3m 18s\n",
            "1600:\tlearn: 0.8637447\ttest: 0.8562630\tbest: 0.8562638 (1593)\ttotal: 1m 30s\tremaining: 3m 12s\n",
            "1700:\tlearn: 0.8640952\ttest: 0.8562879\tbest: 0.8562918 (1684)\ttotal: 1m 36s\tremaining: 3m 7s\n",
            "1800:\tlearn: 0.8644026\ttest: 0.8563267\tbest: 0.8563267 (1800)\ttotal: 1m 42s\tremaining: 3m 1s\n",
            "1900:\tlearn: 0.8647778\ttest: 0.8563731\tbest: 0.8563746 (1897)\ttotal: 1m 47s\tremaining: 2m 55s\n",
            "2000:\tlearn: 0.8651299\ttest: 0.8564288\tbest: 0.8564295 (1997)\ttotal: 1m 53s\tremaining: 2m 50s\n",
            "2100:\tlearn: 0.8654294\ttest: 0.8564501\tbest: 0.8564562 (2067)\ttotal: 1m 59s\tremaining: 2m 44s\n",
            "2200:\tlearn: 0.8657476\ttest: 0.8564883\tbest: 0.8564883 (2200)\ttotal: 2m 4s\tremaining: 2m 38s\n",
            "2300:\tlearn: 0.8660254\ttest: 0.8565040\tbest: 0.8565052 (2295)\ttotal: 2m 10s\tremaining: 2m 33s\n",
            "2400:\tlearn: 0.8662935\ttest: 0.8565116\tbest: 0.8565140 (2387)\ttotal: 2m 16s\tremaining: 2m 27s\n",
            "2500:\tlearn: 0.8665389\ttest: 0.8564878\tbest: 0.8565144 (2403)\ttotal: 2m 21s\tremaining: 2m 21s\n",
            "2600:\tlearn: 0.8667681\ttest: 0.8564964\tbest: 0.8565144 (2403)\ttotal: 2m 27s\tremaining: 2m 15s\n",
            "bestTest = 0.8565143645\n",
            "bestIteration = 2403\n",
            "Shrink model to first 2404 iterations.\n",
            "**************************************************\n",
            "Fold number: 2\n",
            "0:\tlearn: 0.7312598\ttest: 0.7363416\tbest: 0.7363416 (0)\ttotal: 50.6ms\tremaining: 4m 13s\n",
            "100:\tlearn: 0.7370315\ttest: 0.7402871\tbest: 0.7403024 (76)\ttotal: 5.27s\tremaining: 4m 15s\n",
            "200:\tlearn: 0.8453746\ttest: 0.8464279\tbest: 0.8464279 (200)\ttotal: 11s\tremaining: 4m 22s\n",
            "300:\tlearn: 0.8519287\ttest: 0.8521617\tbest: 0.8521617 (300)\ttotal: 16.9s\tremaining: 4m 24s\n",
            "400:\tlearn: 0.8545796\ttest: 0.8541901\tbest: 0.8541901 (400)\ttotal: 22.7s\tremaining: 4m 20s\n",
            "500:\tlearn: 0.8563857\ttest: 0.8554117\tbest: 0.8554117 (500)\ttotal: 28.4s\tremaining: 4m 14s\n",
            "600:\tlearn: 0.8577139\ttest: 0.8561150\tbest: 0.8561150 (600)\ttotal: 34s\tremaining: 4m 8s\n",
            "700:\tlearn: 0.8586526\ttest: 0.8565716\tbest: 0.8565716 (700)\ttotal: 39.6s\tremaining: 4m 2s\n",
            "800:\tlearn: 0.8594219\ttest: 0.8569181\tbest: 0.8569181 (800)\ttotal: 45.2s\tremaining: 3m 57s\n",
            "900:\tlearn: 0.8600586\ttest: 0.8571108\tbest: 0.8571108 (900)\ttotal: 50.9s\tremaining: 3m 51s\n",
            "1000:\tlearn: 0.8606650\ttest: 0.8573500\tbest: 0.8573503 (999)\ttotal: 56.5s\tremaining: 3m 45s\n",
            "1100:\tlearn: 0.8611663\ttest: 0.8574550\tbest: 0.8574586 (1089)\ttotal: 1m 2s\tremaining: 3m 39s\n",
            "1200:\tlearn: 0.8616417\ttest: 0.8575534\tbest: 0.8575534 (1200)\ttotal: 1m 7s\tremaining: 3m 34s\n",
            "1300:\tlearn: 0.8620975\ttest: 0.8576726\tbest: 0.8576726 (1300)\ttotal: 1m 13s\tremaining: 3m 28s\n",
            "1400:\tlearn: 0.8625131\ttest: 0.8577358\tbest: 0.8577358 (1400)\ttotal: 1m 18s\tremaining: 3m 22s\n",
            "1500:\tlearn: 0.8629638\ttest: 0.8578297\tbest: 0.8578304 (1489)\ttotal: 1m 24s\tremaining: 3m 17s\n",
            "1600:\tlearn: 0.8633389\ttest: 0.8579026\tbest: 0.8579026 (1600)\ttotal: 1m 30s\tremaining: 3m 11s\n",
            "1700:\tlearn: 0.8637190\ttest: 0.8579229\tbest: 0.8579268 (1684)\ttotal: 1m 35s\tremaining: 3m 6s\n",
            "1800:\tlearn: 0.8640092\ttest: 0.8579337\tbest: 0.8579338 (1765)\ttotal: 1m 41s\tremaining: 3m\n",
            "1900:\tlearn: 0.8643703\ttest: 0.8579789\tbest: 0.8579795 (1899)\ttotal: 1m 47s\tremaining: 2m 54s\n",
            "2000:\tlearn: 0.8646562\ttest: 0.8579962\tbest: 0.8580021 (1984)\ttotal: 1m 52s\tremaining: 2m 49s\n",
            "2100:\tlearn: 0.8649500\ttest: 0.8580193\tbest: 0.8580193 (2100)\ttotal: 1m 58s\tremaining: 2m 43s\n",
            "2200:\tlearn: 0.8652367\ttest: 0.8580227\tbest: 0.8580298 (2134)\ttotal: 2m 3s\tremaining: 2m 37s\n",
            "2300:\tlearn: 0.8655293\ttest: 0.8580469\tbest: 0.8580542 (2292)\ttotal: 2m 9s\tremaining: 2m 32s\n",
            "2400:\tlearn: 0.8658146\ttest: 0.8580798\tbest: 0.8580810 (2396)\ttotal: 2m 15s\tremaining: 2m 26s\n",
            "2500:\tlearn: 0.8660820\ttest: 0.8581026\tbest: 0.8581101 (2489)\ttotal: 2m 21s\tremaining: 2m 20s\n",
            "2600:\tlearn: 0.8663349\ttest: 0.8580984\tbest: 0.8581101 (2489)\ttotal: 2m 26s\tremaining: 2m 15s\n",
            "2700:\tlearn: 0.8665825\ttest: 0.8581115\tbest: 0.8581144 (2671)\ttotal: 2m 32s\tremaining: 2m 9s\n",
            "2800:\tlearn: 0.8668158\ttest: 0.8581235\tbest: 0.8581235 (2800)\ttotal: 2m 38s\tremaining: 2m 4s\n",
            "2900:\tlearn: 0.8670323\ttest: 0.8581212\tbest: 0.8581279 (2814)\ttotal: 2m 43s\tremaining: 1m 58s\n",
            "3000:\tlearn: 0.8672305\ttest: 0.8581101\tbest: 0.8581282 (2922)\ttotal: 2m 49s\tremaining: 1m 52s\n",
            "3100:\tlearn: 0.8674721\ttest: 0.8581086\tbest: 0.8581282 (2922)\ttotal: 2m 55s\tremaining: 1m 47s\n",
            "bestTest = 0.8581282198\n",
            "bestIteration = 2922\n",
            "Shrink model to first 2923 iterations.\n",
            "**************************************************\n",
            "Fold number: 3\n",
            "0:\tlearn: 0.7309411\ttest: 0.7388048\tbest: 0.7388048 (0)\ttotal: 50.7ms\tremaining: 4m 13s\n",
            "100:\tlearn: 0.7362224\ttest: 0.7420515\tbest: 0.7420515 (100)\ttotal: 5.31s\tremaining: 4m 17s\n",
            "200:\tlearn: 0.8456245\ttest: 0.8457685\tbest: 0.8457685 (200)\ttotal: 11s\tremaining: 4m 23s\n",
            "300:\tlearn: 0.8515866\ttest: 0.8508697\tbest: 0.8508697 (300)\ttotal: 16.9s\tremaining: 4m 23s\n",
            "400:\tlearn: 0.8544917\ttest: 0.8530049\tbest: 0.8530049 (400)\ttotal: 22.7s\tremaining: 4m 19s\n",
            "500:\tlearn: 0.8562647\ttest: 0.8541882\tbest: 0.8541882 (500)\ttotal: 28.3s\tremaining: 4m 13s\n",
            "600:\tlearn: 0.8576357\ttest: 0.8550835\tbest: 0.8550835 (600)\ttotal: 34s\tremaining: 4m 8s\n",
            "700:\tlearn: 0.8585408\ttest: 0.8555924\tbest: 0.8555924 (700)\ttotal: 39.5s\tremaining: 4m 2s\n",
            "800:\tlearn: 0.8592965\ttest: 0.8559857\tbest: 0.8559857 (800)\ttotal: 45.2s\tremaining: 3m 56s\n",
            "900:\tlearn: 0.8599608\ttest: 0.8562609\tbest: 0.8562623 (899)\ttotal: 50.8s\tremaining: 3m 50s\n",
            "1000:\tlearn: 0.8605332\ttest: 0.8564753\tbest: 0.8564753 (1000)\ttotal: 56.3s\tremaining: 3m 44s\n",
            "1100:\tlearn: 0.8610385\ttest: 0.8566432\tbest: 0.8566445 (1098)\ttotal: 1m 1s\tremaining: 3m 39s\n",
            "1200:\tlearn: 0.8614609\ttest: 0.8567668\tbest: 0.8567668 (1200)\ttotal: 1m 7s\tremaining: 3m 33s\n",
            "1300:\tlearn: 0.8618794\ttest: 0.8568626\tbest: 0.8568638 (1298)\ttotal: 1m 12s\tremaining: 3m 27s\n",
            "1400:\tlearn: 0.8623015\ttest: 0.8569840\tbest: 0.8569855 (1397)\ttotal: 1m 18s\tremaining: 3m 21s\n",
            "1500:\tlearn: 0.8626786\ttest: 0.8570577\tbest: 0.8570577 (1500)\ttotal: 1m 24s\tremaining: 3m 16s\n",
            "1600:\tlearn: 0.8630582\ttest: 0.8571311\tbest: 0.8571355 (1591)\ttotal: 1m 29s\tremaining: 3m 10s\n",
            "1700:\tlearn: 0.8634216\ttest: 0.8572042\tbest: 0.8572042 (1700)\ttotal: 1m 35s\tremaining: 3m 5s\n",
            "1800:\tlearn: 0.8637535\ttest: 0.8572905\tbest: 0.8572945 (1798)\ttotal: 1m 41s\tremaining: 2m 59s\n",
            "1900:\tlearn: 0.8640829\ttest: 0.8573711\tbest: 0.8573711 (1900)\ttotal: 1m 46s\tremaining: 2m 53s\n",
            "2000:\tlearn: 0.8643560\ttest: 0.8574153\tbest: 0.8574162 (1998)\ttotal: 1m 52s\tremaining: 2m 48s\n",
            "2100:\tlearn: 0.8646096\ttest: 0.8574442\tbest: 0.8574444 (2099)\ttotal: 1m 57s\tremaining: 2m 42s\n",
            "2200:\tlearn: 0.8649103\ttest: 0.8574779\tbest: 0.8574790 (2197)\ttotal: 2m 3s\tremaining: 2m 37s\n",
            "2300:\tlearn: 0.8651688\ttest: 0.8575166\tbest: 0.8575212 (2294)\ttotal: 2m 9s\tremaining: 2m 31s\n",
            "2400:\tlearn: 0.8654454\ttest: 0.8575445\tbest: 0.8575478 (2397)\ttotal: 2m 14s\tremaining: 2m 26s\n",
            "2500:\tlearn: 0.8656638\ttest: 0.8575581\tbest: 0.8575613 (2493)\ttotal: 2m 20s\tremaining: 2m 20s\n",
            "2600:\tlearn: 0.8658891\ttest: 0.8575632\tbest: 0.8575745 (2577)\ttotal: 2m 26s\tremaining: 2m 14s\n",
            "2700:\tlearn: 0.8661464\ttest: 0.8576086\tbest: 0.8576086 (2700)\ttotal: 2m 31s\tremaining: 2m 9s\n",
            "2800:\tlearn: 0.8663747\ttest: 0.8576156\tbest: 0.8576169 (2751)\ttotal: 2m 37s\tremaining: 2m 3s\n",
            "2900:\tlearn: 0.8666179\ttest: 0.8576343\tbest: 0.8576348 (2897)\ttotal: 2m 43s\tremaining: 1m 58s\n",
            "3000:\tlearn: 0.8668412\ttest: 0.8576433\tbest: 0.8576446 (2998)\ttotal: 2m 48s\tremaining: 1m 52s\n",
            "3100:\tlearn: 0.8670466\ttest: 0.8576493\tbest: 0.8576561 (3043)\ttotal: 2m 54s\tremaining: 1m 46s\n",
            "3200:\tlearn: 0.8672609\ttest: 0.8576494\tbest: 0.8576561 (3043)\ttotal: 3m\tremaining: 1m 41s\n",
            "bestTest = 0.8576560915\n",
            "bestIteration = 3043\n",
            "Shrink model to first 3044 iterations.\n",
            "**************************************************\n",
            "Fold number: 4\n",
            "0:\tlearn: 0.7331835\ttest: 0.7322115\tbest: 0.7322115 (0)\ttotal: 51.2ms\tremaining: 4m 16s\n",
            "100:\tlearn: 0.7373532\ttest: 0.7360233\tbest: 0.7361745 (43)\ttotal: 5.26s\tremaining: 4m 15s\n",
            "200:\tlearn: 0.8458638\ttest: 0.8452284\tbest: 0.8452284 (200)\ttotal: 11s\tremaining: 4m 21s\n",
            "300:\tlearn: 0.8520211\ttest: 0.8506088\tbest: 0.8506088 (300)\ttotal: 16.8s\tremaining: 4m 22s\n",
            "400:\tlearn: 0.8546089\ttest: 0.8527004\tbest: 0.8527004 (400)\ttotal: 22.6s\tremaining: 4m 18s\n",
            "500:\tlearn: 0.8562151\ttest: 0.8536893\tbest: 0.8536893 (500)\ttotal: 28.1s\tremaining: 4m 12s\n",
            "600:\tlearn: 0.8576565\ttest: 0.8545106\tbest: 0.8545106 (600)\ttotal: 33.7s\tremaining: 4m 6s\n",
            "700:\tlearn: 0.8586860\ttest: 0.8550225\tbest: 0.8550225 (700)\ttotal: 39.4s\tremaining: 4m 1s\n",
            "800:\tlearn: 0.8594829\ttest: 0.8553863\tbest: 0.8553863 (800)\ttotal: 45s\tremaining: 3m 55s\n",
            "900:\tlearn: 0.8601958\ttest: 0.8556478\tbest: 0.8556478 (900)\ttotal: 50.6s\tremaining: 3m 50s\n",
            "1000:\tlearn: 0.8607559\ttest: 0.8558161\tbest: 0.8558161 (1000)\ttotal: 56.2s\tremaining: 3m 44s\n",
            "1100:\tlearn: 0.8612862\ttest: 0.8559402\tbest: 0.8559402 (1100)\ttotal: 1m 1s\tremaining: 3m 38s\n",
            "1200:\tlearn: 0.8617789\ttest: 0.8560663\tbest: 0.8560665 (1196)\ttotal: 1m 7s\tremaining: 3m 33s\n",
            "1300:\tlearn: 0.8622739\ttest: 0.8561822\tbest: 0.8561856 (1298)\ttotal: 1m 13s\tremaining: 3m 27s\n",
            "1400:\tlearn: 0.8626981\ttest: 0.8562659\tbest: 0.8562659 (1400)\ttotal: 1m 18s\tremaining: 3m 21s\n",
            "1500:\tlearn: 0.8630835\ttest: 0.8563105\tbest: 0.8563180 (1490)\ttotal: 1m 24s\tremaining: 3m 16s\n",
            "1600:\tlearn: 0.8634571\ttest: 0.8563551\tbest: 0.8563551 (1600)\ttotal: 1m 29s\tremaining: 3m 10s\n",
            "1700:\tlearn: 0.8638516\ttest: 0.8563761\tbest: 0.8563855 (1685)\ttotal: 1m 35s\tremaining: 3m 5s\n",
            "1800:\tlearn: 0.8641450\ttest: 0.8563719\tbest: 0.8563855 (1685)\ttotal: 1m 41s\tremaining: 2m 59s\n",
            "1900:\tlearn: 0.8644508\ttest: 0.8563864\tbest: 0.8563902 (1886)\ttotal: 1m 47s\tremaining: 2m 54s\n",
            "2000:\tlearn: 0.8647725\ttest: 0.8564209\tbest: 0.8564209 (2000)\ttotal: 1m 52s\tremaining: 2m 48s\n",
            "2100:\tlearn: 0.8650417\ttest: 0.8564205\tbest: 0.8564284 (2029)\ttotal: 1m 58s\tremaining: 2m 43s\n",
            "2200:\tlearn: 0.8653359\ttest: 0.8564448\tbest: 0.8564448 (2200)\ttotal: 2m 3s\tremaining: 2m 37s\n",
            "2300:\tlearn: 0.8655877\ttest: 0.8564457\tbest: 0.8564478 (2298)\ttotal: 2m 9s\tremaining: 2m 31s\n",
            "2400:\tlearn: 0.8658258\ttest: 0.8564404\tbest: 0.8564545 (2337)\ttotal: 2m 15s\tremaining: 2m 26s\n",
            "2500:\tlearn: 0.8661005\ttest: 0.8564411\tbest: 0.8564545 (2337)\ttotal: 2m 20s\tremaining: 2m 20s\n",
            "bestTest = 0.8564545214\n",
            "bestIteration = 2337\n",
            "Shrink model to first 2338 iterations.\n",
            "**************************************************\n",
            "Fold number: 5\n",
            "0:\tlearn: 0.7333111\ttest: 0.7356328\tbest: 0.7356328 (0)\ttotal: 50.9ms\tremaining: 4m 14s\n",
            "100:\tlearn: 0.7374780\ttest: 0.7390566\tbest: 0.7390566 (100)\ttotal: 5.29s\tremaining: 4m 16s\n",
            "200:\tlearn: 0.8457508\ttest: 0.8454225\tbest: 0.8454225 (200)\ttotal: 11s\tremaining: 4m 23s\n",
            "300:\tlearn: 0.8517787\ttest: 0.8513814\tbest: 0.8513814 (300)\ttotal: 16.8s\tremaining: 4m 22s\n",
            "400:\tlearn: 0.8546674\ttest: 0.8538798\tbest: 0.8538798 (400)\ttotal: 22.6s\tremaining: 4m 19s\n",
            "500:\tlearn: 0.8564116\ttest: 0.8551194\tbest: 0.8551194 (500)\ttotal: 28.3s\tremaining: 4m 14s\n",
            "600:\tlearn: 0.8575732\ttest: 0.8559022\tbest: 0.8559022 (600)\ttotal: 33.9s\tremaining: 4m 8s\n",
            "700:\tlearn: 0.8585010\ttest: 0.8564943\tbest: 0.8564943 (700)\ttotal: 39.6s\tremaining: 4m 2s\n",
            "800:\tlearn: 0.8592851\ttest: 0.8569122\tbest: 0.8569122 (800)\ttotal: 45.2s\tremaining: 3m 56s\n",
            "900:\tlearn: 0.8599481\ttest: 0.8572018\tbest: 0.8572019 (899)\ttotal: 50.8s\tremaining: 3m 51s\n",
            "1000:\tlearn: 0.8605525\ttest: 0.8574636\tbest: 0.8574636 (1000)\ttotal: 56.4s\tremaining: 3m 45s\n",
            "1100:\tlearn: 0.8610670\ttest: 0.8576327\tbest: 0.8576327 (1100)\ttotal: 1m 2s\tremaining: 3m 39s\n",
            "1200:\tlearn: 0.8615785\ttest: 0.8577896\tbest: 0.8577896 (1200)\ttotal: 1m 7s\tremaining: 3m 34s\n",
            "1300:\tlearn: 0.8620090\ttest: 0.8578486\tbest: 0.8578492 (1297)\ttotal: 1m 13s\tremaining: 3m 28s\n",
            "1400:\tlearn: 0.8623867\ttest: 0.8579570\tbest: 0.8579579 (1396)\ttotal: 1m 18s\tremaining: 3m 22s\n",
            "1500:\tlearn: 0.8627742\ttest: 0.8581013\tbest: 0.8581013 (1499)\ttotal: 1m 24s\tremaining: 3m 16s\n",
            "1600:\tlearn: 0.8631383\ttest: 0.8581603\tbest: 0.8581610 (1579)\ttotal: 1m 30s\tremaining: 3m 11s\n",
            "1700:\tlearn: 0.8634833\ttest: 0.8582274\tbest: 0.8582283 (1699)\ttotal: 1m 35s\tremaining: 3m 5s\n",
            "1800:\tlearn: 0.8638341\ttest: 0.8582820\tbest: 0.8582820 (1800)\ttotal: 1m 41s\tremaining: 3m\n",
            "1900:\tlearn: 0.8641357\ttest: 0.8583246\tbest: 0.8583302 (1886)\ttotal: 1m 46s\tremaining: 2m 54s\n",
            "2000:\tlearn: 0.8644371\ttest: 0.8583822\tbest: 0.8583839 (1999)\ttotal: 1m 52s\tremaining: 2m 48s\n",
            "2100:\tlearn: 0.8647339\ttest: 0.8584483\tbest: 0.8584485 (2099)\ttotal: 1m 58s\tremaining: 2m 43s\n",
            "2200:\tlearn: 0.8650144\ttest: 0.8584834\tbest: 0.8584834 (2200)\ttotal: 2m 3s\tremaining: 2m 37s\n",
            "2300:\tlearn: 0.8653003\ttest: 0.8585360\tbest: 0.8585363 (2299)\ttotal: 2m 9s\tremaining: 2m 31s\n",
            "2400:\tlearn: 0.8655236\ttest: 0.8585561\tbest: 0.8585566 (2397)\ttotal: 2m 15s\tremaining: 2m 26s\n",
            "2500:\tlearn: 0.8658161\ttest: 0.8585854\tbest: 0.8585872 (2485)\ttotal: 2m 20s\tremaining: 2m 20s\n",
            "2600:\tlearn: 0.8660728\ttest: 0.8586098\tbest: 0.8586098 (2600)\ttotal: 2m 26s\tremaining: 2m 15s\n",
            "2700:\tlearn: 0.8662799\ttest: 0.8586081\tbest: 0.8586148 (2680)\ttotal: 2m 32s\tremaining: 2m 9s\n",
            "2800:\tlearn: 0.8664922\ttest: 0.8586087\tbest: 0.8586165 (2757)\ttotal: 2m 37s\tremaining: 2m 3s\n",
            "2900:\tlearn: 0.8667095\ttest: 0.8586176\tbest: 0.8586178 (2899)\ttotal: 2m 43s\tremaining: 1m 58s\n",
            "3000:\tlearn: 0.8669520\ttest: 0.8586248\tbest: 0.8586301 (2946)\ttotal: 2m 49s\tremaining: 1m 52s\n",
            "3100:\tlearn: 0.8671897\ttest: 0.8586347\tbest: 0.8586396 (3088)\ttotal: 2m 54s\tremaining: 1m 47s\n",
            "3200:\tlearn: 0.8673903\ttest: 0.8586414\tbest: 0.8586414 (3200)\ttotal: 3m\tremaining: 1m 41s\n",
            "3300:\tlearn: 0.8676037\ttest: 0.8586574\tbest: 0.8586576 (3284)\ttotal: 3m 6s\tremaining: 1m 35s\n",
            "3400:\tlearn: 0.8678088\ttest: 0.8586590\tbest: 0.8586625 (3337)\ttotal: 3m 11s\tremaining: 1m 30s\n",
            "3500:\tlearn: 0.8680288\ttest: 0.8586658\tbest: 0.8586704 (3423)\ttotal: 3m 17s\tremaining: 1m 24s\n",
            "3600:\tlearn: 0.8682451\ttest: 0.8586664\tbest: 0.8586739 (3586)\ttotal: 3m 23s\tremaining: 1m 18s\n",
            "3700:\tlearn: 0.8684320\ttest: 0.8586704\tbest: 0.8586739 (3586)\ttotal: 3m 28s\tremaining: 1m 13s\n",
            "bestTest = 0.8586739302\n",
            "bestIteration = 3586\n",
            "Shrink model to first 3587 iterations.\n",
            "####################\n",
            "0.8597502847942334\n",
            "Running for seed 231\n",
            "**************************************************\n",
            "Fold number: 1\n",
            "0:\tlearn: 0.7328236\ttest: 0.7332701\tbest: 0.7332701 (0)\ttotal: 86.7ms\tremaining: 7m 13s\n",
            "100:\tlearn: 0.7373819\ttest: 0.7360133\tbest: 0.7360989 (87)\ttotal: 5.45s\tremaining: 4m 24s\n",
            "200:\tlearn: 0.8461912\ttest: 0.8439066\tbest: 0.8439066 (200)\ttotal: 11.2s\tremaining: 4m 26s\n",
            "300:\tlearn: 0.8523451\ttest: 0.8494869\tbest: 0.8494869 (300)\ttotal: 17s\tremaining: 4m 25s\n",
            "400:\tlearn: 0.8550118\ttest: 0.8513943\tbest: 0.8513943 (400)\ttotal: 23s\tremaining: 4m 23s\n",
            "500:\tlearn: 0.8568439\ttest: 0.8524660\tbest: 0.8524660 (500)\ttotal: 28.8s\tremaining: 4m 18s\n",
            "600:\tlearn: 0.8581016\ttest: 0.8531354\tbest: 0.8531354 (600)\ttotal: 34.5s\tremaining: 4m 12s\n",
            "700:\tlearn: 0.8591395\ttest: 0.8536571\tbest: 0.8536571 (700)\ttotal: 40.1s\tremaining: 4m 5s\n",
            "800:\tlearn: 0.8598542\ttest: 0.8539341\tbest: 0.8539352 (799)\ttotal: 45.6s\tremaining: 3m 59s\n",
            "900:\tlearn: 0.8605730\ttest: 0.8541973\tbest: 0.8542000 (899)\ttotal: 51.3s\tremaining: 3m 53s\n",
            "1000:\tlearn: 0.8611654\ttest: 0.8543796\tbest: 0.8543796 (1000)\ttotal: 56.9s\tremaining: 3m 47s\n",
            "1100:\tlearn: 0.8617249\ttest: 0.8545506\tbest: 0.8545512 (1094)\ttotal: 1m 2s\tremaining: 3m 41s\n",
            "1200:\tlearn: 0.8621896\ttest: 0.8546718\tbest: 0.8546718 (1200)\ttotal: 1m 8s\tremaining: 3m 35s\n",
            "1300:\tlearn: 0.8626434\ttest: 0.8547810\tbest: 0.8547837 (1290)\ttotal: 1m 13s\tremaining: 3m 29s\n",
            "1400:\tlearn: 0.8630566\ttest: 0.8548307\tbest: 0.8548318 (1369)\ttotal: 1m 19s\tremaining: 3m 23s\n",
            "1500:\tlearn: 0.8634623\ttest: 0.8549388\tbest: 0.8549388 (1500)\ttotal: 1m 25s\tremaining: 3m 18s\n",
            "1600:\tlearn: 0.8638286\ttest: 0.8549557\tbest: 0.8549685 (1572)\ttotal: 1m 30s\tremaining: 3m 12s\n",
            "1700:\tlearn: 0.8642025\ttest: 0.8550369\tbest: 0.8550369 (1700)\ttotal: 1m 36s\tremaining: 3m 6s\n",
            "1800:\tlearn: 0.8645400\ttest: 0.8550517\tbest: 0.8550531 (1750)\ttotal: 1m 41s\tremaining: 3m\n",
            "1900:\tlearn: 0.8648553\ttest: 0.8550713\tbest: 0.8550832 (1874)\ttotal: 1m 47s\tremaining: 2m 54s\n",
            "2000:\tlearn: 0.8651640\ttest: 0.8551148\tbest: 0.8551166 (1998)\ttotal: 1m 52s\tremaining: 2m 49s\n",
            "2100:\tlearn: 0.8654506\ttest: 0.8551628\tbest: 0.8551644 (2096)\ttotal: 1m 58s\tremaining: 2m 43s\n",
            "2200:\tlearn: 0.8657378\ttest: 0.8551883\tbest: 0.8551892 (2193)\ttotal: 2m 4s\tremaining: 2m 38s\n",
            "2300:\tlearn: 0.8659959\ttest: 0.8552193\tbest: 0.8552193 (2300)\ttotal: 2m 9s\tremaining: 2m 32s\n",
            "2400:\tlearn: 0.8662292\ttest: 0.8552477\tbest: 0.8552536 (2391)\ttotal: 2m 15s\tremaining: 2m 26s\n",
            "2500:\tlearn: 0.8665193\ttest: 0.8552879\tbest: 0.8552893 (2497)\ttotal: 2m 21s\tremaining: 2m 21s\n",
            "2600:\tlearn: 0.8667657\ttest: 0.8553083\tbest: 0.8553091 (2570)\ttotal: 2m 26s\tremaining: 2m 15s\n",
            "2700:\tlearn: 0.8670171\ttest: 0.8553067\tbest: 0.8553162 (2684)\ttotal: 2m 32s\tremaining: 2m 9s\n",
            "2800:\tlearn: 0.8672240\ttest: 0.8553307\tbest: 0.8553327 (2798)\ttotal: 2m 37s\tremaining: 2m 4s\n",
            "2900:\tlearn: 0.8674074\ttest: 0.8553392\tbest: 0.8553454 (2883)\ttotal: 2m 43s\tremaining: 1m 58s\n",
            "3000:\tlearn: 0.8676057\ttest: 0.8553396\tbest: 0.8553536 (2960)\ttotal: 2m 49s\tremaining: 1m 52s\n",
            "3100:\tlearn: 0.8678210\ttest: 0.8553417\tbest: 0.8553536 (2960)\ttotal: 2m 54s\tremaining: 1m 47s\n",
            "bestTest = 0.8553536236\n",
            "bestIteration = 2960\n",
            "Shrink model to first 2961 iterations.\n",
            "**************************************************\n",
            "Fold number: 2\n",
            "0:\tlearn: 0.7307609\ttest: 0.7375807\tbest: 0.7375807 (0)\ttotal: 67.4ms\tremaining: 5m 36s\n",
            "100:\tlearn: 0.7365097\ttest: 0.7411968\tbest: 0.7411968 (100)\ttotal: 5.3s\tremaining: 4m 16s\n",
            "200:\tlearn: 0.8446801\ttest: 0.8463735\tbest: 0.8463735 (200)\ttotal: 10.9s\tremaining: 4m 20s\n",
            "300:\tlearn: 0.8512841\ttest: 0.8517999\tbest: 0.8517999 (300)\ttotal: 16.8s\tremaining: 4m 21s\n",
            "400:\tlearn: 0.8538311\ttest: 0.8537193\tbest: 0.8537193 (400)\ttotal: 22.5s\tremaining: 4m 18s\n",
            "500:\tlearn: 0.8559172\ttest: 0.8552593\tbest: 0.8552593 (500)\ttotal: 28.2s\tremaining: 4m 12s\n",
            "600:\tlearn: 0.8572151\ttest: 0.8560563\tbest: 0.8560563 (600)\ttotal: 33.8s\tremaining: 4m 7s\n",
            "700:\tlearn: 0.8581774\ttest: 0.8565939\tbest: 0.8565939 (700)\ttotal: 39.5s\tremaining: 4m 1s\n",
            "800:\tlearn: 0.8589707\ttest: 0.8570010\tbest: 0.8570043 (799)\ttotal: 45s\tremaining: 3m 55s\n",
            "900:\tlearn: 0.8597496\ttest: 0.8574057\tbest: 0.8574057 (900)\ttotal: 50.6s\tremaining: 3m 50s\n",
            "1000:\tlearn: 0.8602916\ttest: 0.8576196\tbest: 0.8576196 (1000)\ttotal: 56.2s\tremaining: 3m 44s\n",
            "1100:\tlearn: 0.8608223\ttest: 0.8577954\tbest: 0.8577954 (1100)\ttotal: 1m 1s\tremaining: 3m 38s\n",
            "1200:\tlearn: 0.8612939\ttest: 0.8579589\tbest: 0.8579589 (1200)\ttotal: 1m 7s\tremaining: 3m 32s\n",
            "1300:\tlearn: 0.8618425\ttest: 0.8581547\tbest: 0.8581547 (1300)\ttotal: 1m 12s\tremaining: 3m 27s\n",
            "1400:\tlearn: 0.8622968\ttest: 0.8582672\tbest: 0.8582686 (1399)\ttotal: 1m 18s\tremaining: 3m 21s\n",
            "1500:\tlearn: 0.8627234\ttest: 0.8583458\tbest: 0.8583458 (1500)\ttotal: 1m 24s\tremaining: 3m 16s\n",
            "1600:\tlearn: 0.8630987\ttest: 0.8584078\tbest: 0.8584093 (1595)\ttotal: 1m 29s\tremaining: 3m 10s\n",
            "1700:\tlearn: 0.8634250\ttest: 0.8584649\tbest: 0.8584695 (1687)\ttotal: 1m 35s\tremaining: 3m 5s\n",
            "1800:\tlearn: 0.8637663\ttest: 0.8585249\tbest: 0.8585278 (1797)\ttotal: 1m 40s\tremaining: 2m 59s\n",
            "1900:\tlearn: 0.8640561\ttest: 0.8585781\tbest: 0.8585781 (1900)\ttotal: 1m 46s\tremaining: 2m 53s\n",
            "2000:\tlearn: 0.8643762\ttest: 0.8586158\tbest: 0.8586198 (1997)\ttotal: 1m 52s\tremaining: 2m 48s\n",
            "2100:\tlearn: 0.8646328\ttest: 0.8586505\tbest: 0.8586523 (2094)\ttotal: 1m 57s\tremaining: 2m 42s\n",
            "2200:\tlearn: 0.8649077\ttest: 0.8586670\tbest: 0.8586671 (2154)\ttotal: 2m 3s\tremaining: 2m 37s\n",
            "2300:\tlearn: 0.8651849\ttest: 0.8587015\tbest: 0.8587017 (2270)\ttotal: 2m 9s\tremaining: 2m 31s\n",
            "2400:\tlearn: 0.8654518\ttest: 0.8587187\tbest: 0.8587222 (2395)\ttotal: 2m 14s\tremaining: 2m 25s\n",
            "2500:\tlearn: 0.8657033\ttest: 0.8587452\tbest: 0.8587466 (2498)\ttotal: 2m 20s\tremaining: 2m 20s\n",
            "2600:\tlearn: 0.8659096\ttest: 0.8587551\tbest: 0.8587551 (2600)\ttotal: 2m 26s\tremaining: 2m 14s\n",
            "2700:\tlearn: 0.8661163\ttest: 0.8587918\tbest: 0.8587920 (2699)\ttotal: 2m 32s\tremaining: 2m 9s\n",
            "2800:\tlearn: 0.8663815\ttest: 0.8588208\tbest: 0.8588233 (2793)\ttotal: 2m 37s\tremaining: 2m 3s\n",
            "2900:\tlearn: 0.8666247\ttest: 0.8588086\tbest: 0.8588237 (2815)\ttotal: 2m 43s\tremaining: 1m 58s\n",
            "3000:\tlearn: 0.8668346\ttest: 0.8588142\tbest: 0.8588237 (2815)\ttotal: 2m 49s\tremaining: 1m 52s\n",
            "bestTest = 0.8588236868\n",
            "bestIteration = 2815\n",
            "Shrink model to first 2816 iterations.\n",
            "**************************************************\n",
            "Fold number: 3\n",
            "0:\tlearn: 0.7313630\ttest: 0.7378098\tbest: 0.7378098 (0)\ttotal: 61.7ms\tremaining: 5m 8s\n",
            "100:\tlearn: 0.7362150\ttest: 0.7420829\tbest: 0.7421100 (94)\ttotal: 5.28s\tremaining: 4m 16s\n",
            "200:\tlearn: 0.8453117\ttest: 0.8478631\tbest: 0.8478631 (200)\ttotal: 11s\tremaining: 4m 22s\n",
            "300:\tlearn: 0.8513853\ttest: 0.8534166\tbest: 0.8534166 (300)\ttotal: 16.8s\tremaining: 4m 22s\n",
            "400:\tlearn: 0.8543295\ttest: 0.8555625\tbest: 0.8555625 (400)\ttotal: 22.7s\tremaining: 4m 19s\n",
            "500:\tlearn: 0.8560815\ttest: 0.8566375\tbest: 0.8566375 (500)\ttotal: 28.4s\tremaining: 4m 14s\n",
            "600:\tlearn: 0.8574573\ttest: 0.8574198\tbest: 0.8574198 (600)\ttotal: 34s\tremaining: 4m 9s\n",
            "700:\tlearn: 0.8584430\ttest: 0.8578778\tbest: 0.8578778 (700)\ttotal: 39.6s\tremaining: 4m 2s\n",
            "800:\tlearn: 0.8591280\ttest: 0.8581398\tbest: 0.8581398 (800)\ttotal: 45.2s\tremaining: 3m 56s\n",
            "900:\tlearn: 0.8598285\ttest: 0.8583917\tbest: 0.8583920 (899)\ttotal: 50.7s\tremaining: 3m 50s\n",
            "1000:\tlearn: 0.8603916\ttest: 0.8585894\tbest: 0.8585894 (1000)\ttotal: 56.3s\tremaining: 3m 44s\n",
            "1100:\tlearn: 0.8608705\ttest: 0.8587211\tbest: 0.8587211 (1100)\ttotal: 1m 1s\tremaining: 3m 39s\n",
            "1200:\tlearn: 0.8613997\ttest: 0.8588834\tbest: 0.8588834 (1199)\ttotal: 1m 7s\tremaining: 3m 33s\n",
            "1300:\tlearn: 0.8618236\ttest: 0.8589857\tbest: 0.8589857 (1300)\ttotal: 1m 12s\tremaining: 3m 27s\n",
            "1400:\tlearn: 0.8622643\ttest: 0.8590283\tbest: 0.8590283 (1400)\ttotal: 1m 18s\tremaining: 3m 21s\n",
            "1500:\tlearn: 0.8626417\ttest: 0.8590795\tbest: 0.8590816 (1497)\ttotal: 1m 24s\tremaining: 3m 16s\n",
            "1600:\tlearn: 0.8630077\ttest: 0.8591480\tbest: 0.8591505 (1597)\ttotal: 1m 29s\tremaining: 3m 10s\n",
            "1700:\tlearn: 0.8633882\ttest: 0.8592085\tbest: 0.8592112 (1698)\ttotal: 1m 35s\tremaining: 3m 4s\n",
            "1800:\tlearn: 0.8637425\ttest: 0.8592255\tbest: 0.8592255 (1800)\ttotal: 1m 40s\tremaining: 2m 59s\n",
            "1900:\tlearn: 0.8640823\ttest: 0.8592626\tbest: 0.8592670 (1889)\ttotal: 1m 46s\tremaining: 2m 53s\n",
            "2000:\tlearn: 0.8643835\ttest: 0.8592928\tbest: 0.8592928 (2000)\ttotal: 1m 52s\tremaining: 2m 48s\n",
            "2100:\tlearn: 0.8646896\ttest: 0.8593129\tbest: 0.8593135 (2099)\ttotal: 1m 57s\tremaining: 2m 42s\n",
            "2200:\tlearn: 0.8649690\ttest: 0.8593388\tbest: 0.8593398 (2198)\ttotal: 2m 3s\tremaining: 2m 36s\n",
            "2300:\tlearn: 0.8652339\ttest: 0.8593429\tbest: 0.8593462 (2292)\ttotal: 2m 9s\tremaining: 2m 31s\n",
            "2400:\tlearn: 0.8654971\ttest: 0.8593576\tbest: 0.8593627 (2382)\ttotal: 2m 14s\tremaining: 2m 25s\n",
            "2500:\tlearn: 0.8657521\ttest: 0.8593535\tbest: 0.8593627 (2382)\ttotal: 2m 20s\tremaining: 2m 20s\n",
            "2600:\tlearn: 0.8660378\ttest: 0.8593823\tbest: 0.8593872 (2589)\ttotal: 2m 26s\tremaining: 2m 14s\n",
            "2700:\tlearn: 0.8662909\ttest: 0.8593895\tbest: 0.8593896 (2639)\ttotal: 2m 31s\tremaining: 2m 9s\n",
            "2800:\tlearn: 0.8665228\ttest: 0.8593903\tbest: 0.8593962 (2741)\ttotal: 2m 37s\tremaining: 2m 3s\n",
            "2900:\tlearn: 0.8667387\ttest: 0.8593873\tbest: 0.8593962 (2741)\ttotal: 2m 42s\tremaining: 1m 57s\n",
            "bestTest = 0.8593962491\n",
            "bestIteration = 2741\n",
            "Shrink model to first 2742 iterations.\n",
            "**************************************************\n",
            "Fold number: 4\n",
            "0:\tlearn: 0.7305635\ttest: 0.7347688\tbest: 0.7347688 (0)\ttotal: 50.6ms\tremaining: 4m 12s\n",
            "100:\tlearn: 0.7368720\ttest: 0.7393207\tbest: 0.7393745 (81)\ttotal: 5.23s\tremaining: 4m 13s\n",
            "200:\tlearn: 0.8453831\ttest: 0.8467424\tbest: 0.8467424 (200)\ttotal: 11s\tremaining: 4m 22s\n",
            "300:\tlearn: 0.8512247\ttest: 0.8520124\tbest: 0.8520124 (300)\ttotal: 16.9s\tremaining: 4m 23s\n",
            "400:\tlearn: 0.8541172\ttest: 0.8543259\tbest: 0.8543259 (400)\ttotal: 22.6s\tremaining: 4m 19s\n",
            "500:\tlearn: 0.8560345\ttest: 0.8557954\tbest: 0.8557954 (500)\ttotal: 28.3s\tremaining: 4m 13s\n",
            "600:\tlearn: 0.8572910\ttest: 0.8565455\tbest: 0.8565455 (600)\ttotal: 33.9s\tremaining: 4m 7s\n",
            "700:\tlearn: 0.8582193\ttest: 0.8570405\tbest: 0.8570405 (700)\ttotal: 39.5s\tremaining: 4m 2s\n",
            "800:\tlearn: 0.8589592\ttest: 0.8573475\tbest: 0.8573475 (800)\ttotal: 45s\tremaining: 3m 55s\n",
            "900:\tlearn: 0.8596391\ttest: 0.8576406\tbest: 0.8576406 (900)\ttotal: 50.5s\tremaining: 3m 49s\n",
            "1000:\tlearn: 0.8602913\ttest: 0.8578818\tbest: 0.8578818 (1000)\ttotal: 56.1s\tremaining: 3m 44s\n",
            "1100:\tlearn: 0.8607848\ttest: 0.8580396\tbest: 0.8580396 (1100)\ttotal: 1m 1s\tremaining: 3m 38s\n",
            "1200:\tlearn: 0.8612369\ttest: 0.8581894\tbest: 0.8581894 (1200)\ttotal: 1m 7s\tremaining: 3m 32s\n",
            "1300:\tlearn: 0.8616886\ttest: 0.8582918\tbest: 0.8582918 (1300)\ttotal: 1m 12s\tremaining: 3m 26s\n",
            "1400:\tlearn: 0.8620973\ttest: 0.8583855\tbest: 0.8583855 (1400)\ttotal: 1m 18s\tremaining: 3m 21s\n",
            "1500:\tlearn: 0.8624995\ttest: 0.8584787\tbest: 0.8584787 (1500)\ttotal: 1m 23s\tremaining: 3m 15s\n",
            "1600:\tlearn: 0.8628775\ttest: 0.8585518\tbest: 0.8585518 (1600)\ttotal: 1m 29s\tremaining: 3m 9s\n",
            "1700:\tlearn: 0.8632354\ttest: 0.8586120\tbest: 0.8586120 (1700)\ttotal: 1m 35s\tremaining: 3m 4s\n",
            "1800:\tlearn: 0.8635581\ttest: 0.8586583\tbest: 0.8586609 (1792)\ttotal: 1m 40s\tremaining: 2m 59s\n",
            "1900:\tlearn: 0.8639126\ttest: 0.8586993\tbest: 0.8587034 (1896)\ttotal: 1m 46s\tremaining: 2m 53s\n",
            "2000:\tlearn: 0.8642213\ttest: 0.8587263\tbest: 0.8587267 (1999)\ttotal: 1m 52s\tremaining: 2m 48s\n",
            "2100:\tlearn: 0.8644949\ttest: 0.8587384\tbest: 0.8587415 (2099)\ttotal: 1m 57s\tremaining: 2m 42s\n",
            "2200:\tlearn: 0.8647638\ttest: 0.8587640\tbest: 0.8587641 (2197)\ttotal: 2m 3s\tremaining: 2m 37s\n",
            "2300:\tlearn: 0.8650742\ttest: 0.8588012\tbest: 0.8588014 (2297)\ttotal: 2m 9s\tremaining: 2m 31s\n",
            "2400:\tlearn: 0.8653149\ttest: 0.8588106\tbest: 0.8588120 (2370)\ttotal: 2m 14s\tremaining: 2m 25s\n",
            "2500:\tlearn: 0.8655632\ttest: 0.8588263\tbest: 0.8588289 (2486)\ttotal: 2m 20s\tremaining: 2m 20s\n",
            "2600:\tlearn: 0.8658059\ttest: 0.8588378\tbest: 0.8588386 (2591)\ttotal: 2m 26s\tremaining: 2m 14s\n",
            "2700:\tlearn: 0.8660389\ttest: 0.8588554\tbest: 0.8588554 (2700)\ttotal: 2m 31s\tremaining: 2m 9s\n",
            "2800:\tlearn: 0.8662472\ttest: 0.8588639\tbest: 0.8588687 (2756)\ttotal: 2m 37s\tremaining: 2m 3s\n",
            "2900:\tlearn: 0.8664400\ttest: 0.8588620\tbest: 0.8588687 (2756)\ttotal: 2m 42s\tremaining: 1m 57s\n",
            "bestTest = 0.8588687181\n",
            "bestIteration = 2756\n",
            "Shrink model to first 2757 iterations.\n",
            "**************************************************\n",
            "Fold number: 5\n",
            "0:\tlearn: 0.7297450\ttest: 0.7335120\tbest: 0.7335120 (0)\ttotal: 50.6ms\tremaining: 4m 13s\n",
            "100:\tlearn: 0.7364641\ttest: 0.7409685\tbest: 0.7409685 (100)\ttotal: 5.28s\tremaining: 4m 15s\n",
            "200:\tlearn: 0.8460543\ttest: 0.8449506\tbest: 0.8449506 (200)\ttotal: 10.9s\tremaining: 4m 21s\n",
            "300:\tlearn: 0.8519526\ttest: 0.8497091\tbest: 0.8497091 (300)\ttotal: 16.7s\tremaining: 4m 21s\n",
            "400:\tlearn: 0.8547615\ttest: 0.8518457\tbest: 0.8518457 (400)\ttotal: 22.5s\tremaining: 4m 18s\n",
            "500:\tlearn: 0.8567051\ttest: 0.8530965\tbest: 0.8530965 (500)\ttotal: 28.2s\tremaining: 4m 13s\n",
            "600:\tlearn: 0.8580797\ttest: 0.8538394\tbest: 0.8538415 (599)\ttotal: 33.8s\tremaining: 4m 7s\n",
            "700:\tlearn: 0.8590306\ttest: 0.8543418\tbest: 0.8543418 (700)\ttotal: 39.4s\tremaining: 4m 1s\n",
            "800:\tlearn: 0.8597575\ttest: 0.8546037\tbest: 0.8546037 (800)\ttotal: 45s\tremaining: 3m 55s\n",
            "900:\tlearn: 0.8604401\ttest: 0.8548536\tbest: 0.8548536 (900)\ttotal: 50.6s\tremaining: 3m 50s\n",
            "1000:\tlearn: 0.8610423\ttest: 0.8550832\tbest: 0.8550832 (1000)\ttotal: 56.1s\tremaining: 3m 44s\n",
            "1100:\tlearn: 0.8615795\ttest: 0.8552603\tbest: 0.8552603 (1100)\ttotal: 1m 1s\tremaining: 3m 38s\n",
            "1200:\tlearn: 0.8620582\ttest: 0.8553737\tbest: 0.8553737 (1200)\ttotal: 1m 7s\tremaining: 3m 32s\n",
            "1300:\tlearn: 0.8625217\ttest: 0.8554842\tbest: 0.8554858 (1298)\ttotal: 1m 12s\tremaining: 3m 27s\n",
            "1400:\tlearn: 0.8629595\ttest: 0.8555867\tbest: 0.8555867 (1400)\ttotal: 1m 18s\tremaining: 3m 21s\n",
            "1500:\tlearn: 0.8633567\ttest: 0.8556934\tbest: 0.8556934 (1500)\ttotal: 1m 24s\tremaining: 3m 16s\n",
            "1600:\tlearn: 0.8637805\ttest: 0.8557735\tbest: 0.8557735 (1600)\ttotal: 1m 29s\tremaining: 3m 10s\n",
            "1700:\tlearn: 0.8641274\ttest: 0.8558455\tbest: 0.8558460 (1691)\ttotal: 1m 35s\tremaining: 3m 5s\n",
            "1800:\tlearn: 0.8644796\ttest: 0.8559056\tbest: 0.8559064 (1799)\ttotal: 1m 41s\tremaining: 2m 59s\n",
            "1900:\tlearn: 0.8648218\ttest: 0.8559427\tbest: 0.8559430 (1898)\ttotal: 1m 46s\tremaining: 2m 54s\n",
            "2000:\tlearn: 0.8650828\ttest: 0.8559728\tbest: 0.8559754 (1993)\ttotal: 1m 52s\tremaining: 2m 48s\n",
            "2100:\tlearn: 0.8653796\ttest: 0.8560168\tbest: 0.8560178 (2099)\ttotal: 1m 58s\tremaining: 2m 43s\n",
            "2200:\tlearn: 0.8656777\ttest: 0.8560435\tbest: 0.8560455 (2198)\ttotal: 2m 3s\tremaining: 2m 37s\n",
            "2300:\tlearn: 0.8659260\ttest: 0.8560455\tbest: 0.8560534 (2277)\ttotal: 2m 9s\tremaining: 2m 31s\n",
            "2400:\tlearn: 0.8661992\ttest: 0.8560842\tbest: 0.8560848 (2399)\ttotal: 2m 15s\tremaining: 2m 26s\n",
            "2500:\tlearn: 0.8664905\ttest: 0.8561151\tbest: 0.8561158 (2499)\ttotal: 2m 20s\tremaining: 2m 20s\n",
            "2600:\tlearn: 0.8667662\ttest: 0.8561546\tbest: 0.8561547 (2598)\ttotal: 2m 26s\tremaining: 2m 14s\n",
            "2700:\tlearn: 0.8670490\ttest: 0.8561810\tbest: 0.8561869 (2672)\ttotal: 2m 31s\tremaining: 2m 9s\n",
            "2800:\tlearn: 0.8672840\ttest: 0.8561817\tbest: 0.8561869 (2672)\ttotal: 2m 37s\tremaining: 2m 3s\n",
            "2900:\tlearn: 0.8675300\ttest: 0.8561927\tbest: 0.8561930 (2890)\ttotal: 2m 43s\tremaining: 1m 58s\n",
            "3000:\tlearn: 0.8677463\ttest: 0.8561982\tbest: 0.8561982 (3000)\ttotal: 2m 48s\tremaining: 1m 52s\n",
            "3100:\tlearn: 0.8679439\ttest: 0.8562358\tbest: 0.8562360 (3099)\ttotal: 2m 54s\tremaining: 1m 46s\n",
            "3200:\tlearn: 0.8681452\ttest: 0.8562365\tbest: 0.8562425 (3155)\ttotal: 3m\tremaining: 1m 41s\n",
            "3300:\tlearn: 0.8683323\ttest: 0.8562468\tbest: 0.8562508 (3293)\ttotal: 3m 5s\tremaining: 1m 35s\n",
            "3400:\tlearn: 0.8685476\ttest: 0.8562665\tbest: 0.8562693 (3383)\ttotal: 3m 11s\tremaining: 1m 30s\n",
            "3500:\tlearn: 0.8687684\ttest: 0.8562812\tbest: 0.8562820 (3482)\ttotal: 3m 17s\tremaining: 1m 24s\n",
            "3600:\tlearn: 0.8689514\ttest: 0.8562848\tbest: 0.8562952 (3562)\ttotal: 3m 23s\tremaining: 1m 18s\n",
            "3700:\tlearn: 0.8691361\ttest: 0.8562896\tbest: 0.8562952 (3562)\ttotal: 3m 28s\tremaining: 1m 13s\n",
            "bestTest = 0.8562951684\n",
            "bestIteration = 3562\n",
            "Shrink model to first 3563 iterations.\n",
            "####################\n",
            "0.8600999416682464\n",
            "Running for seed 12\n",
            "**************************************************\n",
            "Fold number: 1\n",
            "0:\tlearn: 0.7302164\ttest: 0.7303427\tbest: 0.7303427 (0)\ttotal: 89.6ms\tremaining: 7m 27s\n",
            "100:\tlearn: 0.7373441\ttest: 0.7370177\tbest: 0.7370777 (67)\ttotal: 5.45s\tremaining: 4m 24s\n",
            "200:\tlearn: 0.8461579\ttest: 0.8438950\tbest: 0.8438950 (200)\ttotal: 11.4s\tremaining: 4m 31s\n",
            "300:\tlearn: 0.8521214\ttest: 0.8493976\tbest: 0.8493976 (300)\ttotal: 17.4s\tremaining: 4m 32s\n",
            "400:\tlearn: 0.8548484\ttest: 0.8517312\tbest: 0.8517312 (400)\ttotal: 23.2s\tremaining: 4m 26s\n",
            "500:\tlearn: 0.8568985\ttest: 0.8531222\tbest: 0.8531222 (500)\ttotal: 29s\tremaining: 4m 20s\n",
            "600:\tlearn: 0.8581018\ttest: 0.8538266\tbest: 0.8538266 (600)\ttotal: 34.6s\tremaining: 4m 13s\n",
            "700:\tlearn: 0.8589899\ttest: 0.8543354\tbest: 0.8543366 (698)\ttotal: 40.4s\tremaining: 4m 7s\n",
            "800:\tlearn: 0.8597439\ttest: 0.8546940\tbest: 0.8546940 (800)\ttotal: 46s\tremaining: 4m 1s\n",
            "900:\tlearn: 0.8604071\ttest: 0.8548719\tbest: 0.8548749 (898)\ttotal: 51.6s\tremaining: 3m 54s\n",
            "1000:\tlearn: 0.8610289\ttest: 0.8550591\tbest: 0.8550598 (999)\ttotal: 57.2s\tremaining: 3m 48s\n",
            "1100:\tlearn: 0.8615572\ttest: 0.8552033\tbest: 0.8552063 (1091)\ttotal: 1m 2s\tremaining: 3m 42s\n",
            "1200:\tlearn: 0.8620290\ttest: 0.8553120\tbest: 0.8553120 (1200)\ttotal: 1m 8s\tremaining: 3m 36s\n",
            "1300:\tlearn: 0.8624848\ttest: 0.8553816\tbest: 0.8553843 (1293)\ttotal: 1m 13s\tremaining: 3m 30s\n",
            "1400:\tlearn: 0.8629231\ttest: 0.8554526\tbest: 0.8554526 (1400)\ttotal: 1m 19s\tremaining: 3m 24s\n",
            "1500:\tlearn: 0.8632853\ttest: 0.8554770\tbest: 0.8554868 (1468)\ttotal: 1m 25s\tremaining: 3m 18s\n",
            "1600:\tlearn: 0.8636781\ttest: 0.8555171\tbest: 0.8555203 (1579)\ttotal: 1m 30s\tremaining: 3m 12s\n",
            "1700:\tlearn: 0.8640207\ttest: 0.8555394\tbest: 0.8555400 (1695)\ttotal: 1m 36s\tremaining: 3m 7s\n",
            "1800:\tlearn: 0.8643330\ttest: 0.8555550\tbest: 0.8555568 (1798)\ttotal: 1m 42s\tremaining: 3m 1s\n",
            "1900:\tlearn: 0.8646462\ttest: 0.8556078\tbest: 0.8556080 (1899)\ttotal: 1m 47s\tremaining: 2m 55s\n",
            "2000:\tlearn: 0.8649502\ttest: 0.8556067\tbest: 0.8556125 (1950)\ttotal: 1m 53s\tremaining: 2m 49s\n",
            "2100:\tlearn: 0.8652331\ttest: 0.8556288\tbest: 0.8556404 (2065)\ttotal: 1m 58s\tremaining: 2m 44s\n",
            "2200:\tlearn: 0.8655381\ttest: 0.8556468\tbest: 0.8556536 (2198)\ttotal: 2m 4s\tremaining: 2m 38s\n",
            "2300:\tlearn: 0.8657977\ttest: 0.8556500\tbest: 0.8556576 (2245)\ttotal: 2m 10s\tremaining: 2m 32s\n",
            "2400:\tlearn: 0.8660293\ttest: 0.8556413\tbest: 0.8556576 (2245)\ttotal: 2m 15s\tremaining: 2m 26s\n",
            "bestTest = 0.8556576371\n",
            "bestIteration = 2245\n",
            "Shrink model to first 2246 iterations.\n",
            "**************************************************\n",
            "Fold number: 2\n",
            "0:\tlearn: 0.7313628\ttest: 0.7353863\tbest: 0.7353863 (0)\ttotal: 83.2ms\tremaining: 6m 55s\n",
            "100:\tlearn: 0.7370970\ttest: 0.7397434\tbest: 0.7399677 (68)\ttotal: 5.4s\tremaining: 4m 21s\n",
            "200:\tlearn: 0.8461031\ttest: 0.8460634\tbest: 0.8460634 (200)\ttotal: 11.1s\tremaining: 4m 24s\n",
            "300:\tlearn: 0.8519292\ttest: 0.8512198\tbest: 0.8512198 (300)\ttotal: 17s\tremaining: 4m 25s\n",
            "400:\tlearn: 0.8544149\ttest: 0.8533186\tbest: 0.8533186 (400)\ttotal: 22.8s\tremaining: 4m 21s\n",
            "500:\tlearn: 0.8561607\ttest: 0.8546243\tbest: 0.8546243 (500)\ttotal: 28.5s\tremaining: 4m 15s\n",
            "600:\tlearn: 0.8574967\ttest: 0.8554791\tbest: 0.8554791 (600)\ttotal: 34.1s\tremaining: 4m 9s\n",
            "700:\tlearn: 0.8584206\ttest: 0.8560266\tbest: 0.8560266 (700)\ttotal: 39.7s\tremaining: 4m 3s\n",
            "800:\tlearn: 0.8592265\ttest: 0.8564090\tbest: 0.8564090 (800)\ttotal: 45.3s\tremaining: 3m 57s\n",
            "900:\tlearn: 0.8598734\ttest: 0.8566673\tbest: 0.8566698 (898)\ttotal: 51s\tremaining: 3m 51s\n",
            "1000:\tlearn: 0.8604257\ttest: 0.8568593\tbest: 0.8568593 (1000)\ttotal: 56.6s\tremaining: 3m 46s\n",
            "1100:\tlearn: 0.8609195\ttest: 0.8570063\tbest: 0.8570063 (1100)\ttotal: 1m 2s\tremaining: 3m 40s\n",
            "1200:\tlearn: 0.8613863\ttest: 0.8571596\tbest: 0.8571623 (1198)\ttotal: 1m 7s\tremaining: 3m 34s\n",
            "1300:\tlearn: 0.8618552\ttest: 0.8572868\tbest: 0.8572868 (1300)\ttotal: 1m 13s\tremaining: 3m 28s\n",
            "1400:\tlearn: 0.8622482\ttest: 0.8574127\tbest: 0.8574129 (1394)\ttotal: 1m 19s\tremaining: 3m 23s\n",
            "1500:\tlearn: 0.8626570\ttest: 0.8575186\tbest: 0.8575186 (1500)\ttotal: 1m 24s\tremaining: 3m 17s\n",
            "1600:\tlearn: 0.8630126\ttest: 0.8575844\tbest: 0.8575883 (1594)\ttotal: 1m 30s\tremaining: 3m 11s\n",
            "1700:\tlearn: 0.8633738\ttest: 0.8577026\tbest: 0.8577026 (1700)\ttotal: 1m 35s\tremaining: 3m 5s\n",
            "1800:\tlearn: 0.8637355\ttest: 0.8577833\tbest: 0.8577842 (1799)\ttotal: 1m 41s\tremaining: 3m\n",
            "1900:\tlearn: 0.8640332\ttest: 0.8578215\tbest: 0.8578236 (1891)\ttotal: 1m 47s\tremaining: 2m 54s\n",
            "2000:\tlearn: 0.8643318\ttest: 0.8578698\tbest: 0.8578705 (1996)\ttotal: 1m 52s\tremaining: 2m 49s\n",
            "2100:\tlearn: 0.8646343\ttest: 0.8578932\tbest: 0.8578977 (2095)\ttotal: 1m 58s\tremaining: 2m 43s\n",
            "2200:\tlearn: 0.8649419\ttest: 0.8579419\tbest: 0.8579451 (2198)\ttotal: 2m 4s\tremaining: 2m 37s\n",
            "2300:\tlearn: 0.8652356\ttest: 0.8579662\tbest: 0.8579719 (2287)\ttotal: 2m 9s\tremaining: 2m 32s\n",
            "2400:\tlearn: 0.8655262\ttest: 0.8579970\tbest: 0.8579991 (2377)\ttotal: 2m 15s\tremaining: 2m 26s\n",
            "2500:\tlearn: 0.8658009\ttest: 0.8580269\tbest: 0.8580351 (2482)\ttotal: 2m 20s\tremaining: 2m 20s\n",
            "2600:\tlearn: 0.8660265\ttest: 0.8580489\tbest: 0.8580592 (2566)\ttotal: 2m 26s\tremaining: 2m 15s\n",
            "2700:\tlearn: 0.8662833\ttest: 0.8580921\tbest: 0.8580921 (2700)\ttotal: 2m 32s\tremaining: 2m 9s\n",
            "2800:\tlearn: 0.8665379\ttest: 0.8581024\tbest: 0.8581034 (2775)\ttotal: 2m 37s\tremaining: 2m 4s\n",
            "2900:\tlearn: 0.8667673\ttest: 0.8581100\tbest: 0.8581117 (2888)\ttotal: 2m 43s\tremaining: 1m 58s\n",
            "3000:\tlearn: 0.8669887\ttest: 0.8581133\tbest: 0.8581138 (2999)\ttotal: 2m 49s\tremaining: 1m 52s\n",
            "3100:\tlearn: 0.8671735\ttest: 0.8581209\tbest: 0.8581288 (3077)\ttotal: 2m 54s\tremaining: 1m 47s\n",
            "3200:\tlearn: 0.8673981\ttest: 0.8581306\tbest: 0.8581318 (3195)\ttotal: 3m\tremaining: 1m 41s\n",
            "3300:\tlearn: 0.8676479\ttest: 0.8581317\tbest: 0.8581424 (3254)\ttotal: 3m 6s\tremaining: 1m 36s\n",
            "3400:\tlearn: 0.8678811\ttest: 0.8581327\tbest: 0.8581424 (3254)\ttotal: 3m 12s\tremaining: 1m 30s\n",
            "bestTest = 0.8581423759\n",
            "bestIteration = 3254\n",
            "Shrink model to first 3255 iterations.\n",
            "**************************************************\n",
            "Fold number: 3\n",
            "0:\tlearn: 0.7311956\ttest: 0.7364879\tbest: 0.7364879 (0)\ttotal: 52.9ms\tremaining: 4m 24s\n",
            "100:\tlearn: 0.7364983\ttest: 0.7410108\tbest: 0.7410108 (100)\ttotal: 5.36s\tremaining: 4m 20s\n",
            "200:\tlearn: 0.8459331\ttest: 0.8470075\tbest: 0.8470075 (200)\ttotal: 11s\tremaining: 4m 23s\n",
            "300:\tlearn: 0.8518805\ttest: 0.8522705\tbest: 0.8522705 (300)\ttotal: 16.9s\tremaining: 4m 23s\n",
            "400:\tlearn: 0.8545445\ttest: 0.8540863\tbest: 0.8540863 (400)\ttotal: 22.7s\tremaining: 4m 19s\n",
            "500:\tlearn: 0.8564841\ttest: 0.8552282\tbest: 0.8552282 (500)\ttotal: 28.4s\tremaining: 4m 14s\n",
            "600:\tlearn: 0.8575810\ttest: 0.8557478\tbest: 0.8557508 (598)\ttotal: 34s\tremaining: 4m 8s\n",
            "700:\tlearn: 0.8585379\ttest: 0.8562229\tbest: 0.8562229 (700)\ttotal: 39.6s\tremaining: 4m 2s\n",
            "800:\tlearn: 0.8593903\ttest: 0.8565738\tbest: 0.8565738 (800)\ttotal: 45.2s\tremaining: 3m 56s\n",
            "900:\tlearn: 0.8600444\ttest: 0.8568347\tbest: 0.8568347 (900)\ttotal: 50.8s\tremaining: 3m 50s\n",
            "1000:\tlearn: 0.8605991\ttest: 0.8570107\tbest: 0.8570107 (1000)\ttotal: 56.4s\tremaining: 3m 45s\n",
            "1100:\tlearn: 0.8610899\ttest: 0.8571798\tbest: 0.8571809 (1098)\ttotal: 1m 1s\tremaining: 3m 39s\n",
            "1200:\tlearn: 0.8615273\ttest: 0.8572978\tbest: 0.8572978 (1200)\ttotal: 1m 7s\tremaining: 3m 33s\n",
            "1300:\tlearn: 0.8619577\ttest: 0.8574041\tbest: 0.8574063 (1297)\ttotal: 1m 13s\tremaining: 3m 27s\n",
            "1400:\tlearn: 0.8623799\ttest: 0.8575172\tbest: 0.8575172 (1400)\ttotal: 1m 18s\tremaining: 3m 22s\n",
            "1500:\tlearn: 0.8627480\ttest: 0.8576026\tbest: 0.8576028 (1499)\ttotal: 1m 24s\tremaining: 3m 16s\n",
            "1600:\tlearn: 0.8631524\ttest: 0.8576948\tbest: 0.8576948 (1600)\ttotal: 1m 30s\tremaining: 3m 11s\n",
            "1700:\tlearn: 0.8635285\ttest: 0.8577722\tbest: 0.8577722 (1700)\ttotal: 1m 35s\tremaining: 3m 5s\n",
            "1800:\tlearn: 0.8638959\ttest: 0.8578551\tbest: 0.8578552 (1799)\ttotal: 1m 41s\tremaining: 3m\n",
            "1900:\tlearn: 0.8642137\ttest: 0.8579416\tbest: 0.8579416 (1900)\ttotal: 1m 47s\tremaining: 2m 54s\n",
            "2000:\tlearn: 0.8644997\ttest: 0.8579701\tbest: 0.8579705 (1990)\ttotal: 1m 52s\tremaining: 2m 49s\n",
            "2100:\tlearn: 0.8647991\ttest: 0.8580175\tbest: 0.8580177 (2099)\ttotal: 1m 58s\tremaining: 2m 43s\n",
            "2200:\tlearn: 0.8651216\ttest: 0.8580759\tbest: 0.8580759 (2198)\ttotal: 2m 4s\tremaining: 2m 37s\n",
            "2300:\tlearn: 0.8653912\ttest: 0.8581167\tbest: 0.8581204 (2297)\ttotal: 2m 9s\tremaining: 2m 32s\n",
            "2400:\tlearn: 0.8656661\ttest: 0.8581595\tbest: 0.8581626 (2394)\ttotal: 2m 15s\tremaining: 2m 26s\n",
            "2500:\tlearn: 0.8659226\ttest: 0.8581904\tbest: 0.8581915 (2496)\ttotal: 2m 21s\tremaining: 2m 21s\n",
            "2600:\tlearn: 0.8661891\ttest: 0.8582218\tbest: 0.8582218 (2600)\ttotal: 2m 26s\tremaining: 2m 15s\n",
            "2700:\tlearn: 0.8664209\ttest: 0.8582433\tbest: 0.8582442 (2699)\ttotal: 2m 32s\tremaining: 2m 9s\n",
            "2800:\tlearn: 0.8666069\ttest: 0.8582589\tbest: 0.8582602 (2798)\ttotal: 2m 37s\tremaining: 2m 4s\n",
            "2900:\tlearn: 0.8668185\ttest: 0.8582733\tbest: 0.8582757 (2874)\ttotal: 2m 43s\tremaining: 1m 58s\n",
            "3000:\tlearn: 0.8670579\ttest: 0.8582892\tbest: 0.8582961 (2984)\ttotal: 2m 49s\tremaining: 1m 52s\n",
            "3100:\tlearn: 0.8673052\ttest: 0.8583159\tbest: 0.8583166 (3092)\ttotal: 2m 55s\tremaining: 1m 47s\n",
            "3200:\tlearn: 0.8674902\ttest: 0.8583245\tbest: 0.8583252 (3185)\ttotal: 3m\tremaining: 1m 41s\n",
            "3300:\tlearn: 0.8677129\ttest: 0.8583472\tbest: 0.8583480 (3297)\ttotal: 3m 6s\tremaining: 1m 35s\n",
            "3400:\tlearn: 0.8679380\ttest: 0.8583682\tbest: 0.8583688 (3394)\ttotal: 3m 12s\tremaining: 1m 30s\n",
            "3500:\tlearn: 0.8681356\ttest: 0.8583852\tbest: 0.8583855 (3494)\ttotal: 3m 17s\tremaining: 1m 24s\n",
            "3600:\tlearn: 0.8683206\ttest: 0.8583963\tbest: 0.8583971 (3597)\ttotal: 3m 23s\tremaining: 1m 19s\n",
            "3700:\tlearn: 0.8685188\ttest: 0.8584085\tbest: 0.8584097 (3677)\ttotal: 3m 29s\tremaining: 1m 13s\n",
            "3800:\tlearn: 0.8687294\ttest: 0.8584264\tbest: 0.8584264 (3800)\ttotal: 3m 34s\tremaining: 1m 7s\n",
            "3900:\tlearn: 0.8689067\ttest: 0.8584382\tbest: 0.8584387 (3887)\ttotal: 3m 40s\tremaining: 1m 2s\n",
            "4000:\tlearn: 0.8690832\ttest: 0.8584381\tbest: 0.8584435 (3972)\ttotal: 3m 46s\tremaining: 56.4s\n",
            "4100:\tlearn: 0.8692842\ttest: 0.8584481\tbest: 0.8584499 (4093)\ttotal: 3m 51s\tremaining: 50.8s\n",
            "4200:\tlearn: 0.8694466\ttest: 0.8584489\tbest: 0.8584553 (4126)\ttotal: 3m 57s\tremaining: 45.1s\n",
            "4300:\tlearn: 0.8696500\ttest: 0.8584689\tbest: 0.8584689 (4300)\ttotal: 4m 3s\tremaining: 39.5s\n",
            "4400:\tlearn: 0.8698527\ttest: 0.8584711\tbest: 0.8584760 (4380)\ttotal: 4m 8s\tremaining: 33.9s\n",
            "4500:\tlearn: 0.8700471\ttest: 0.8584890\tbest: 0.8584899 (4482)\ttotal: 4m 14s\tremaining: 28.2s\n",
            "4600:\tlearn: 0.8701963\ttest: 0.8584911\tbest: 0.8584942 (4593)\ttotal: 4m 20s\tremaining: 22.6s\n",
            "4700:\tlearn: 0.8703815\ttest: 0.8584903\tbest: 0.8584942 (4593)\ttotal: 4m 25s\tremaining: 16.9s\n",
            "4800:\tlearn: 0.8705631\ttest: 0.8584947\tbest: 0.8584973 (4756)\ttotal: 4m 31s\tremaining: 11.3s\n",
            "4900:\tlearn: 0.8707079\ttest: 0.8584943\tbest: 0.8584976 (4838)\ttotal: 4m 37s\tremaining: 5.6s\n",
            "4999:\tlearn: 0.8708932\ttest: 0.8585055\tbest: 0.8585055 (4999)\ttotal: 4m 42s\tremaining: 0us\n",
            "bestTest = 0.858505547\n",
            "bestIteration = 4999\n",
            "**************************************************\n",
            "Fold number: 4\n",
            "0:\tlearn: 0.7289078\ttest: 0.7354375\tbest: 0.7354375 (0)\ttotal: 90.3ms\tremaining: 7m 31s\n",
            "100:\tlearn: 0.7352785\ttest: 0.7432191\tbest: 0.7434395 (40)\ttotal: 5.48s\tremaining: 4m 25s\n",
            "200:\tlearn: 0.8449654\ttest: 0.8473451\tbest: 0.8473451 (200)\ttotal: 11.2s\tremaining: 4m 27s\n",
            "300:\tlearn: 0.8514419\ttest: 0.8529989\tbest: 0.8529989 (300)\ttotal: 17s\tremaining: 4m 25s\n",
            "400:\tlearn: 0.8539276\ttest: 0.8547754\tbest: 0.8547754 (400)\ttotal: 22.8s\tremaining: 4m 21s\n",
            "500:\tlearn: 0.8557853\ttest: 0.8559783\tbest: 0.8559783 (500)\ttotal: 28.5s\tremaining: 4m 15s\n",
            "600:\tlearn: 0.8570204\ttest: 0.8567070\tbest: 0.8567070 (600)\ttotal: 34.1s\tremaining: 4m 9s\n",
            "700:\tlearn: 0.8580045\ttest: 0.8572441\tbest: 0.8572441 (700)\ttotal: 39.8s\tremaining: 4m 3s\n",
            "800:\tlearn: 0.8588404\ttest: 0.8576015\tbest: 0.8576015 (800)\ttotal: 45.4s\tremaining: 3m 58s\n",
            "900:\tlearn: 0.8594749\ttest: 0.8578621\tbest: 0.8578643 (898)\ttotal: 51s\tremaining: 3m 51s\n",
            "1000:\tlearn: 0.8601449\ttest: 0.8580965\tbest: 0.8580976 (999)\ttotal: 56.5s\tremaining: 3m 45s\n",
            "1100:\tlearn: 0.8606640\ttest: 0.8582829\tbest: 0.8582829 (1100)\ttotal: 1m 2s\tremaining: 3m 39s\n",
            "1200:\tlearn: 0.8611283\ttest: 0.8583877\tbest: 0.8583877 (1200)\ttotal: 1m 7s\tremaining: 3m 33s\n",
            "1300:\tlearn: 0.8616112\ttest: 0.8585241\tbest: 0.8585241 (1300)\ttotal: 1m 13s\tremaining: 3m 28s\n",
            "1400:\tlearn: 0.8620420\ttest: 0.8586357\tbest: 0.8586368 (1399)\ttotal: 1m 18s\tremaining: 3m 22s\n",
            "1500:\tlearn: 0.8624818\ttest: 0.8587484\tbest: 0.8587484 (1500)\ttotal: 1m 24s\tremaining: 3m 16s\n",
            "1600:\tlearn: 0.8628789\ttest: 0.8588174\tbest: 0.8588174 (1600)\ttotal: 1m 30s\tremaining: 3m 11s\n",
            "1700:\tlearn: 0.8632400\ttest: 0.8588732\tbest: 0.8588756 (1698)\ttotal: 1m 35s\tremaining: 3m 5s\n",
            "1800:\tlearn: 0.8635312\ttest: 0.8589115\tbest: 0.8589115 (1795)\ttotal: 1m 41s\tremaining: 2m 59s\n",
            "1900:\tlearn: 0.8638633\ttest: 0.8589617\tbest: 0.8589617 (1900)\ttotal: 1m 46s\tremaining: 2m 54s\n",
            "2000:\tlearn: 0.8642154\ttest: 0.8590185\tbest: 0.8590204 (1953)\ttotal: 1m 52s\tremaining: 2m 48s\n",
            "2100:\tlearn: 0.8645269\ttest: 0.8590405\tbest: 0.8590422 (2090)\ttotal: 1m 58s\tremaining: 2m 42s\n",
            "2200:\tlearn: 0.8648103\ttest: 0.8590675\tbest: 0.8590712 (2191)\ttotal: 2m 3s\tremaining: 2m 37s\n",
            "2300:\tlearn: 0.8650902\ttest: 0.8591106\tbest: 0.8591107 (2298)\ttotal: 2m 9s\tremaining: 2m 31s\n",
            "2400:\tlearn: 0.8653604\ttest: 0.8591332\tbest: 0.8591332 (2400)\ttotal: 2m 14s\tremaining: 2m 26s\n",
            "2500:\tlearn: 0.8656166\ttest: 0.8591506\tbest: 0.8591506 (2500)\ttotal: 2m 20s\tremaining: 2m 20s\n",
            "2600:\tlearn: 0.8658929\ttest: 0.8591915\tbest: 0.8591915 (2600)\ttotal: 2m 26s\tremaining: 2m 14s\n",
            "2700:\tlearn: 0.8661126\ttest: 0.8591820\tbest: 0.8591985 (2614)\ttotal: 2m 31s\tremaining: 2m 9s\n",
            "2800:\tlearn: 0.8663507\ttest: 0.8591927\tbest: 0.8591985 (2614)\ttotal: 2m 37s\tremaining: 2m 3s\n",
            "bestTest = 0.859198451\n",
            "bestIteration = 2614\n",
            "Shrink model to first 2615 iterations.\n",
            "**************************************************\n",
            "Fold number: 5\n",
            "0:\tlearn: 0.7303790\ttest: 0.7336000\tbest: 0.7336000 (0)\ttotal: 89.6ms\tremaining: 7m 28s\n",
            "100:\tlearn: 0.7373321\ttest: 0.7374715\tbest: 0.7374735 (93)\ttotal: 5.43s\tremaining: 4m 23s\n",
            "200:\tlearn: 0.8454939\ttest: 0.8455338\tbest: 0.8455338 (200)\ttotal: 11.1s\tremaining: 4m 25s\n",
            "300:\tlearn: 0.8517233\ttest: 0.8511781\tbest: 0.8511781 (300)\ttotal: 17s\tremaining: 4m 26s\n",
            "400:\tlearn: 0.8544363\ttest: 0.8531588\tbest: 0.8531588 (400)\ttotal: 22.8s\tremaining: 4m 20s\n",
            "500:\tlearn: 0.8563583\ttest: 0.8543505\tbest: 0.8543505 (500)\ttotal: 28.4s\tremaining: 4m 14s\n",
            "600:\tlearn: 0.8577518\ttest: 0.8550339\tbest: 0.8550339 (600)\ttotal: 34s\tremaining: 4m 8s\n",
            "700:\tlearn: 0.8588189\ttest: 0.8554684\tbest: 0.8554684 (700)\ttotal: 39.6s\tremaining: 4m 3s\n",
            "800:\tlearn: 0.8596683\ttest: 0.8558719\tbest: 0.8558719 (800)\ttotal: 45.2s\tremaining: 3m 57s\n",
            "900:\tlearn: 0.8603600\ttest: 0.8561037\tbest: 0.8561037 (900)\ttotal: 50.8s\tremaining: 3m 51s\n",
            "1000:\tlearn: 0.8609965\ttest: 0.8563227\tbest: 0.8563227 (1000)\ttotal: 56.4s\tremaining: 3m 45s\n",
            "1100:\tlearn: 0.8615123\ttest: 0.8564382\tbest: 0.8564382 (1100)\ttotal: 1m 1s\tremaining: 3m 39s\n",
            "1200:\tlearn: 0.8619792\ttest: 0.8565432\tbest: 0.8565440 (1198)\ttotal: 1m 7s\tremaining: 3m 33s\n",
            "1300:\tlearn: 0.8624251\ttest: 0.8566708\tbest: 0.8566708 (1300)\ttotal: 1m 13s\tremaining: 3m 27s\n",
            "1400:\tlearn: 0.8628594\ttest: 0.8567364\tbest: 0.8567364 (1400)\ttotal: 1m 18s\tremaining: 3m 22s\n",
            "1500:\tlearn: 0.8632448\ttest: 0.8567898\tbest: 0.8567901 (1498)\ttotal: 1m 24s\tremaining: 3m 16s\n",
            "1600:\tlearn: 0.8636752\ttest: 0.8568594\tbest: 0.8568637 (1598)\ttotal: 1m 30s\tremaining: 3m 11s\n",
            "1700:\tlearn: 0.8640430\ttest: 0.8568648\tbest: 0.8568705 (1682)\ttotal: 1m 35s\tremaining: 3m 5s\n",
            "1800:\tlearn: 0.8643475\ttest: 0.8569003\tbest: 0.8569017 (1794)\ttotal: 1m 41s\tremaining: 3m\n",
            "1900:\tlearn: 0.8647151\ttest: 0.8569086\tbest: 0.8569206 (1829)\ttotal: 1m 47s\tremaining: 2m 54s\n",
            "2000:\tlearn: 0.8650474\ttest: 0.8569262\tbest: 0.8569262 (2000)\ttotal: 1m 52s\tremaining: 2m 48s\n",
            "2100:\tlearn: 0.8653736\ttest: 0.8569195\tbest: 0.8569324 (2049)\ttotal: 1m 58s\tremaining: 2m 43s\n",
            "2200:\tlearn: 0.8656629\ttest: 0.8569077\tbest: 0.8569324 (2049)\ttotal: 2m 4s\tremaining: 2m 37s\n",
            "bestTest = 0.8569323719\n",
            "bestIteration = 2049\n",
            "Shrink model to first 2050 iterations.\n",
            "####################\n",
            "0.8601453599214538\n",
            "Running for seed 958\n",
            "**************************************************\n",
            "Fold number: 1\n",
            "0:\tlearn: 0.7316969\ttest: 0.7374133\tbest: 0.7374133 (0)\ttotal: 91.8ms\tremaining: 7m 38s\n",
            "100:\tlearn: 0.7356640\ttest: 0.7414995\tbest: 0.7414995 (100)\ttotal: 5.71s\tremaining: 4m 36s\n",
            "200:\tlearn: 0.8447377\ttest: 0.8475662\tbest: 0.8475662 (200)\ttotal: 11.4s\tremaining: 4m 31s\n",
            "300:\tlearn: 0.8508137\ttest: 0.8533971\tbest: 0.8533971 (300)\ttotal: 17.2s\tremaining: 4m 28s\n",
            "400:\tlearn: 0.8536993\ttest: 0.8557084\tbest: 0.8557084 (400)\ttotal: 23s\tremaining: 4m 24s\n",
            "500:\tlearn: 0.8557085\ttest: 0.8570415\tbest: 0.8570415 (500)\ttotal: 28.7s\tremaining: 4m 18s\n",
            "600:\tlearn: 0.8570259\ttest: 0.8577978\tbest: 0.8577978 (600)\ttotal: 34.4s\tremaining: 4m 12s\n",
            "700:\tlearn: 0.8580742\ttest: 0.8583039\tbest: 0.8583039 (700)\ttotal: 40.1s\tremaining: 4m 5s\n",
            "800:\tlearn: 0.8589139\ttest: 0.8586818\tbest: 0.8586818 (800)\ttotal: 45.8s\tremaining: 4m\n",
            "900:\tlearn: 0.8596345\ttest: 0.8589638\tbest: 0.8589651 (897)\ttotal: 51.4s\tremaining: 3m 54s\n",
            "1000:\tlearn: 0.8601908\ttest: 0.8591027\tbest: 0.8591077 (996)\ttotal: 57s\tremaining: 3m 47s\n",
            "1100:\tlearn: 0.8607431\ttest: 0.8592710\tbest: 0.8592710 (1100)\ttotal: 1m 2s\tremaining: 3m 41s\n",
            "1200:\tlearn: 0.8612505\ttest: 0.8594231\tbest: 0.8594231 (1200)\ttotal: 1m 8s\tremaining: 3m 36s\n",
            "1300:\tlearn: 0.8616806\ttest: 0.8595142\tbest: 0.8595142 (1300)\ttotal: 1m 13s\tremaining: 3m 30s\n",
            "1400:\tlearn: 0.8621063\ttest: 0.8595780\tbest: 0.8595789 (1399)\ttotal: 1m 19s\tremaining: 3m 24s\n",
            "1500:\tlearn: 0.8625619\ttest: 0.8596417\tbest: 0.8596447 (1490)\ttotal: 1m 25s\tremaining: 3m 18s\n",
            "1600:\tlearn: 0.8629260\ttest: 0.8597061\tbest: 0.8597089 (1594)\ttotal: 1m 30s\tremaining: 3m 12s\n",
            "1700:\tlearn: 0.8632908\ttest: 0.8597651\tbest: 0.8597651 (1700)\ttotal: 1m 36s\tremaining: 3m 7s\n",
            "1800:\tlearn: 0.8636499\ttest: 0.8598291\tbest: 0.8598291 (1800)\ttotal: 1m 42s\tremaining: 3m 1s\n",
            "1900:\tlearn: 0.8639905\ttest: 0.8598575\tbest: 0.8598581 (1899)\ttotal: 1m 47s\tremaining: 2m 55s\n",
            "2000:\tlearn: 0.8643204\ttest: 0.8598928\tbest: 0.8598928 (2000)\ttotal: 1m 53s\tremaining: 2m 50s\n",
            "2100:\tlearn: 0.8646146\ttest: 0.8598965\tbest: 0.8599008 (2053)\ttotal: 1m 59s\tremaining: 2m 44s\n",
            "2200:\tlearn: 0.8648968\ttest: 0.8599275\tbest: 0.8599310 (2176)\ttotal: 2m 4s\tremaining: 2m 38s\n",
            "2300:\tlearn: 0.8651916\ttest: 0.8599743\tbest: 0.8599796 (2294)\ttotal: 2m 10s\tremaining: 2m 33s\n",
            "2400:\tlearn: 0.8654900\ttest: 0.8599887\tbest: 0.8599963 (2375)\ttotal: 2m 16s\tremaining: 2m 27s\n",
            "2500:\tlearn: 0.8657692\ttest: 0.8599725\tbest: 0.8599963 (2375)\ttotal: 2m 21s\tremaining: 2m 21s\n",
            "bestTest = 0.8599963188\n",
            "bestIteration = 2375\n",
            "Shrink model to first 2376 iterations.\n",
            "**************************************************\n",
            "Fold number: 2\n",
            "0:\tlearn: 0.7303981\ttest: 0.7370250\tbest: 0.7370250 (0)\ttotal: 76ms\tremaining: 6m 19s\n",
            "100:\tlearn: 0.7357411\ttest: 0.7400295\tbest: 0.7401099 (91)\ttotal: 5.42s\tremaining: 4m 22s\n",
            "200:\tlearn: 0.8452151\ttest: 0.8458170\tbest: 0.8458170 (200)\ttotal: 11.2s\tremaining: 4m 26s\n",
            "300:\tlearn: 0.8515613\ttest: 0.8510984\tbest: 0.8510984 (300)\ttotal: 17s\tremaining: 4m 25s\n",
            "400:\tlearn: 0.8544583\ttest: 0.8534043\tbest: 0.8534043 (400)\ttotal: 22.8s\tremaining: 4m 21s\n",
            "500:\tlearn: 0.8564556\ttest: 0.8547963\tbest: 0.8547963 (500)\ttotal: 28.5s\tremaining: 4m 16s\n",
            "600:\tlearn: 0.8577880\ttest: 0.8555324\tbest: 0.8555324 (600)\ttotal: 34.3s\tremaining: 4m 10s\n",
            "700:\tlearn: 0.8587122\ttest: 0.8559794\tbest: 0.8559794 (700)\ttotal: 39.9s\tremaining: 4m 4s\n",
            "800:\tlearn: 0.8595266\ttest: 0.8563650\tbest: 0.8563650 (800)\ttotal: 45.5s\tremaining: 3m 58s\n",
            "900:\tlearn: 0.8601865\ttest: 0.8566275\tbest: 0.8566275 (900)\ttotal: 51.1s\tremaining: 3m 52s\n",
            "1000:\tlearn: 0.8607495\ttest: 0.8568055\tbest: 0.8568055 (1000)\ttotal: 56.6s\tremaining: 3m 46s\n",
            "1100:\tlearn: 0.8612382\ttest: 0.8569497\tbest: 0.8569497 (1100)\ttotal: 1m 2s\tremaining: 3m 40s\n",
            "1200:\tlearn: 0.8616470\ttest: 0.8570562\tbest: 0.8570579 (1198)\ttotal: 1m 7s\tremaining: 3m 34s\n",
            "1300:\tlearn: 0.8621130\ttest: 0.8572026\tbest: 0.8572030 (1299)\ttotal: 1m 13s\tremaining: 3m 28s\n",
            "1400:\tlearn: 0.8625351\ttest: 0.8573054\tbest: 0.8573054 (1400)\ttotal: 1m 18s\tremaining: 3m 22s\n",
            "1500:\tlearn: 0.8628791\ttest: 0.8573696\tbest: 0.8573696 (1500)\ttotal: 1m 24s\tremaining: 3m 17s\n",
            "1600:\tlearn: 0.8632725\ttest: 0.8574617\tbest: 0.8574620 (1599)\ttotal: 1m 30s\tremaining: 3m 11s\n",
            "1700:\tlearn: 0.8636282\ttest: 0.8575217\tbest: 0.8575260 (1695)\ttotal: 1m 35s\tremaining: 3m 5s\n",
            "1800:\tlearn: 0.8639501\ttest: 0.8575579\tbest: 0.8575614 (1790)\ttotal: 1m 41s\tremaining: 2m 59s\n",
            "1900:\tlearn: 0.8642469\ttest: 0.8575926\tbest: 0.8575926 (1900)\ttotal: 1m 46s\tremaining: 2m 54s\n",
            "2000:\tlearn: 0.8645873\ttest: 0.8576573\tbest: 0.8576578 (1999)\ttotal: 1m 52s\tremaining: 2m 48s\n",
            "2100:\tlearn: 0.8648927\ttest: 0.8576914\tbest: 0.8576918 (2099)\ttotal: 1m 58s\tremaining: 2m 43s\n",
            "2200:\tlearn: 0.8651581\ttest: 0.8577229\tbest: 0.8577233 (2199)\ttotal: 2m 3s\tremaining: 2m 37s\n",
            "2300:\tlearn: 0.8654251\ttest: 0.8577693\tbest: 0.8577715 (2297)\ttotal: 2m 9s\tremaining: 2m 31s\n",
            "2400:\tlearn: 0.8656746\ttest: 0.8577758\tbest: 0.8577758 (2400)\ttotal: 2m 15s\tremaining: 2m 26s\n",
            "2500:\tlearn: 0.8659321\ttest: 0.8577784\tbest: 0.8577867 (2491)\ttotal: 2m 20s\tremaining: 2m 20s\n",
            "2600:\tlearn: 0.8661896\ttest: 0.8577917\tbest: 0.8578015 (2580)\ttotal: 2m 26s\tremaining: 2m 15s\n",
            "2700:\tlearn: 0.8664218\ttest: 0.8578106\tbest: 0.8578106 (2700)\ttotal: 2m 32s\tremaining: 2m 9s\n",
            "2800:\tlearn: 0.8666709\ttest: 0.8578056\tbest: 0.8578203 (2758)\ttotal: 2m 37s\tremaining: 2m 3s\n",
            "2900:\tlearn: 0.8668665\ttest: 0.8578115\tbest: 0.8578203 (2758)\ttotal: 2m 43s\tremaining: 1m 58s\n",
            "bestTest = 0.8578203022\n",
            "bestIteration = 2758\n",
            "Shrink model to first 2759 iterations.\n",
            "**************************************************\n",
            "Fold number: 3\n",
            "0:\tlearn: 0.7316062\ttest: 0.7341518\tbest: 0.7341518 (0)\ttotal: 86.1ms\tremaining: 7m 10s\n",
            "100:\tlearn: 0.7368670\ttest: 0.7384272\tbest: 0.7385273 (93)\ttotal: 5.44s\tremaining: 4m 24s\n",
            "200:\tlearn: 0.8456561\ttest: 0.8459900\tbest: 0.8459900 (200)\ttotal: 11.1s\tremaining: 4m 25s\n",
            "300:\tlearn: 0.8517085\ttest: 0.8510270\tbest: 0.8510270 (300)\ttotal: 17s\tremaining: 4m 24s\n",
            "400:\tlearn: 0.8543488\ttest: 0.8530152\tbest: 0.8530152 (400)\ttotal: 22.7s\tremaining: 4m 20s\n",
            "500:\tlearn: 0.8565087\ttest: 0.8544780\tbest: 0.8544780 (500)\ttotal: 28.5s\tremaining: 4m 15s\n",
            "600:\tlearn: 0.8577977\ttest: 0.8553098\tbest: 0.8553098 (600)\ttotal: 34.1s\tremaining: 4m 9s\n",
            "700:\tlearn: 0.8587697\ttest: 0.8558502\tbest: 0.8558502 (700)\ttotal: 39.8s\tremaining: 4m 3s\n",
            "800:\tlearn: 0.8595918\ttest: 0.8562517\tbest: 0.8562517 (800)\ttotal: 45.4s\tremaining: 3m 57s\n",
            "900:\tlearn: 0.8602586\ttest: 0.8565636\tbest: 0.8565636 (900)\ttotal: 51s\tremaining: 3m 52s\n",
            "1000:\tlearn: 0.8607700\ttest: 0.8567305\tbest: 0.8567314 (998)\ttotal: 56.6s\tremaining: 3m 46s\n",
            "1100:\tlearn: 0.8612761\ttest: 0.8568777\tbest: 0.8568815 (1098)\ttotal: 1m 2s\tremaining: 3m 40s\n",
            "1200:\tlearn: 0.8617645\ttest: 0.8570486\tbest: 0.8570498 (1198)\ttotal: 1m 7s\tremaining: 3m 34s\n",
            "1300:\tlearn: 0.8622306\ttest: 0.8571630\tbest: 0.8571630 (1300)\ttotal: 1m 13s\tremaining: 3m 28s\n",
            "1400:\tlearn: 0.8626451\ttest: 0.8572731\tbest: 0.8572739 (1399)\ttotal: 1m 18s\tremaining: 3m 22s\n",
            "1500:\tlearn: 0.8630916\ttest: 0.8574013\tbest: 0.8574038 (1495)\ttotal: 1m 24s\tremaining: 3m 17s\n",
            "1600:\tlearn: 0.8634823\ttest: 0.8575252\tbest: 0.8575267 (1599)\ttotal: 1m 30s\tremaining: 3m 11s\n",
            "1700:\tlearn: 0.8638841\ttest: 0.8575781\tbest: 0.8575781 (1700)\ttotal: 1m 36s\tremaining: 3m 6s\n",
            "1800:\tlearn: 0.8642499\ttest: 0.8576400\tbest: 0.8576428 (1788)\ttotal: 1m 41s\tremaining: 3m\n",
            "1900:\tlearn: 0.8645834\ttest: 0.8577031\tbest: 0.8577052 (1897)\ttotal: 1m 47s\tremaining: 2m 55s\n",
            "2000:\tlearn: 0.8648792\ttest: 0.8577487\tbest: 0.8577487 (2000)\ttotal: 1m 53s\tremaining: 2m 49s\n",
            "2100:\tlearn: 0.8651581\ttest: 0.8578247\tbest: 0.8578247 (2100)\ttotal: 1m 58s\tremaining: 2m 43s\n",
            "2200:\tlearn: 0.8654230\ttest: 0.8578575\tbest: 0.8578575 (2200)\ttotal: 2m 4s\tremaining: 2m 38s\n",
            "2300:\tlearn: 0.8657147\ttest: 0.8578866\tbest: 0.8578911 (2282)\ttotal: 2m 10s\tremaining: 2m 32s\n",
            "2400:\tlearn: 0.8659511\ttest: 0.8579099\tbest: 0.8579099 (2400)\ttotal: 2m 15s\tremaining: 2m 26s\n",
            "2500:\tlearn: 0.8662044\ttest: 0.8579371\tbest: 0.8579397 (2495)\ttotal: 2m 21s\tremaining: 2m 21s\n",
            "2600:\tlearn: 0.8664643\ttest: 0.8579464\tbest: 0.8579498 (2590)\ttotal: 2m 27s\tremaining: 2m 15s\n",
            "2700:\tlearn: 0.8667109\ttest: 0.8579570\tbest: 0.8579570 (2700)\ttotal: 2m 32s\tremaining: 2m 9s\n",
            "2800:\tlearn: 0.8669103\ttest: 0.8579480\tbest: 0.8579606 (2763)\ttotal: 2m 38s\tremaining: 2m 4s\n",
            "2900:\tlearn: 0.8671357\ttest: 0.8579556\tbest: 0.8579606 (2763)\ttotal: 2m 43s\tremaining: 1m 58s\n",
            "3000:\tlearn: 0.8673675\ttest: 0.8579590\tbest: 0.8579623 (2924)\ttotal: 2m 49s\tremaining: 1m 52s\n",
            "3100:\tlearn: 0.8675635\ttest: 0.8579446\tbest: 0.8579623 (2924)\ttotal: 2m 55s\tremaining: 1m 47s\n",
            "bestTest = 0.8579623103\n",
            "bestIteration = 2924\n",
            "Shrink model to first 2925 iterations.\n",
            "**************************************************\n",
            "Fold number: 4\n",
            "0:\tlearn: 0.7337539\ttest: 0.7347439\tbest: 0.7347439 (0)\ttotal: 53.9ms\tremaining: 4m 29s\n",
            "100:\tlearn: 0.7380182\ttest: 0.7367837\tbest: 0.7367936 (99)\ttotal: 5.33s\tremaining: 4m 18s\n",
            "200:\tlearn: 0.8465942\ttest: 0.8427392\tbest: 0.8427392 (200)\ttotal: 11.1s\tremaining: 4m 23s\n",
            "300:\tlearn: 0.8527825\ttest: 0.8480885\tbest: 0.8480885 (300)\ttotal: 16.9s\tremaining: 4m 24s\n",
            "400:\tlearn: 0.8554892\ttest: 0.8502038\tbest: 0.8502038 (400)\ttotal: 22.6s\tremaining: 4m 19s\n",
            "500:\tlearn: 0.8573598\ttest: 0.8515161\tbest: 0.8515161 (500)\ttotal: 28.3s\tremaining: 4m 14s\n",
            "600:\tlearn: 0.8585788\ttest: 0.8522649\tbest: 0.8522649 (600)\ttotal: 34s\tremaining: 4m 8s\n",
            "700:\tlearn: 0.8595027\ttest: 0.8527991\tbest: 0.8527991 (700)\ttotal: 39.7s\tremaining: 4m 3s\n",
            "800:\tlearn: 0.8602057\ttest: 0.8531406\tbest: 0.8531406 (800)\ttotal: 45.2s\tremaining: 3m 57s\n",
            "900:\tlearn: 0.8608748\ttest: 0.8534540\tbest: 0.8534540 (900)\ttotal: 50.9s\tremaining: 3m 51s\n",
            "1000:\tlearn: 0.8614174\ttest: 0.8536742\tbest: 0.8536742 (1000)\ttotal: 56.4s\tremaining: 3m 45s\n",
            "1100:\tlearn: 0.8618754\ttest: 0.8538400\tbest: 0.8538400 (1100)\ttotal: 1m 2s\tremaining: 3m 39s\n",
            "1200:\tlearn: 0.8623281\ttest: 0.8539812\tbest: 0.8539812 (1200)\ttotal: 1m 7s\tremaining: 3m 34s\n",
            "1300:\tlearn: 0.8627321\ttest: 0.8540997\tbest: 0.8541023 (1297)\ttotal: 1m 13s\tremaining: 3m 29s\n",
            "1400:\tlearn: 0.8631441\ttest: 0.8541949\tbest: 0.8541949 (1400)\ttotal: 1m 19s\tremaining: 3m 23s\n",
            "1500:\tlearn: 0.8635165\ttest: 0.8542485\tbest: 0.8542539 (1495)\ttotal: 1m 24s\tremaining: 3m 17s\n",
            "1600:\tlearn: 0.8638530\ttest: 0.8543150\tbest: 0.8543150 (1599)\ttotal: 1m 30s\tremaining: 3m 12s\n",
            "1700:\tlearn: 0.8641904\ttest: 0.8543881\tbest: 0.8543887 (1698)\ttotal: 1m 36s\tremaining: 3m 6s\n",
            "1800:\tlearn: 0.8644857\ttest: 0.8544324\tbest: 0.8544370 (1787)\ttotal: 1m 41s\tremaining: 3m 1s\n",
            "1900:\tlearn: 0.8647893\ttest: 0.8544831\tbest: 0.8544865 (1894)\ttotal: 1m 47s\tremaining: 2m 55s\n",
            "2000:\tlearn: 0.8650801\ttest: 0.8545083\tbest: 0.8545083 (2000)\ttotal: 1m 53s\tremaining: 2m 50s\n",
            "2100:\tlearn: 0.8653774\ttest: 0.8545286\tbest: 0.8545286 (2096)\ttotal: 1m 59s\tremaining: 2m 44s\n",
            "2200:\tlearn: 0.8656236\ttest: 0.8545566\tbest: 0.8545566 (2200)\ttotal: 2m 4s\tremaining: 2m 38s\n",
            "2300:\tlearn: 0.8658741\ttest: 0.8545868\tbest: 0.8545868 (2247)\ttotal: 2m 10s\tremaining: 2m 33s\n",
            "2400:\tlearn: 0.8661453\ttest: 0.8545849\tbest: 0.8545871 (2358)\ttotal: 2m 16s\tremaining: 2m 27s\n",
            "2500:\tlearn: 0.8663735\ttest: 0.8545944\tbest: 0.8545944 (2500)\ttotal: 2m 21s\tremaining: 2m 21s\n",
            "2600:\tlearn: 0.8665813\ttest: 0.8546151\tbest: 0.8546157 (2597)\ttotal: 2m 27s\tremaining: 2m 15s\n",
            "2700:\tlearn: 0.8667886\ttest: 0.8546085\tbest: 0.8546157 (2597)\ttotal: 2m 32s\tremaining: 2m 10s\n",
            "2800:\tlearn: 0.8669981\ttest: 0.8546237\tbest: 0.8546238 (2798)\ttotal: 2m 38s\tremaining: 2m 4s\n",
            "2900:\tlearn: 0.8672275\ttest: 0.8546399\tbest: 0.8546441 (2881)\ttotal: 2m 44s\tremaining: 1m 58s\n",
            "3000:\tlearn: 0.8674538\ttest: 0.8546316\tbest: 0.8546441 (2881)\ttotal: 2m 49s\tremaining: 1m 53s\n",
            "bestTest = 0.8546441495\n",
            "bestIteration = 2881\n",
            "Shrink model to first 2882 iterations.\n",
            "**************************************************\n",
            "Fold number: 5\n",
            "0:\tlearn: 0.7321963\ttest: 0.7374012\tbest: 0.7374012 (0)\ttotal: 52.9ms\tremaining: 4m 24s\n",
            "100:\tlearn: 0.7367956\ttest: 0.7405693\tbest: 0.7405977 (88)\ttotal: 5.32s\tremaining: 4m 17s\n",
            "200:\tlearn: 0.8455487\ttest: 0.8468625\tbest: 0.8468625 (200)\ttotal: 11s\tremaining: 4m 23s\n",
            "300:\tlearn: 0.8515701\ttest: 0.8521340\tbest: 0.8521340 (300)\ttotal: 16.9s\tremaining: 4m 23s\n",
            "400:\tlearn: 0.8542061\ttest: 0.8539675\tbest: 0.8539675 (400)\ttotal: 22.6s\tremaining: 4m 19s\n",
            "500:\tlearn: 0.8562541\ttest: 0.8553763\tbest: 0.8553763 (500)\ttotal: 28.3s\tremaining: 4m 14s\n",
            "600:\tlearn: 0.8575760\ttest: 0.8561622\tbest: 0.8561622 (600)\ttotal: 34s\tremaining: 4m 8s\n",
            "700:\tlearn: 0.8585608\ttest: 0.8566670\tbest: 0.8566670 (700)\ttotal: 39.5s\tremaining: 4m 2s\n",
            "800:\tlearn: 0.8594094\ttest: 0.8569885\tbest: 0.8569885 (800)\ttotal: 45.1s\tremaining: 3m 56s\n",
            "900:\tlearn: 0.8601406\ttest: 0.8572330\tbest: 0.8572379 (897)\ttotal: 50.8s\tremaining: 3m 51s\n",
            "1000:\tlearn: 0.8607219\ttest: 0.8573862\tbest: 0.8573884 (993)\ttotal: 56.4s\tremaining: 3m 45s\n",
            "1100:\tlearn: 0.8612325\ttest: 0.8575205\tbest: 0.8575205 (1100)\ttotal: 1m 1s\tremaining: 3m 39s\n",
            "1200:\tlearn: 0.8617502\ttest: 0.8576485\tbest: 0.8576485 (1200)\ttotal: 1m 7s\tremaining: 3m 33s\n",
            "1300:\tlearn: 0.8621975\ttest: 0.8576936\tbest: 0.8576963 (1296)\ttotal: 1m 13s\tremaining: 3m 28s\n",
            "1400:\tlearn: 0.8626636\ttest: 0.8577364\tbest: 0.8577413 (1394)\ttotal: 1m 18s\tremaining: 3m 22s\n",
            "1500:\tlearn: 0.8630359\ttest: 0.8577796\tbest: 0.8577796 (1499)\ttotal: 1m 24s\tremaining: 3m 16s\n",
            "1600:\tlearn: 0.8634414\ttest: 0.8578097\tbest: 0.8578097 (1600)\ttotal: 1m 30s\tremaining: 3m 11s\n",
            "1700:\tlearn: 0.8638175\ttest: 0.8578410\tbest: 0.8578418 (1699)\ttotal: 1m 35s\tremaining: 3m 5s\n",
            "1800:\tlearn: 0.8641374\ttest: 0.8578324\tbest: 0.8578479 (1777)\ttotal: 1m 41s\tremaining: 2m 59s\n",
            "1900:\tlearn: 0.8644672\ttest: 0.8578643\tbest: 0.8578686 (1886)\ttotal: 1m 46s\tremaining: 2m 54s\n",
            "2000:\tlearn: 0.8647584\ttest: 0.8578803\tbest: 0.8578803 (2000)\ttotal: 1m 52s\tremaining: 2m 48s\n",
            "2100:\tlearn: 0.8650333\ttest: 0.8578964\tbest: 0.8579001 (2089)\ttotal: 1m 58s\tremaining: 2m 42s\n",
            "2200:\tlearn: 0.8653338\ttest: 0.8578880\tbest: 0.8579001 (2089)\ttotal: 2m 3s\tremaining: 2m 37s\n",
            "bestTest = 0.8579000831\n",
            "bestIteration = 2089\n",
            "Shrink model to first 2090 iterations.\n",
            "####################\n",
            "0.859791668130756\n",
            "Running for seed 9\n",
            "**************************************************\n",
            "Fold number: 1\n",
            "0:\tlearn: 0.7312928\ttest: 0.7346554\tbest: 0.7346554 (0)\ttotal: 96.8ms\tremaining: 8m 3s\n",
            "100:\tlearn: 0.7366898\ttest: 0.7390893\tbest: 0.7391180 (99)\ttotal: 5.48s\tremaining: 4m 26s\n",
            "200:\tlearn: 0.8456986\ttest: 0.8461595\tbest: 0.8461595 (200)\ttotal: 11.2s\tremaining: 4m 27s\n",
            "300:\tlearn: 0.8514512\ttest: 0.8517659\tbest: 0.8517659 (300)\ttotal: 17s\tremaining: 4m 26s\n",
            "400:\tlearn: 0.8540682\ttest: 0.8539329\tbest: 0.8539329 (400)\ttotal: 22.8s\tremaining: 4m 21s\n",
            "500:\tlearn: 0.8559934\ttest: 0.8553701\tbest: 0.8553701 (500)\ttotal: 28.5s\tremaining: 4m 15s\n",
            "600:\tlearn: 0.8572764\ttest: 0.8561918\tbest: 0.8561918 (600)\ttotal: 34.2s\tremaining: 4m 10s\n",
            "700:\tlearn: 0.8582528\ttest: 0.8567368\tbest: 0.8567384 (699)\ttotal: 39.9s\tremaining: 4m 4s\n",
            "800:\tlearn: 0.8590501\ttest: 0.8570617\tbest: 0.8570617 (800)\ttotal: 45.6s\tremaining: 3m 59s\n",
            "900:\tlearn: 0.8597299\ttest: 0.8572443\tbest: 0.8572443 (900)\ttotal: 51.3s\tremaining: 3m 53s\n",
            "1000:\tlearn: 0.8603479\ttest: 0.8574353\tbest: 0.8574353 (1000)\ttotal: 56.9s\tremaining: 3m 47s\n",
            "1100:\tlearn: 0.8609005\ttest: 0.8575844\tbest: 0.8575844 (1100)\ttotal: 1m 2s\tremaining: 3m 41s\n",
            "1200:\tlearn: 0.8614050\ttest: 0.8577007\tbest: 0.8577007 (1200)\ttotal: 1m 8s\tremaining: 3m 35s\n",
            "1300:\tlearn: 0.8618784\ttest: 0.8578559\tbest: 0.8578559 (1300)\ttotal: 1m 13s\tremaining: 3m 29s\n",
            "1400:\tlearn: 0.8623409\ttest: 0.8579699\tbest: 0.8579699 (1400)\ttotal: 1m 19s\tremaining: 3m 23s\n",
            "1500:\tlearn: 0.8627533\ttest: 0.8580355\tbest: 0.8580359 (1497)\ttotal: 1m 25s\tremaining: 3m 18s\n",
            "1600:\tlearn: 0.8631383\ttest: 0.8580905\tbest: 0.8580931 (1559)\ttotal: 1m 30s\tremaining: 3m 12s\n",
            "1700:\tlearn: 0.8635208\ttest: 0.8581109\tbest: 0.8581126 (1696)\ttotal: 1m 36s\tremaining: 3m 6s\n",
            "1800:\tlearn: 0.8638875\ttest: 0.8581623\tbest: 0.8581633 (1799)\ttotal: 1m 42s\tremaining: 3m 1s\n",
            "1900:\tlearn: 0.8642431\ttest: 0.8582031\tbest: 0.8582068 (1891)\ttotal: 1m 47s\tremaining: 2m 55s\n",
            "2000:\tlearn: 0.8645511\ttest: 0.8582407\tbest: 0.8582453 (1957)\ttotal: 1m 53s\tremaining: 2m 50s\n",
            "2100:\tlearn: 0.8648371\ttest: 0.8582550\tbest: 0.8582582 (2093)\ttotal: 1m 59s\tremaining: 2m 44s\n",
            "2200:\tlearn: 0.8651228\ttest: 0.8582741\tbest: 0.8582817 (2175)\ttotal: 2m 4s\tremaining: 2m 38s\n",
            "2300:\tlearn: 0.8654226\ttest: 0.8582953\tbest: 0.8583001 (2265)\ttotal: 2m 10s\tremaining: 2m 33s\n",
            "2400:\tlearn: 0.8656878\ttest: 0.8583142\tbest: 0.8583177 (2372)\ttotal: 2m 16s\tremaining: 2m 27s\n",
            "2500:\tlearn: 0.8659692\ttest: 0.8583318\tbest: 0.8583337 (2498)\ttotal: 2m 21s\tremaining: 2m 21s\n",
            "2600:\tlearn: 0.8662127\ttest: 0.8583340\tbest: 0.8583346 (2595)\ttotal: 2m 27s\tremaining: 2m 16s\n",
            "2700:\tlearn: 0.8664907\ttest: 0.8583357\tbest: 0.8583417 (2644)\ttotal: 2m 33s\tremaining: 2m 10s\n",
            "2800:\tlearn: 0.8667191\ttest: 0.8583249\tbest: 0.8583417 (2644)\ttotal: 2m 38s\tremaining: 2m 4s\n",
            "bestTest = 0.8583416641\n",
            "bestIteration = 2644\n",
            "Shrink model to first 2645 iterations.\n",
            "**************************************************\n",
            "Fold number: 2\n",
            "0:\tlearn: 0.7307458\ttest: 0.7338588\tbest: 0.7338588 (0)\ttotal: 50.5ms\tremaining: 4m 12s\n",
            "100:\tlearn: 0.7361231\ttest: 0.7393362\tbest: 0.7393362 (100)\ttotal: 5.36s\tremaining: 4m 20s\n",
            "200:\tlearn: 0.8457962\ttest: 0.8452638\tbest: 0.8452638 (200)\ttotal: 11s\tremaining: 4m 23s\n",
            "300:\tlearn: 0.8520235\ttest: 0.8503489\tbest: 0.8503489 (300)\ttotal: 16.9s\tremaining: 4m 24s\n",
            "400:\tlearn: 0.8549743\ttest: 0.8524183\tbest: 0.8524183 (400)\ttotal: 22.7s\tremaining: 4m 20s\n",
            "500:\tlearn: 0.8568379\ttest: 0.8534873\tbest: 0.8534878 (499)\ttotal: 28.4s\tremaining: 4m 15s\n",
            "600:\tlearn: 0.8580548\ttest: 0.8540476\tbest: 0.8540476 (600)\ttotal: 34.1s\tremaining: 4m 9s\n",
            "700:\tlearn: 0.8589644\ttest: 0.8544650\tbest: 0.8544650 (700)\ttotal: 39.7s\tremaining: 4m 3s\n",
            "800:\tlearn: 0.8597354\ttest: 0.8547700\tbest: 0.8547700 (800)\ttotal: 45.4s\tremaining: 3m 57s\n",
            "900:\tlearn: 0.8603522\ttest: 0.8549621\tbest: 0.8549623 (898)\ttotal: 50.9s\tremaining: 3m 51s\n",
            "1000:\tlearn: 0.8609251\ttest: 0.8551390\tbest: 0.8551390 (1000)\ttotal: 56.6s\tremaining: 3m 46s\n",
            "1100:\tlearn: 0.8614997\ttest: 0.8552764\tbest: 0.8552786 (1096)\ttotal: 1m 2s\tremaining: 3m 40s\n",
            "1200:\tlearn: 0.8619980\ttest: 0.8553735\tbest: 0.8553735 (1200)\ttotal: 1m 7s\tremaining: 3m 34s\n",
            "1300:\tlearn: 0.8625036\ttest: 0.8554953\tbest: 0.8554953 (1300)\ttotal: 1m 13s\tremaining: 3m 28s\n",
            "1400:\tlearn: 0.8629929\ttest: 0.8555551\tbest: 0.8555551 (1400)\ttotal: 1m 19s\tremaining: 3m 23s\n",
            "1500:\tlearn: 0.8634248\ttest: 0.8556042\tbest: 0.8556080 (1488)\ttotal: 1m 24s\tremaining: 3m 18s\n",
            "1600:\tlearn: 0.8637850\ttest: 0.8556719\tbest: 0.8556733 (1598)\ttotal: 1m 30s\tremaining: 3m 12s\n",
            "1700:\tlearn: 0.8641571\ttest: 0.8557304\tbest: 0.8557306 (1699)\ttotal: 1m 36s\tremaining: 3m 6s\n",
            "1800:\tlearn: 0.8645096\ttest: 0.8557755\tbest: 0.8557757 (1798)\ttotal: 1m 41s\tremaining: 3m\n",
            "1900:\tlearn: 0.8648474\ttest: 0.8558033\tbest: 0.8558082 (1886)\ttotal: 1m 47s\tremaining: 2m 55s\n",
            "2000:\tlearn: 0.8651353\ttest: 0.8558224\tbest: 0.8558253 (1996)\ttotal: 1m 53s\tremaining: 2m 49s\n",
            "2100:\tlearn: 0.8654511\ttest: 0.8558279\tbest: 0.8558378 (2039)\ttotal: 1m 58s\tremaining: 2m 44s\n",
            "2200:\tlearn: 0.8657335\ttest: 0.8558262\tbest: 0.8558378 (2039)\ttotal: 2m 4s\tremaining: 2m 38s\n",
            "2300:\tlearn: 0.8659958\ttest: 0.8558438\tbest: 0.8558439 (2243)\ttotal: 2m 10s\tremaining: 2m 32s\n",
            "2400:\tlearn: 0.8662572\ttest: 0.8558601\tbest: 0.8558686 (2369)\ttotal: 2m 15s\tremaining: 2m 26s\n",
            "2500:\tlearn: 0.8665039\ttest: 0.8558352\tbest: 0.8558686 (2369)\ttotal: 2m 21s\tremaining: 2m 21s\n",
            "bestTest = 0.855868578\n",
            "bestIteration = 2369\n",
            "Shrink model to first 2370 iterations.\n",
            "**************************************************\n",
            "Fold number: 3\n",
            "0:\tlearn: 0.7299980\ttest: 0.7394509\tbest: 0.7394509 (0)\ttotal: 88.6ms\tremaining: 7m 22s\n",
            "100:\tlearn: 0.7355691\ttest: 0.7437533\tbest: 0.7438280 (95)\ttotal: 5.45s\tremaining: 4m 24s\n",
            "200:\tlearn: 0.8458243\ttest: 0.8477599\tbest: 0.8477599 (200)\ttotal: 11.2s\tremaining: 4m 27s\n",
            "300:\tlearn: 0.8518219\ttest: 0.8530896\tbest: 0.8530896 (300)\ttotal: 17s\tremaining: 4m 25s\n",
            "400:\tlearn: 0.8545143\ttest: 0.8549426\tbest: 0.8549426 (400)\ttotal: 22.8s\tremaining: 4m 21s\n",
            "500:\tlearn: 0.8564588\ttest: 0.8560244\tbest: 0.8560258 (498)\ttotal: 28.5s\tremaining: 4m 15s\n",
            "600:\tlearn: 0.8576936\ttest: 0.8565940\tbest: 0.8565940 (600)\ttotal: 34.2s\tremaining: 4m 10s\n",
            "700:\tlearn: 0.8586730\ttest: 0.8570410\tbest: 0.8570432 (698)\ttotal: 39.9s\tremaining: 4m 4s\n",
            "800:\tlearn: 0.8594608\ttest: 0.8573608\tbest: 0.8573608 (800)\ttotal: 45.6s\tremaining: 3m 58s\n",
            "900:\tlearn: 0.8600758\ttest: 0.8575689\tbest: 0.8575689 (900)\ttotal: 51.2s\tremaining: 3m 52s\n",
            "1000:\tlearn: 0.8607099\ttest: 0.8577613\tbest: 0.8577613 (1000)\ttotal: 56.8s\tremaining: 3m 46s\n",
            "1100:\tlearn: 0.8612727\ttest: 0.8579059\tbest: 0.8579059 (1100)\ttotal: 1m 2s\tremaining: 3m 40s\n",
            "1200:\tlearn: 0.8617247\ttest: 0.8580322\tbest: 0.8580329 (1197)\ttotal: 1m 7s\tremaining: 3m 34s\n",
            "1300:\tlearn: 0.8622220\ttest: 0.8581668\tbest: 0.8581682 (1298)\ttotal: 1m 13s\tremaining: 3m 29s\n",
            "1400:\tlearn: 0.8626995\ttest: 0.8582729\tbest: 0.8582729 (1400)\ttotal: 1m 19s\tremaining: 3m 23s\n",
            "1500:\tlearn: 0.8630787\ttest: 0.8583307\tbest: 0.8583307 (1500)\ttotal: 1m 24s\tremaining: 3m 17s\n",
            "1600:\tlearn: 0.8634474\ttest: 0.8583951\tbest: 0.8583951 (1600)\ttotal: 1m 30s\tremaining: 3m 12s\n",
            "1700:\tlearn: 0.8638039\ttest: 0.8584432\tbest: 0.8584464 (1678)\ttotal: 1m 36s\tremaining: 3m 7s\n",
            "1800:\tlearn: 0.8641134\ttest: 0.8584756\tbest: 0.8584760 (1774)\ttotal: 1m 42s\tremaining: 3m 1s\n",
            "1900:\tlearn: 0.8644669\ttest: 0.8585139\tbest: 0.8585149 (1889)\ttotal: 1m 47s\tremaining: 2m 55s\n",
            "2000:\tlearn: 0.8647507\ttest: 0.8585270\tbest: 0.8585270 (2000)\ttotal: 1m 53s\tremaining: 2m 50s\n",
            "2100:\tlearn: 0.8650272\ttest: 0.8585376\tbest: 0.8585376 (2100)\ttotal: 1m 59s\tremaining: 2m 44s\n",
            "2200:\tlearn: 0.8653018\ttest: 0.8585671\tbest: 0.8585671 (2199)\ttotal: 2m 4s\tremaining: 2m 38s\n",
            "2300:\tlearn: 0.8655555\ttest: 0.8585819\tbest: 0.8585853 (2297)\ttotal: 2m 10s\tremaining: 2m 33s\n",
            "2400:\tlearn: 0.8657969\ttest: 0.8585953\tbest: 0.8586017 (2371)\ttotal: 2m 16s\tremaining: 2m 27s\n",
            "2500:\tlearn: 0.8660663\ttest: 0.8585984\tbest: 0.8586077 (2458)\ttotal: 2m 21s\tremaining: 2m 21s\n",
            "2600:\tlearn: 0.8663031\ttest: 0.8586044\tbest: 0.8586082 (2529)\ttotal: 2m 27s\tremaining: 2m 16s\n",
            "2700:\tlearn: 0.8665598\ttest: 0.8586202\tbest: 0.8586271 (2671)\ttotal: 2m 33s\tremaining: 2m 10s\n",
            "2800:\tlearn: 0.8667804\ttest: 0.8585961\tbest: 0.8586271 (2671)\ttotal: 2m 38s\tremaining: 2m 4s\n",
            "bestTest = 0.8586271405\n",
            "bestIteration = 2671\n",
            "Shrink model to first 2672 iterations.\n",
            "**************************************************\n",
            "Fold number: 4\n",
            "0:\tlearn: 0.7314575\ttest: 0.7342081\tbest: 0.7342081 (0)\ttotal: 81.8ms\tremaining: 6m 49s\n",
            "100:\tlearn: 0.7364201\ttest: 0.7395979\tbest: 0.7396839 (85)\ttotal: 5.41s\tremaining: 4m 22s\n",
            "200:\tlearn: 0.8460466\ttest: 0.8459221\tbest: 0.8459221 (200)\ttotal: 11.1s\tremaining: 4m 25s\n",
            "300:\tlearn: 0.8520384\ttest: 0.8504500\tbest: 0.8504500 (300)\ttotal: 17s\tremaining: 4m 25s\n",
            "400:\tlearn: 0.8544730\ttest: 0.8522422\tbest: 0.8522422 (400)\ttotal: 22.7s\tremaining: 4m 20s\n",
            "500:\tlearn: 0.8563398\ttest: 0.8535101\tbest: 0.8535101 (500)\ttotal: 28.5s\tremaining: 4m 15s\n",
            "600:\tlearn: 0.8575828\ttest: 0.8543394\tbest: 0.8543394 (600)\ttotal: 34.1s\tremaining: 4m 9s\n",
            "700:\tlearn: 0.8585955\ttest: 0.8549149\tbest: 0.8549149 (700)\ttotal: 39.7s\tremaining: 4m 3s\n",
            "800:\tlearn: 0.8593925\ttest: 0.8552628\tbest: 0.8552628 (800)\ttotal: 45.3s\tremaining: 3m 57s\n",
            "900:\tlearn: 0.8601233\ttest: 0.8556045\tbest: 0.8556062 (895)\ttotal: 51s\tremaining: 3m 51s\n",
            "1000:\tlearn: 0.8607076\ttest: 0.8558249\tbest: 0.8558255 (999)\ttotal: 56.6s\tremaining: 3m 45s\n",
            "1100:\tlearn: 0.8613070\ttest: 0.8560341\tbest: 0.8560341 (1100)\ttotal: 1m 2s\tremaining: 3m 40s\n",
            "1200:\tlearn: 0.8618293\ttest: 0.8562042\tbest: 0.8562042 (1200)\ttotal: 1m 8s\tremaining: 3m 35s\n",
            "1300:\tlearn: 0.8623236\ttest: 0.8563360\tbest: 0.8563367 (1297)\ttotal: 1m 13s\tremaining: 3m 29s\n",
            "1400:\tlearn: 0.8627588\ttest: 0.8564183\tbest: 0.8564190 (1399)\ttotal: 1m 19s\tremaining: 3m 23s\n",
            "1500:\tlearn: 0.8631675\ttest: 0.8564889\tbest: 0.8564894 (1499)\ttotal: 1m 24s\tremaining: 3m 17s\n",
            "1600:\tlearn: 0.8636025\ttest: 0.8565819\tbest: 0.8565820 (1599)\ttotal: 1m 30s\tremaining: 3m 12s\n",
            "1700:\tlearn: 0.8639520\ttest: 0.8566523\tbest: 0.8566523 (1700)\ttotal: 1m 36s\tremaining: 3m 6s\n",
            "1800:\tlearn: 0.8643043\ttest: 0.8567244\tbest: 0.8567244 (1800)\ttotal: 1m 41s\tremaining: 3m\n",
            "1900:\tlearn: 0.8646119\ttest: 0.8567888\tbest: 0.8567888 (1900)\ttotal: 1m 47s\tremaining: 2m 55s\n",
            "2000:\tlearn: 0.8648695\ttest: 0.8568159\tbest: 0.8568168 (1984)\ttotal: 1m 53s\tremaining: 2m 49s\n",
            "2100:\tlearn: 0.8652008\ttest: 0.8568679\tbest: 0.8568741 (2091)\ttotal: 1m 58s\tremaining: 2m 43s\n",
            "2200:\tlearn: 0.8654760\ttest: 0.8568788\tbest: 0.8568809 (2198)\ttotal: 2m 4s\tremaining: 2m 38s\n",
            "2300:\tlearn: 0.8657670\ttest: 0.8569427\tbest: 0.8569427 (2299)\ttotal: 2m 10s\tremaining: 2m 32s\n",
            "2400:\tlearn: 0.8660480\ttest: 0.8569387\tbest: 0.8569449 (2306)\ttotal: 2m 15s\tremaining: 2m 26s\n",
            "2500:\tlearn: 0.8662820\ttest: 0.8569753\tbest: 0.8569766 (2499)\ttotal: 2m 21s\tremaining: 2m 21s\n",
            "2600:\tlearn: 0.8665566\ttest: 0.8569891\tbest: 0.8569903 (2586)\ttotal: 2m 27s\tremaining: 2m 15s\n",
            "2700:\tlearn: 0.8667921\ttest: 0.8570118\tbest: 0.8570119 (2699)\ttotal: 2m 32s\tremaining: 2m 9s\n",
            "2800:\tlearn: 0.8670321\ttest: 0.8570150\tbest: 0.8570156 (2798)\ttotal: 2m 38s\tremaining: 2m 4s\n",
            "2900:\tlearn: 0.8672573\ttest: 0.8570321\tbest: 0.8570321 (2900)\ttotal: 2m 44s\tremaining: 1m 58s\n",
            "3000:\tlearn: 0.8674654\ttest: 0.8570366\tbest: 0.8570379 (2999)\ttotal: 2m 49s\tremaining: 1m 53s\n",
            "3100:\tlearn: 0.8676898\ttest: 0.8570634\tbest: 0.8570727 (3080)\ttotal: 2m 55s\tremaining: 1m 47s\n",
            "3200:\tlearn: 0.8679143\ttest: 0.8570812\tbest: 0.8570812 (3200)\ttotal: 3m 1s\tremaining: 1m 41s\n",
            "3300:\tlearn: 0.8681072\ttest: 0.8571068\tbest: 0.8571072 (3298)\ttotal: 3m 6s\tremaining: 1m 36s\n",
            "3400:\tlearn: 0.8683267\ttest: 0.8571226\tbest: 0.8571240 (3398)\ttotal: 3m 12s\tremaining: 1m 30s\n",
            "3500:\tlearn: 0.8685381\ttest: 0.8571252\tbest: 0.8571321 (3445)\ttotal: 3m 18s\tremaining: 1m 24s\n",
            "3600:\tlearn: 0.8687235\ttest: 0.8571038\tbest: 0.8571321 (3445)\ttotal: 3m 23s\tremaining: 1m 19s\n",
            "bestTest = 0.8571321368\n",
            "bestIteration = 3445\n",
            "Shrink model to first 3446 iterations.\n",
            "**************************************************\n",
            "Fold number: 5\n",
            "0:\tlearn: 0.7317825\ttest: 0.7332149\tbest: 0.7332149 (0)\ttotal: 59.6ms\tremaining: 4m 57s\n",
            "100:\tlearn: 0.7377073\ttest: 0.7364269\tbest: 0.7364281 (96)\ttotal: 5.37s\tremaining: 4m 20s\n",
            "200:\tlearn: 0.8464667\ttest: 0.8452745\tbest: 0.8452745 (200)\ttotal: 11.1s\tremaining: 4m 24s\n",
            "300:\tlearn: 0.8517927\ttest: 0.8504483\tbest: 0.8504483 (300)\ttotal: 17.1s\tremaining: 4m 26s\n",
            "400:\tlearn: 0.8543216\ttest: 0.8526858\tbest: 0.8526858 (400)\ttotal: 23s\tremaining: 4m 23s\n",
            "500:\tlearn: 0.8560990\ttest: 0.8541136\tbest: 0.8541136 (500)\ttotal: 28.7s\tremaining: 4m 17s\n",
            "600:\tlearn: 0.8572926\ttest: 0.8550323\tbest: 0.8550323 (600)\ttotal: 34.3s\tremaining: 4m 11s\n",
            "700:\tlearn: 0.8581916\ttest: 0.8556289\tbest: 0.8556289 (700)\ttotal: 39.9s\tremaining: 4m 4s\n",
            "800:\tlearn: 0.8590468\ttest: 0.8560888\tbest: 0.8560888 (800)\ttotal: 45.5s\tremaining: 3m 58s\n",
            "900:\tlearn: 0.8597257\ttest: 0.8564428\tbest: 0.8564438 (898)\ttotal: 51.1s\tremaining: 3m 52s\n",
            "1000:\tlearn: 0.8603034\ttest: 0.8566804\tbest: 0.8566804 (1000)\ttotal: 56.7s\tremaining: 3m 46s\n",
            "1100:\tlearn: 0.8609035\ttest: 0.8568953\tbest: 0.8568953 (1097)\ttotal: 1m 2s\tremaining: 3m 40s\n",
            "1200:\tlearn: 0.8614077\ttest: 0.8570883\tbest: 0.8570883 (1200)\ttotal: 1m 7s\tremaining: 3m 34s\n",
            "1300:\tlearn: 0.8618894\ttest: 0.8572368\tbest: 0.8572412 (1296)\ttotal: 1m 13s\tremaining: 3m 28s\n",
            "1400:\tlearn: 0.8623067\ttest: 0.8573804\tbest: 0.8573813 (1399)\ttotal: 1m 19s\tremaining: 3m 23s\n",
            "1500:\tlearn: 0.8627537\ttest: 0.8575065\tbest: 0.8575065 (1500)\ttotal: 1m 24s\tremaining: 3m 17s\n",
            "1600:\tlearn: 0.8631247\ttest: 0.8575953\tbest: 0.8575961 (1592)\ttotal: 1m 30s\tremaining: 3m 11s\n",
            "1700:\tlearn: 0.8634921\ttest: 0.8576575\tbest: 0.8576598 (1676)\ttotal: 1m 35s\tremaining: 3m 6s\n",
            "1800:\tlearn: 0.8638489\ttest: 0.8577366\tbest: 0.8577366 (1800)\ttotal: 1m 41s\tremaining: 3m\n",
            "1900:\tlearn: 0.8641785\ttest: 0.8577983\tbest: 0.8577983 (1900)\ttotal: 1m 47s\tremaining: 2m 54s\n",
            "2000:\tlearn: 0.8644356\ttest: 0.8578208\tbest: 0.8578247 (1992)\ttotal: 1m 52s\tremaining: 2m 48s\n",
            "2100:\tlearn: 0.8647102\ttest: 0.8578517\tbest: 0.8578517 (2099)\ttotal: 1m 58s\tremaining: 2m 43s\n",
            "2200:\tlearn: 0.8649975\ttest: 0.8579060\tbest: 0.8579062 (2199)\ttotal: 2m 3s\tremaining: 2m 37s\n",
            "2300:\tlearn: 0.8652483\ttest: 0.8579212\tbest: 0.8579258 (2286)\ttotal: 2m 9s\tremaining: 2m 31s\n",
            "2400:\tlearn: 0.8655107\ttest: 0.8579614\tbest: 0.8579635 (2386)\ttotal: 2m 15s\tremaining: 2m 26s\n",
            "2500:\tlearn: 0.8657574\ttest: 0.8579979\tbest: 0.8580010 (2495)\ttotal: 2m 20s\tremaining: 2m 20s\n",
            "2600:\tlearn: 0.8659873\ttest: 0.8579968\tbest: 0.8580149 (2556)\ttotal: 2m 26s\tremaining: 2m 14s\n",
            "2700:\tlearn: 0.8662346\ttest: 0.8580256\tbest: 0.8580270 (2699)\ttotal: 2m 31s\tremaining: 2m 9s\n",
            "2800:\tlearn: 0.8664596\ttest: 0.8580661\tbest: 0.8580696 (2789)\ttotal: 2m 37s\tremaining: 2m 3s\n",
            "2900:\tlearn: 0.8666866\ttest: 0.8580949\tbest: 0.8580951 (2896)\ttotal: 2m 43s\tremaining: 1m 57s\n",
            "3000:\tlearn: 0.8668882\ttest: 0.8581184\tbest: 0.8581196 (2996)\ttotal: 2m 48s\tremaining: 1m 52s\n",
            "3100:\tlearn: 0.8671219\ttest: 0.8581340\tbest: 0.8581354 (3081)\ttotal: 2m 54s\tremaining: 1m 46s\n",
            "3200:\tlearn: 0.8673278\ttest: 0.8581678\tbest: 0.8581702 (3186)\ttotal: 3m\tremaining: 1m 41s\n",
            "3300:\tlearn: 0.8675388\ttest: 0.8581769\tbest: 0.8581772 (3296)\ttotal: 3m 5s\tremaining: 1m 35s\n",
            "3400:\tlearn: 0.8677551\ttest: 0.8581850\tbest: 0.8581864 (3382)\ttotal: 3m 11s\tremaining: 1m 30s\n",
            "3500:\tlearn: 0.8679608\ttest: 0.8582039\tbest: 0.8582039 (3500)\ttotal: 3m 17s\tremaining: 1m 24s\n",
            "3600:\tlearn: 0.8681543\ttest: 0.8582175\tbest: 0.8582176 (3564)\ttotal: 3m 22s\tremaining: 1m 18s\n",
            "3700:\tlearn: 0.8683396\ttest: 0.8582478\tbest: 0.8582478 (3700)\ttotal: 3m 28s\tremaining: 1m 13s\n",
            "3800:\tlearn: 0.8685132\ttest: 0.8582401\tbest: 0.8582487 (3713)\ttotal: 3m 34s\tremaining: 1m 7s\n",
            "3900:\tlearn: 0.8686963\ttest: 0.8582424\tbest: 0.8582487 (3713)\ttotal: 3m 39s\tremaining: 1m 1s\n",
            "bestTest = 0.8582486808\n",
            "bestIteration = 3713\n",
            "Shrink model to first 3714 iterations.\n",
            "####################\n",
            "0.8603333751501908\n",
            "CPU times: user 1h 15min 30s, sys: 32min 12s, total: 1h 47min 43s\n",
            "Wall time: 1h 16min 22s\n"
          ],
          "name": "stdout"
        }
      ]
    },
    {
      "cell_type": "code",
      "metadata": {
        "colab_type": "code",
        "id": "WJvGbuBN2zZJ",
        "colab": {
          "base_uri": "https://localhost:8080/",
          "height": 270
        },
        "outputId": "d36e57c9-9de0-4a34-b259-e6490d2fc61e"
      },
      "source": [
        "feat_importances = pd.Series(model.feature_importances_, index=X_tr.columns)\n",
        "feat_importances.nlargest(15).plot(kind='barh')\n",
        "plt.show()"
      ],
      "execution_count": null,
      "outputs": [
        {
          "output_type": "display_data",
          "data": {
            "image/png": "[encoded data removed]",
            "text/plain": [
              "<Figure size 432x288 with 1 Axes>"
            ]
          },
          "metadata": {
            "tags": [],
            "needs_background": "light"
          }
        }
      ]
    },
    {
      "cell_type": "code",
      "metadata": {
        "colab_type": "code",
        "id": "zBKV81HC2zZZ",
        "colab": {
          "base_uri": "https://localhost:8080/",
          "height": 206
        },
        "outputId": "81fcfce8-797a-4692-a08a-c4c7394f10ea"
      },
      "source": [
        "test_preds.head()"
      ],
      "execution_count": null,
      "outputs": [
        {
          "output_type": "execute_result",
          "data": {
            "text/html": [
              "<div>\n",
              "<style scoped>\n",
              "    .dataframe tbody tr th:only-of-type {\n",
              "        vertical-align: middle;\n",
              "    }\n",
              "\n",
              "    .dataframe tbody tr th {\n",
              "        vertical-align: top;\n",
              "    }\n",
              "\n",
              "    .dataframe thead th {\n",
              "        text-align: right;\n",
              "    }\n",
              "</style>\n",
              "<table border=\"1\" class=\"dataframe\">\n",
              "  <thead>\n",
              "    <tr style=\"text-align: right;\">\n",
              "      <th></th>\n",
              "      <th>0</th>\n",
              "      <th>0</th>\n",
              "      <th>0</th>\n",
              "      <th>0</th>\n",
              "      <th>0</th>\n",
              "    </tr>\n",
              "  </thead>\n",
              "  <tbody>\n",
              "    <tr>\n",
              "      <th>0</th>\n",
              "      <td>0.001096</td>\n",
              "      <td>0.000909</td>\n",
              "      <td>0.001140</td>\n",
              "      <td>0.001189</td>\n",
              "      <td>0.000965</td>\n",
              "    </tr>\n",
              "    <tr>\n",
              "      <th>1</th>\n",
              "      <td>0.376039</td>\n",
              "      <td>0.339057</td>\n",
              "      <td>0.357577</td>\n",
              "      <td>0.279820</td>\n",
              "      <td>0.345942</td>\n",
              "    </tr>\n",
              "    <tr>\n",
              "      <th>2</th>\n",
              "      <td>0.295327</td>\n",
              "      <td>0.284146</td>\n",
              "      <td>0.298092</td>\n",
              "      <td>0.298246</td>\n",
              "      <td>0.292878</td>\n",
              "    </tr>\n",
              "    <tr>\n",
              "      <th>3</th>\n",
              "      <td>0.006678</td>\n",
              "      <td>0.006077</td>\n",
              "      <td>0.007135</td>\n",
              "      <td>0.007299</td>\n",
              "      <td>0.006007</td>\n",
              "    </tr>\n",
              "    <tr>\n",
              "      <th>4</th>\n",
              "      <td>0.001065</td>\n",
              "      <td>0.000859</td>\n",
              "      <td>0.001113</td>\n",
              "      <td>0.001221</td>\n",
              "      <td>0.000982</td>\n",
              "    </tr>\n",
              "  </tbody>\n",
              "</table>\n",
              "</div>"
            ],
            "text/plain": [
              "          0         0         0         0         0\n",
              "0  0.001096  0.000909  0.001140  0.001189  0.000965\n",
              "1  0.376039  0.339057  0.357577  0.279820  0.345942\n",
              "2  0.295327  0.284146  0.298092  0.298246  0.292878\n",
              "3  0.006678  0.006077  0.007135  0.007299  0.006007\n",
              "4  0.001065  0.000859  0.001113  0.001221  0.000982"
            ]
          },
          "metadata": {
            "tags": []
          },
          "execution_count": 37
        }
      ]
    },
    {
      "cell_type": "code",
      "metadata": {
        "colab_type": "code",
        "id": "vJQuapht2zZj",
        "colab": {
          "base_uri": "https://localhost:8080/",
          "height": 206
        },
        "outputId": "6b12a602-2057-4879-82fd-316a225c4040"
      },
      "source": [
        "tmp = test_preds.copy()\n",
        "preds = pd.DataFrame(tmp.mean(axis=1), columns=['Response'])\n",
        "preds.head()"
      ],
      "execution_count": null,
      "outputs": [
        {
          "output_type": "execute_result",
          "data": {
            "text/html": [
              "<div>\n",
              "<style scoped>\n",
              "    .dataframe tbody tr th:only-of-type {\n",
              "        vertical-align: middle;\n",
              "    }\n",
              "\n",
              "    .dataframe tbody tr th {\n",
              "        vertical-align: top;\n",
              "    }\n",
              "\n",
              "    .dataframe thead th {\n",
              "        text-align: right;\n",
              "    }\n",
              "</style>\n",
              "<table border=\"1\" class=\"dataframe\">\n",
              "  <thead>\n",
              "    <tr style=\"text-align: right;\">\n",
              "      <th></th>\n",
              "      <th>Response</th>\n",
              "    </tr>\n",
              "  </thead>\n",
              "  <tbody>\n",
              "    <tr>\n",
              "      <th>0</th>\n",
              "      <td>0.001060</td>\n",
              "    </tr>\n",
              "    <tr>\n",
              "      <th>1</th>\n",
              "      <td>0.339687</td>\n",
              "    </tr>\n",
              "    <tr>\n",
              "      <th>2</th>\n",
              "      <td>0.293738</td>\n",
              "    </tr>\n",
              "    <tr>\n",
              "      <th>3</th>\n",
              "      <td>0.006639</td>\n",
              "    </tr>\n",
              "    <tr>\n",
              "      <th>4</th>\n",
              "      <td>0.001048</td>\n",
              "    </tr>\n",
              "  </tbody>\n",
              "</table>\n",
              "</div>"
            ],
            "text/plain": [
              "   Response\n",
              "0  0.001060\n",
              "1  0.339687\n",
              "2  0.293738\n",
              "3  0.006639\n",
              "4  0.001048"
            ]
          },
          "metadata": {
            "tags": []
          },
          "execution_count": 38
        }
      ]
    },
    {
      "cell_type": "code",
      "metadata": {
        "colab_type": "code",
        "id": "GW12Tsbb2zZx",
        "colab": {
          "base_uri": "https://localhost:8080/",
          "height": 206
        },
        "outputId": "e1fc1044-ac5b-4209-c87b-80f0402bc911"
      },
      "source": [
        "orig_test = pd.read_csv('/content/test.csv')\n",
        "# preds = pd.DataFrame(model.predict_proba(test)[:, 1], columns=['Response'])\n",
        "preds = pd.concat([orig_test['id'], preds], axis=1)\n",
        "preds.head()"
      ],
      "execution_count": null,
      "outputs": [
        {
          "output_type": "execute_result",
          "data": {
            "text/html": [
              "<div>\n",
              "<style scoped>\n",
              "    .dataframe tbody tr th:only-of-type {\n",
              "        vertical-align: middle;\n",
              "    }\n",
              "\n",
              "    .dataframe tbody tr th {\n",
              "        vertical-align: top;\n",
              "    }\n",
              "\n",
              "    .dataframe thead th {\n",
              "        text-align: right;\n",
              "    }\n",
              "</style>\n",
              "<table border=\"1\" class=\"dataframe\">\n",
              "  <thead>\n",
              "    <tr style=\"text-align: right;\">\n",
              "      <th></th>\n",
              "      <th>id</th>\n",
              "      <th>Response</th>\n",
              "    </tr>\n",
              "  </thead>\n",
              "  <tbody>\n",
              "    <tr>\n",
              "      <th>0</th>\n",
              "      <td>381110</td>\n",
              "      <td>0.001060</td>\n",
              "    </tr>\n",
              "    <tr>\n",
              "      <th>1</th>\n",
              "      <td>381111</td>\n",
              "      <td>0.339687</td>\n",
              "    </tr>\n",
              "    <tr>\n",
              "      <th>2</th>\n",
              "      <td>381112</td>\n",
              "      <td>0.293738</td>\n",
              "    </tr>\n",
              "    <tr>\n",
              "      <th>3</th>\n",
              "      <td>381113</td>\n",
              "      <td>0.006639</td>\n",
              "    </tr>\n",
              "    <tr>\n",
              "      <th>4</th>\n",
              "      <td>381114</td>\n",
              "      <td>0.001048</td>\n",
              "    </tr>\n",
              "  </tbody>\n",
              "</table>\n",
              "</div>"
            ],
            "text/plain": [
              "       id  Response\n",
              "0  381110  0.001060\n",
              "1  381111  0.339687\n",
              "2  381112  0.293738\n",
              "3  381113  0.006639\n",
              "4  381114  0.001048"
            ]
          },
          "metadata": {
            "tags": []
          },
          "execution_count": 39
        }
      ]
    },
    {
      "cell_type": "code",
      "metadata": {
        "colab_type": "code",
        "id": "CwNeVUVe2zZ9",
        "colab": {}
      },
      "source": [
        "preds.to_csv('params_catboost_09202020.csv', index=False)"
      ],
      "execution_count": null,
      "outputs": []
    },
    {
      "cell_type": "markdown",
      "metadata": {
        "id": "bRR87lBi1dZP",
        "colab_type": "text"
      },
      "source": [
        "## Neural Network"
      ]
    },
    {
      "cell_type": "code",
      "metadata": {
        "id": "dyrq4z_L1jGZ",
        "colab_type": "code",
        "colab": {}
      },
      "source": [
        "def baselineNN(dims):\n",
        "    model = Sequential()\n",
        "    model.add(Dense(10, input_dim=dims, activation='relu'))\n",
        "    model.add(Dropout(0.2))\n",
        "    model.add(Dense(1, activation='sigmoid'))\n",
        "    sgd = SGD(lr=0.01, decay=1e-6, momentum=0.9, nesterov=True)\n",
        "    model.compile(loss='BinaryCrossentropy', optimizer='Adam', metrics=['accuracy'])\n",
        "    return model"
      ],
      "execution_count": null,
      "outputs": []
    },
    {
      "cell_type": "code",
      "metadata": {
        "id": "MdMkmA_P1q0V",
        "colab_type": "code",
        "colab": {}
      },
      "source": [
        "def use_keras_nn_model(x, y, xx, yy, epochs):\n",
        "    model = baselineNN(x.shape[1])\n",
        "    model.fit(x, y, epochs=epochs)\n",
        "    y_pred = model.predict(xx).reshape(xx.shape[0],)\n",
        "    return y_pred, model"
      ],
      "execution_count": null,
      "outputs": []
    },
    {
      "cell_type": "code",
      "metadata": {
        "id": "10A1Pois14P8",
        "colab_type": "code",
        "colab": {}
      },
      "source": [
        "train = unified[unified['train']==1]\n",
        "test = unified[unified['train']==0]\n",
        "\n",
        "columns = ['id', 'driving_license', 'region_code', 'previously_insured', \n",
        "           'policy_sales_channel', 'annual_premium', 'age',\n",
        "           'vintage', 'gender_bins', 'vehicle_age_bins', \n",
        "           'vehicle_damage_bins', 'response', 'region_code_age_count',\n",
        "           'region_code_age_mean', 'region_code_age_sd', 'region_code_age_min',\n",
        "           'region_code_age_max',\n",
        "           'region_code_annual_premium_mean', 'region_code_annual_premium_sd',\n",
        "           'region_code_annual_premium_min', 'region_code_annual_premium_max',\n",
        "           'region_code_vintage_mean',\n",
        "           'region_code_vintage_sd', 'region_code_vintage_min',\n",
        "           'region_code_vintage_max', 'policy_sales_channel_age_count',\n",
        "           'policy_sales_channel_age_mean', 'policy_sales_channel_age_sd',\n",
        "           'policy_sales_channel_age_min', 'policy_sales_channel_age_max',\n",
        "           'policy_sales_channel_annual_premium_mean',\n",
        "           'policy_sales_channel_annual_premium_sd',\n",
        "           'policy_sales_channel_annual_premium_min',\n",
        "           'policy_sales_channel_annual_premium_max',\n",
        "           'policy_sales_channel_vintage_mean', 'policy_sales_channel_vintage_sd',\n",
        "           'policy_sales_channel_vintage_min', 'policy_sales_channel_vintage_max']\n",
        "\n",
        "train = train[columns]\n",
        "test = test[columns]\n",
        "\n",
        "# train = train[:10000]\n",
        "\n",
        "train.fillna(0, inplace=True)\n",
        "test.fillna(0, inplace=True)\n",
        "\n",
        "y = train['response']\n",
        "\n",
        "ss = StandardScaler()\n",
        "\n",
        "scaled_train = train.copy()\n",
        "scaled_train = pd.DataFrame(ss.fit_transform(scaled_train), columns=train.columns)\n",
        "\n",
        "scaled_test = test.copy()\n",
        "scaled_test = pd.DataFrame(ss.transform(scaled_test), columns=test.columns)\n",
        "\n",
        "scaled_train.drop(['response', 'id'], axis=1, inplace=True)\n",
        "scaled_test.drop(['response', 'id'], axis=1, inplace=True)"
      ],
      "execution_count": null,
      "outputs": []
    },
    {
      "cell_type": "code",
      "metadata": {
        "id": "D5S6wZyD2LKO",
        "colab_type": "code",
        "colab": {
          "base_uri": "https://localhost:8080/",
          "height": 1000
        },
        "outputId": "756aa6ae-d873-44f7-f2e5-7d551d2cf157"
      },
      "source": [
        "%%time\n",
        "folds = 2\n",
        "seed = [55] #, 231, 12, 958, 9\n",
        "test_preds = pd.DataFrame()\n",
        "\n",
        "X_tr, X_val, y_tr, y_val = train_test_split(scaled_train, y, test_size=0.2, \n",
        "                                            random_state=123)\n",
        "y_pred_nn, model_nn = use_keras_nn_model(X_tr, y_tr, X_val, y_val, 100)"
      ],
      "execution_count": null,
      "outputs": [
        {
          "output_type": "stream",
          "text": [
            "Epoch 1/100\n",
            "9528/9528 [==============================] - 10s 1ms/step - loss: 0.2843 - accuracy: 0.8738\n",
            "Epoch 2/100\n",
            "9528/9528 [==============================] - 10s 1ms/step - loss: 0.2713 - accuracy: 0.8774\n",
            "Epoch 3/100\n",
            "9528/9528 [==============================] - 10s 1ms/step - loss: 0.2704 - accuracy: 0.8773\n",
            "Epoch 4/100\n",
            "9528/9528 [==============================] - 10s 1ms/step - loss: 0.2699 - accuracy: 0.8773\n",
            "Epoch 5/100\n",
            "9528/9528 [==============================] - 10s 1ms/step - loss: 0.2695 - accuracy: 0.8773\n",
            "Epoch 6/100\n",
            "9528/9528 [==============================] - 10s 1ms/step - loss: 0.2695 - accuracy: 0.8773\n",
            "Epoch 7/100\n",
            "9528/9528 [==============================] - 10s 1ms/step - loss: 0.2693 - accuracy: 0.8773\n",
            "Epoch 8/100\n",
            "9528/9528 [==============================] - 10s 1ms/step - loss: 0.2695 - accuracy: 0.8773\n",
            "Epoch 9/100\n",
            "9528/9528 [==============================] - 10s 1ms/step - loss: 0.2691 - accuracy: 0.8773\n",
            "Epoch 10/100\n",
            "9528/9528 [==============================] - 11s 1ms/step - loss: 0.2692 - accuracy: 0.8773\n",
            "Epoch 11/100\n",
            "9528/9528 [==============================] - 10s 1ms/step - loss: 0.2691 - accuracy: 0.8774\n",
            "Epoch 12/100\n",
            "9528/9528 [==============================] - 10s 1ms/step - loss: 0.2688 - accuracy: 0.8773\n",
            "Epoch 13/100\n",
            "9528/9528 [==============================] - 10s 1ms/step - loss: 0.2687 - accuracy: 0.8773\n",
            "Epoch 14/100\n",
            "9528/9528 [==============================] - 10s 1ms/step - loss: 0.2688 - accuracy: 0.8773\n",
            "Epoch 15/100\n",
            "9528/9528 [==============================] - 11s 1ms/step - loss: 0.2687 - accuracy: 0.8773\n",
            "Epoch 16/100\n",
            "9528/9528 [==============================] - 11s 1ms/step - loss: 0.2687 - accuracy: 0.8774\n",
            "Epoch 17/100\n",
            "9528/9528 [==============================] - 10s 1ms/step - loss: 0.2687 - accuracy: 0.8773\n",
            "Epoch 18/100\n",
            "9528/9528 [==============================] - 10s 1ms/step - loss: 0.2685 - accuracy: 0.8773\n",
            "Epoch 19/100\n",
            "9528/9528 [==============================] - 10s 1ms/step - loss: 0.2686 - accuracy: 0.8773\n",
            "Epoch 20/100\n",
            "9528/9528 [==============================] - 10s 1ms/step - loss: 0.2687 - accuracy: 0.8773\n",
            "Epoch 21/100\n",
            "9528/9528 [==============================] - 10s 1ms/step - loss: 0.2686 - accuracy: 0.8773\n",
            "Epoch 22/100\n",
            "9528/9528 [==============================] - 10s 1ms/step - loss: 0.2687 - accuracy: 0.8774\n",
            "Epoch 23/100\n",
            "9528/9528 [==============================] - 10s 1ms/step - loss: 0.2688 - accuracy: 0.8774\n",
            "Epoch 24/100\n",
            "9528/9528 [==============================] - 10s 1ms/step - loss: 0.2687 - accuracy: 0.8773\n",
            "Epoch 25/100\n",
            "9528/9528 [==============================] - 10s 1ms/step - loss: 0.2686 - accuracy: 0.8772\n",
            "Epoch 26/100\n",
            "9528/9528 [==============================] - 10s 1ms/step - loss: 0.2686 - accuracy: 0.8773\n",
            "Epoch 27/100\n",
            "9528/9528 [==============================] - 10s 1ms/step - loss: 0.2686 - accuracy: 0.8773\n",
            "Epoch 28/100\n",
            "9528/9528 [==============================] - 10s 1ms/step - loss: 0.2687 - accuracy: 0.8773\n",
            "Epoch 29/100\n",
            "9528/9528 [==============================] - 10s 1ms/step - loss: 0.2684 - accuracy: 0.8773\n",
            "Epoch 30/100\n",
            "9528/9528 [==============================] - 10s 1ms/step - loss: 0.2681 - accuracy: 0.8772\n",
            "Epoch 31/100\n",
            "9528/9528 [==============================] - 10s 1ms/step - loss: 0.2683 - accuracy: 0.8773\n",
            "Epoch 32/100\n",
            "9528/9528 [==============================] - 10s 1ms/step - loss: 0.2685 - accuracy: 0.8773\n",
            "Epoch 33/100\n",
            "9528/9528 [==============================] - 10s 1ms/step - loss: 0.2684 - accuracy: 0.8773\n",
            "Epoch 34/100\n",
            "9528/9528 [==============================] - 10s 1ms/step - loss: 0.2683 - accuracy: 0.8772\n",
            "Epoch 35/100\n",
            "9528/9528 [==============================] - 10s 1ms/step - loss: 0.2684 - accuracy: 0.8774\n",
            "Epoch 36/100\n",
            "9528/9528 [==============================] - 10s 1ms/step - loss: 0.2683 - accuracy: 0.8773\n",
            "Epoch 37/100\n",
            "9528/9528 [==============================] - 10s 1ms/step - loss: 0.2685 - accuracy: 0.8772\n",
            "Epoch 38/100\n",
            "9528/9528 [==============================] - 10s 1ms/step - loss: 0.2683 - accuracy: 0.8772\n",
            "Epoch 39/100\n",
            "9528/9528 [==============================] - 10s 1ms/step - loss: 0.2682 - accuracy: 0.8773\n",
            "Epoch 40/100\n",
            "9528/9528 [==============================] - 10s 1ms/step - loss: 0.2684 - accuracy: 0.8773\n",
            "Epoch 41/100\n",
            "9528/9528 [==============================] - 11s 1ms/step - loss: 0.2682 - accuracy: 0.8773\n",
            "Epoch 42/100\n",
            "9528/9528 [==============================] - 10s 1ms/step - loss: 0.2683 - accuracy: 0.8773\n",
            "Epoch 43/100\n",
            "9528/9528 [==============================] - 10s 1ms/step - loss: 0.2685 - accuracy: 0.8772\n",
            "Epoch 44/100\n",
            "9528/9528 [==============================] - 10s 1ms/step - loss: 0.2683 - accuracy: 0.8773\n",
            "Epoch 45/100\n",
            "9528/9528 [==============================] - 10s 1ms/step - loss: 0.2682 - accuracy: 0.8774\n",
            "Epoch 46/100\n",
            "9528/9528 [==============================] - 10s 1ms/step - loss: 0.2683 - accuracy: 0.8772\n",
            "Epoch 47/100\n",
            "9528/9528 [==============================] - 11s 1ms/step - loss: 0.2682 - accuracy: 0.8772\n",
            "Epoch 48/100\n",
            "9528/9528 [==============================] - 10s 1ms/step - loss: 0.2682 - accuracy: 0.8773\n",
            "Epoch 49/100\n",
            "9528/9528 [==============================] - 10s 1ms/step - loss: 0.2682 - accuracy: 0.8772\n",
            "Epoch 50/100\n",
            "9528/9528 [==============================] - 13s 1ms/step - loss: 0.2684 - accuracy: 0.8773\n",
            "Epoch 51/100\n",
            "9528/9528 [==============================] - 10s 1ms/step - loss: 0.2682 - accuracy: 0.8773\n",
            "Epoch 52/100\n",
            "9528/9528 [==============================] - 10s 1ms/step - loss: 0.2682 - accuracy: 0.8772\n",
            "Epoch 53/100\n",
            "9528/9528 [==============================] - 10s 1ms/step - loss: 0.2681 - accuracy: 0.8773\n",
            "Epoch 54/100\n",
            "9528/9528 [==============================] - 10s 1ms/step - loss: 0.2681 - accuracy: 0.8772\n",
            "Epoch 55/100\n",
            "9528/9528 [==============================] - 10s 1ms/step - loss: 0.2682 - accuracy: 0.8773\n",
            "Epoch 56/100\n",
            "9528/9528 [==============================] - 10s 1ms/step - loss: 0.2680 - accuracy: 0.8772\n",
            "Epoch 57/100\n",
            "9528/9528 [==============================] - 10s 1ms/step - loss: 0.2683 - accuracy: 0.8772\n",
            "Epoch 58/100\n",
            "9528/9528 [==============================] - 10s 1ms/step - loss: 0.2682 - accuracy: 0.8772\n",
            "Epoch 59/100\n",
            "9528/9528 [==============================] - 10s 1ms/step - loss: 0.2681 - accuracy: 0.8773\n",
            "Epoch 60/100\n",
            "9528/9528 [==============================] - 10s 1ms/step - loss: 0.2681 - accuracy: 0.8773\n",
            "Epoch 61/100\n",
            "9528/9528 [==============================] - 10s 1ms/step - loss: 0.2682 - accuracy: 0.8773\n",
            "Epoch 62/100\n",
            "9528/9528 [==============================] - 10s 1ms/step - loss: 0.2679 - accuracy: 0.8773\n",
            "Epoch 63/100\n",
            "9528/9528 [==============================] - 10s 1ms/step - loss: 0.2682 - accuracy: 0.8772\n",
            "Epoch 64/100\n",
            "9528/9528 [==============================] - 10s 1ms/step - loss: 0.2682 - accuracy: 0.8772\n",
            "Epoch 65/100\n",
            "9528/9528 [==============================] - 10s 1ms/step - loss: 0.2682 - accuracy: 0.8773\n",
            "Epoch 66/100\n",
            "9528/9528 [==============================] - 11s 1ms/step - loss: 0.2681 - accuracy: 0.8772\n",
            "Epoch 67/100\n",
            "9528/9528 [==============================] - 11s 1ms/step - loss: 0.2680 - accuracy: 0.8772\n",
            "Epoch 68/100\n",
            "9528/9528 [==============================] - 11s 1ms/step - loss: 0.2680 - accuracy: 0.8773\n",
            "Epoch 69/100\n",
            "9528/9528 [==============================] - 11s 1ms/step - loss: 0.2681 - accuracy: 0.8773\n",
            "Epoch 70/100\n",
            "9528/9528 [==============================] - 10s 1ms/step - loss: 0.2682 - accuracy: 0.8772\n",
            "Epoch 71/100\n",
            "9528/9528 [==============================] - 11s 1ms/step - loss: 0.2683 - accuracy: 0.8773\n",
            "Epoch 72/100\n",
            "9528/9528 [==============================] - 10s 1ms/step - loss: 0.2683 - accuracy: 0.8773\n",
            "Epoch 73/100\n",
            "9528/9528 [==============================] - 10s 1ms/step - loss: 0.2685 - accuracy: 0.8771\n",
            "Epoch 74/100\n",
            "9528/9528 [==============================] - 10s 1ms/step - loss: 0.2681 - accuracy: 0.8773\n",
            "Epoch 75/100\n",
            "9528/9528 [==============================] - 10s 1ms/step - loss: 0.2681 - accuracy: 0.8772\n",
            "Epoch 76/100\n",
            "9528/9528 [==============================] - 10s 1ms/step - loss: 0.2681 - accuracy: 0.8772\n",
            "Epoch 77/100\n",
            "9528/9528 [==============================] - 11s 1ms/step - loss: 0.2681 - accuracy: 0.8772\n",
            "Epoch 78/100\n",
            "9528/9528 [==============================] - 10s 1ms/step - loss: 0.2682 - accuracy: 0.8772\n",
            "Epoch 79/100\n",
            "9528/9528 [==============================] - 10s 1ms/step - loss: 0.2679 - accuracy: 0.8773\n",
            "Epoch 80/100\n",
            "9528/9528 [==============================] - 10s 1ms/step - loss: 0.2681 - accuracy: 0.8773\n",
            "Epoch 81/100\n",
            "9528/9528 [==============================] - 10s 1ms/step - loss: 0.2681 - accuracy: 0.8773\n",
            "Epoch 82/100\n",
            "9528/9528 [==============================] - 11s 1ms/step - loss: 0.2680 - accuracy: 0.8773\n",
            "Epoch 83/100\n",
            "9528/9528 [==============================] - 10s 1ms/step - loss: 0.2680 - accuracy: 0.8773\n",
            "Epoch 84/100\n",
            "9528/9528 [==============================] - 10s 1ms/step - loss: 0.2680 - accuracy: 0.8772\n",
            "Epoch 85/100\n",
            "9528/9528 [==============================] - 10s 1ms/step - loss: 0.2680 - accuracy: 0.8773\n",
            "Epoch 86/100\n",
            "9528/9528 [==============================] - 10s 1ms/step - loss: 0.2680 - accuracy: 0.8773\n",
            "Epoch 87/100\n",
            "9528/9528 [==============================] - 10s 1ms/step - loss: 0.2680 - accuracy: 0.8773\n",
            "Epoch 88/100\n",
            "9528/9528 [==============================] - 10s 1ms/step - loss: 0.2682 - accuracy: 0.8772\n",
            "Epoch 89/100\n",
            "9528/9528 [==============================] - 10s 1ms/step - loss: 0.2680 - accuracy: 0.8772\n",
            "Epoch 90/100\n",
            "9528/9528 [==============================] - 10s 1ms/step - loss: 0.2680 - accuracy: 0.8772\n",
            "Epoch 91/100\n",
            "9528/9528 [==============================] - 10s 1ms/step - loss: 0.2680 - accuracy: 0.8772\n",
            "Epoch 92/100\n",
            "9528/9528 [==============================] - 10s 1ms/step - loss: 0.2679 - accuracy: 0.8774\n",
            "Epoch 93/100\n",
            "9528/9528 [==============================] - 10s 1ms/step - loss: 0.2678 - accuracy: 0.8773\n",
            "Epoch 94/100\n",
            "9528/9528 [==============================] - 10s 1ms/step - loss: 0.2680 - accuracy: 0.8772\n",
            "Epoch 95/100\n",
            "9528/9528 [==============================] - 10s 1ms/step - loss: 0.2681 - accuracy: 0.8772\n",
            "Epoch 96/100\n",
            "9528/9528 [==============================] - 10s 1ms/step - loss: 0.2680 - accuracy: 0.8772\n",
            "Epoch 97/100\n",
            "9528/9528 [==============================] - 10s 1ms/step - loss: 0.2681 - accuracy: 0.8772\n",
            "Epoch 98/100\n",
            "9528/9528 [==============================] - 10s 1ms/step - loss: 0.2680 - accuracy: 0.8772\n",
            "Epoch 99/100\n",
            "9528/9528 [==============================] - 10s 1ms/step - loss: 0.2681 - accuracy: 0.8772\n",
            "Epoch 100/100\n",
            "9528/9528 [==============================] - 10s 1ms/step - loss: 0.2682 - accuracy: 0.8773\n",
            "CPU times: user 19min 47s, sys: 1min 27s, total: 21min 15s\n",
            "Wall time: 16min 52s\n"
          ],
          "name": "stdout"
        }
      ]
    },
    {
      "cell_type": "code",
      "metadata": {
        "id": "-D14qb9KIoZx",
        "colab_type": "code",
        "colab": {
          "base_uri": "https://localhost:8080/",
          "height": 281
        },
        "outputId": "8c206292-6be4-44ca-abef-db7f01818197"
      },
      "source": [
        "preds = pd.DataFrame(model_nn.predict_proba(scaled_test), columns=['Response'])\n",
        "preds.head()"
      ],
      "execution_count": null,
      "outputs": [
        {
          "output_type": "stream",
          "text": [
            "WARNING:tensorflow:From <ipython-input-86-c31d1abe6a02>:1: Sequential.predict_proba (from tensorflow.python.keras.engine.sequential) is deprecated and will be removed after 2021-01-01.\n",
            "Instructions for updating:\n",
            "Please use `model.predict()` instead.\n"
          ],
          "name": "stdout"
        },
        {
          "output_type": "execute_result",
          "data": {
            "text/html": [
              "<div>\n",
              "<style scoped>\n",
              "    .dataframe tbody tr th:only-of-type {\n",
              "        vertical-align: middle;\n",
              "    }\n",
              "\n",
              "    .dataframe tbody tr th {\n",
              "        vertical-align: top;\n",
              "    }\n",
              "\n",
              "    .dataframe thead th {\n",
              "        text-align: right;\n",
              "    }\n",
              "</style>\n",
              "<table border=\"1\" class=\"dataframe\">\n",
              "  <thead>\n",
              "    <tr style=\"text-align: right;\">\n",
              "      <th></th>\n",
              "      <th>Response</th>\n",
              "    </tr>\n",
              "  </thead>\n",
              "  <tbody>\n",
              "    <tr>\n",
              "      <th>0</th>\n",
              "      <td>0.000143</td>\n",
              "    </tr>\n",
              "    <tr>\n",
              "      <th>1</th>\n",
              "      <td>0.313696</td>\n",
              "    </tr>\n",
              "    <tr>\n",
              "      <th>2</th>\n",
              "      <td>0.284198</td>\n",
              "    </tr>\n",
              "    <tr>\n",
              "      <th>3</th>\n",
              "      <td>0.002229</td>\n",
              "    </tr>\n",
              "    <tr>\n",
              "      <th>4</th>\n",
              "      <td>0.000183</td>\n",
              "    </tr>\n",
              "  </tbody>\n",
              "</table>\n",
              "</div>"
            ],
            "text/plain": [
              "   Response\n",
              "0  0.000143\n",
              "1  0.313696\n",
              "2  0.284198\n",
              "3  0.002229\n",
              "4  0.000183"
            ]
          },
          "metadata": {
            "tags": []
          },
          "execution_count": 86
        }
      ]
    },
    {
      "cell_type": "code",
      "metadata": {
        "colab_type": "code",
        "id": "Xdud7JOvE4Ie",
        "colab": {
          "base_uri": "https://localhost:8080/",
          "height": 206
        },
        "outputId": "11206a26-9ada-4b07-f6b8-2fa52862dba5"
      },
      "source": [
        "orig_test = pd.read_csv('/content/test.csv')\n",
        "# preds = pd.DataFrame(model.predict_proba(test)[:, 1], columns=['Response'])\n",
        "preds = pd.concat([orig_test['id'], preds], axis=1)\n",
        "preds.head()"
      ],
      "execution_count": null,
      "outputs": [
        {
          "output_type": "execute_result",
          "data": {
            "text/html": [
              "<div>\n",
              "<style scoped>\n",
              "    .dataframe tbody tr th:only-of-type {\n",
              "        vertical-align: middle;\n",
              "    }\n",
              "\n",
              "    .dataframe tbody tr th {\n",
              "        vertical-align: top;\n",
              "    }\n",
              "\n",
              "    .dataframe thead th {\n",
              "        text-align: right;\n",
              "    }\n",
              "</style>\n",
              "<table border=\"1\" class=\"dataframe\">\n",
              "  <thead>\n",
              "    <tr style=\"text-align: right;\">\n",
              "      <th></th>\n",
              "      <th>id</th>\n",
              "      <th>Response</th>\n",
              "    </tr>\n",
              "  </thead>\n",
              "  <tbody>\n",
              "    <tr>\n",
              "      <th>0</th>\n",
              "      <td>381110</td>\n",
              "      <td>0.000143</td>\n",
              "    </tr>\n",
              "    <tr>\n",
              "      <th>1</th>\n",
              "      <td>381111</td>\n",
              "      <td>0.313696</td>\n",
              "    </tr>\n",
              "    <tr>\n",
              "      <th>2</th>\n",
              "      <td>381112</td>\n",
              "      <td>0.284198</td>\n",
              "    </tr>\n",
              "    <tr>\n",
              "      <th>3</th>\n",
              "      <td>381113</td>\n",
              "      <td>0.002229</td>\n",
              "    </tr>\n",
              "    <tr>\n",
              "      <th>4</th>\n",
              "      <td>381114</td>\n",
              "      <td>0.000183</td>\n",
              "    </tr>\n",
              "  </tbody>\n",
              "</table>\n",
              "</div>"
            ],
            "text/plain": [
              "       id  Response\n",
              "0  381110  0.000143\n",
              "1  381111  0.313696\n",
              "2  381112  0.284198\n",
              "3  381113  0.002229\n",
              "4  381114  0.000183"
            ]
          },
          "metadata": {
            "tags": []
          },
          "execution_count": 87
        }
      ]
    },
    {
      "cell_type": "code",
      "metadata": {
        "colab_type": "code",
        "id": "-r_VuzDAE4JO",
        "colab": {}
      },
      "source": [
        "preds.to_csv('nn_09192020.csv', index=False)"
      ],
      "execution_count": null,
      "outputs": []
    },
    {
      "cell_type": "markdown",
      "metadata": {
        "id": "I1AgajjZMSYj",
        "colab_type": "text"
      },
      "source": [
        "## LightGBM Hyperparameter Optimization"
      ]
    },
    {
      "cell_type": "code",
      "metadata": {
        "id": "cxGSbZREMV5s",
        "colab_type": "code",
        "colab": {}
      },
      "source": [
        "train = unified[unified['train']==1]\n",
        "test = unified[unified['train']==0]\n",
        "\n",
        "columns = ['id', 'driving_license', 'region_code', 'previously_insured', \n",
        "           'policy_sales_channel', 'annual_premium', 'age',\n",
        "           'vintage', 'gender_bins', 'vehicle_age_bins', \n",
        "           'vehicle_damage_bins', 'response', 'region_code_age_count',\n",
        "           'region_code_age_mean', 'region_code_age_sd', 'region_code_age_min',\n",
        "           'region_code_age_max',\n",
        "           'region_code_annual_premium_mean', 'region_code_annual_premium_sd',\n",
        "           'region_code_annual_premium_min', 'region_code_annual_premium_max',\n",
        "           'region_code_vintage_mean',\n",
        "           'region_code_vintage_sd', 'region_code_vintage_min',\n",
        "           'region_code_vintage_max', 'policy_sales_channel_age_count',\n",
        "           'policy_sales_channel_age_mean', 'policy_sales_channel_age_sd',\n",
        "           'policy_sales_channel_age_min', 'policy_sales_channel_age_max',\n",
        "           'policy_sales_channel_annual_premium_mean',\n",
        "           'policy_sales_channel_annual_premium_sd',\n",
        "           'policy_sales_channel_annual_premium_min',\n",
        "           'policy_sales_channel_annual_premium_max',\n",
        "           'policy_sales_channel_vintage_mean', 'policy_sales_channel_vintage_sd',\n",
        "           'policy_sales_channel_vintage_min', 'policy_sales_channel_vintage_max']\n",
        "\n",
        "train = train[columns]\n",
        "test = test[columns]\n",
        "\n",
        "# train = train[:100]\n",
        "\n",
        "y = train['response']\n",
        "train.drop(['response', 'id'], axis=1, inplace=True)\n",
        "test.drop(['response', 'id'], axis=1, inplace=True)"
      ],
      "execution_count": null,
      "outputs": []
    },
    {
      "cell_type": "code",
      "metadata": {
        "id": "0B9KuQNYMgl-",
        "colab_type": "code",
        "colab": {
          "base_uri": "https://localhost:8080/",
          "height": 237
        },
        "outputId": "55ca4e71-4aa4-4cc2-fbe3-4681e87ae881"
      },
      "source": [
        "%%time\n",
        "param_grid_lgbm = {\n",
        "      'max_depth' : [5,6,7,8]\n",
        "    , 'learning_rate' : [0.01, 0.1, 0.2]\n",
        "    , 'subsample' : [0.6, 0.7, 0.8]\n",
        "    , 'colsample_bytree' : [0.6, 0.7, 0.8]    \n",
        "}\n",
        "\n",
        "model_lgbm = LGBMClassifier(     \n",
        "      boosting_type = 'gbdt'\n",
        "    , objective = 'binary'\n",
        "    , n_estimators = 1000\n",
        ")\n",
        "\n",
        "hp_lgbm = GridSearchCV(model_lgbm, param_grid=param_grid_lgbm, n_jobs=-1, \n",
        "                       verbose=1, cv=2)\n",
        "hp_lgbm.fit(train, y)\n",
        "\n",
        "print(f'Best params are: {hp_lgbm.best_params_}')\n",
        "print(f'Best score is: {hp_lgbm.best_score_}')"
      ],
      "execution_count": null,
      "outputs": [
        {
          "output_type": "stream",
          "text": [
            "Fitting 2 folds for each of 108 candidates, totalling 216 fits\n"
          ],
          "name": "stdout"
        },
        {
          "output_type": "stream",
          "text": [
            "[Parallel(n_jobs=-1)]: Using backend LokyBackend with 2 concurrent workers.\n",
            "/usr/local/lib/python3.6/dist-packages/joblib/externals/loky/process_executor.py:691: UserWarning: A worker stopped while some jobs were given to the executor. This can be caused by a too short worker timeout or by a memory leak.\n",
            "  \"timeout or by a memory leak.\", UserWarning\n",
            "[Parallel(n_jobs=-1)]: Done  46 tasks      | elapsed: 18.7min\n",
            "[Parallel(n_jobs=-1)]: Done 196 tasks      | elapsed: 84.5min\n",
            "[Parallel(n_jobs=-1)]: Done 216 out of 216 | elapsed: 93.4min finished\n"
          ],
          "name": "stderr"
        },
        {
          "output_type": "stream",
          "text": [
            "Best params are: {'colsample_bytree': 0.8, 'learning_rate': 0.01, 'max_depth': 7, 'subsample': 0.6}\n",
            "Best score is: 0.8775547152135476\n",
            "CPU times: user 1min 41s, sys: 703 ms, total: 1min 42s\n",
            "Wall time: 1h 34min 14s\n"
          ],
          "name": "stdout"
        }
      ]
    },
    {
      "cell_type": "code",
      "metadata": {
        "id": "Uh9qPnTKKn4Q",
        "colab_type": "code",
        "colab": {}
      },
      "source": [
        ""
      ],
      "execution_count": null,
      "outputs": []
    }
  ]
}
